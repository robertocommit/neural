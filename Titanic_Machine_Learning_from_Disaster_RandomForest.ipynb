{
  "nbformat": 4,
  "nbformat_minor": 0,
  "metadata": {
    "colab": {
      "name": "Titanic: Machine Learning from Disaster_RandomForest.ipynb",
      "provenance": [],
      "collapsed_sections": [],
      "authorship_tag": "ABX9TyN3wo0UFp80Mz9VgfjLh2pe",
      "include_colab_link": true
    },
    "kernelspec": {
      "name": "python3",
      "display_name": "Python 3"
    },
    "accelerator": "GPU"
  },
  "cells": [
    {
      "cell_type": "markdown",
      "metadata": {
        "id": "view-in-github",
        "colab_type": "text"
      },
      "source": [
        "<a href=\"https://colab.research.google.com/github/robimalco/colab/blob/main/Titanic_Machine_Learning_from_Disaster_RandomForest.ipynb\" target=\"_parent\"><img src=\"https://colab.research.google.com/assets/colab-badge.svg\" alt=\"Open In Colab\"/></a>"
      ]
    },
    {
      "cell_type": "code",
      "metadata": {
        "id": "35Gab4RH7kRj"
      },
      "source": [
        "!pip install -q kaggle"
      ],
      "execution_count": 1,
      "outputs": []
    },
    {
      "cell_type": "code",
      "metadata": {
        "id": "nCh6gWUa8Ue_"
      },
      "source": [
        "from google.colab import files"
      ],
      "execution_count": 2,
      "outputs": []
    },
    {
      "cell_type": "code",
      "metadata": {
        "id": "Wp3MikqX8W3M"
      },
      "source": [
        "files.upload()"
      ],
      "execution_count": null,
      "outputs": []
    },
    {
      "cell_type": "code",
      "metadata": {
        "id": "tZqQJv1X8ZYi"
      },
      "source": [
        "#!mkdir ~/.kaggle\n",
        "#!cp kaggle.json ~/.kaggle/\n",
        "!chmod 600 ~/.kaggle/kaggle.json"
      ],
      "execution_count": 7,
      "outputs": []
    },
    {
      "cell_type": "code",
      "metadata": {
        "id": "wx98snIy8diy"
      },
      "source": [
        "!kaggle datasets list"
      ],
      "execution_count": null,
      "outputs": []
    },
    {
      "cell_type": "code",
      "metadata": {
        "id": "n0xRj1RU8h_m"
      },
      "source": [
        "!kaggle competitions download -c titanic"
      ],
      "execution_count": null,
      "outputs": []
    },
    {
      "cell_type": "markdown",
      "metadata": {
        "id": "6LJhFeCF_Ie7"
      },
      "source": [
        "# START"
      ]
    },
    {
      "cell_type": "code",
      "metadata": {
        "id": "fm5ybphV_KqE"
      },
      "source": [
        "import json\n",
        "import numpy as np\n",
        "import pandas as pd\n",
        "import torch\n",
        "\n",
        "from sklearn.svm import SVC\n",
        "from sklearn.metrics import accuracy_score\n",
        "from sklearn.pipeline import make_pipeline\n",
        "from sklearn.preprocessing import StandardScaler\n",
        "from sklearn.model_selection import GridSearchCV\n",
        "from sklearn.ensemble import RandomForestClassifier\n",
        "from sklearn.model_selection import cross_val_score\n",
        "from sklearn.model_selection import train_test_split\n",
        "\n",
        "import xgboost as xgb\n",
        "from hyperopt import hp, tpe, fmin"
      ],
      "execution_count": 10,
      "outputs": []
    },
    {
      "cell_type": "code",
      "metadata": {
        "id": "121_vnK4_q1c"
      },
      "source": [
        "train_df = pd.read_csv('train.csv')\n",
        "train_df['df_source'] = 'train.csv'\n",
        "\n",
        "test_df = pd.read_csv('test.csv')\n",
        "test_df['df_source'] = 'test.csv'\n",
        "\n",
        "total_df = pd.concat([train_df, test_df])"
      ],
      "execution_count": 97,
      "outputs": []
    },
    {
      "cell_type": "code",
      "metadata": {
        "id": "e457G6xW3Wyi"
      },
      "source": [
        "# Diplay null values of each column\n",
        "total_df.isnull().sum()"
      ],
      "execution_count": null,
      "outputs": []
    },
    {
      "cell_type": "code",
      "metadata": {
        "id": "_eDuPvxoHeeH"
      },
      "source": [
        "# Manage names creating TitleCluster\n",
        "\n",
        "Title_Dictionary = {\n",
        "    \"Capt\": \"Officer\",\n",
        "    \"Col\": \"Officer\",\n",
        "    \"Major\": \"Officer\",\n",
        "    \"Jonkheer\": \"Royalty\",\n",
        "    \"Don\": \"Royalty\",\n",
        "    \"Sir\" : \"Royalty\",\n",
        "    \"Dr\": \"Officer\",\n",
        "    \"Rev\": \"Officer\",\n",
        "    \"the Countess\":\"Royalty\",\n",
        "    \"Mme\": \"Mrs\",\n",
        "    \"Mlle\": \"Miss\",\n",
        "    \"Ms\": \"Mrs\",\n",
        "    \"Mr\" : \"Mr\",\n",
        "    \"Mrs\" : \"Mrs\",\n",
        "    \"Dona\" : \"Mrs\",\n",
        "    \"Miss\" : \"Miss\",\n",
        "    \"Master\" : \"Master\",\n",
        "    \"Lady\" : \"Royalty\"\n",
        "}\n",
        "\n",
        "def get_titles(x):\n",
        "    title = x['Name'].split(',')[1].split('.')[0].strip()\n",
        "    return Title_Dictionary[title]\n",
        "total_df['TitleCluster'] = total_df.apply(get_titles, axis=1)"
      ],
      "execution_count": 12,
      "outputs": []
    },
    {
      "cell_type": "code",
      "metadata": {
        "id": "tS0b6KaUQJlx"
      },
      "source": [
        "# Manage missing age and create AgeCluster\n",
        "\n",
        "def fill_missing_age(x):\n",
        "    age = x['Age']\n",
        "    if np.isnan(age):\n",
        "      return total_df[\n",
        "        (total_df['TitleCluster'] == x['TitleCluster']) &\n",
        "        (total_df['Sex'] == x['Sex']) &\n",
        "        (total_df['Pclass'] == x['Pclass'])\n",
        "      ]['Age'].median()\n",
        "    else:\n",
        "      return age\n",
        "\n",
        "total_df['Age'] = total_df.apply(fill_missing_age, axis=1)\n",
        "\n",
        "def cluster_age(x):\n",
        "    age = x['Age']\n",
        "    if age < 5:\n",
        "      return 0\n",
        "    elif age < 10:\n",
        "      return 1\n",
        "    elif age < 20:\n",
        "      return 2\n",
        "    elif age < 30:\n",
        "      return 3\n",
        "    elif age < 40:\n",
        "      return 4\n",
        "    elif age < 50:\n",
        "      return 5\n",
        "    elif age < 60:\n",
        "      return 6\n",
        "    else:\n",
        "      return 7\n",
        "total_df['AgeCluster'] = total_df.apply(cluster_age, axis=1)"
      ],
      "execution_count": 13,
      "outputs": []
    },
    {
      "cell_type": "code",
      "metadata": {
        "id": "Dwfu7steBeOc"
      },
      "source": [
        "# Manage tickets\n",
        "\n",
        "total_df['TicketCluster'] = total_df['Ticket'].str[0]\n",
        "total_df['TicketCluster'] = np.where(total_df[\"TicketCluster\"].str.isdigit(), \"X\", total_df[\"TicketCluster\"])"
      ],
      "execution_count": 14,
      "outputs": []
    },
    {
      "cell_type": "code",
      "metadata": {
        "id": "b6W3m_4CSCZj"
      },
      "source": [
        "# Manage missing embarked\n",
        "\n",
        "def fill_missing_embarked(x):\n",
        "    embarked = x['Embarked']\n",
        "    if embarked != embarked:\n",
        "      return \"X\"\n",
        "    else:\n",
        "      return embarked\n",
        "\n",
        "total_df['Embarked'] = total_df.apply(fill_missing_embarked, axis=1)"
      ],
      "execution_count": 15,
      "outputs": []
    },
    {
      "cell_type": "code",
      "metadata": {
        "id": "PUsfiwmU9RJJ"
      },
      "source": [
        "# Manage family\n",
        "\n",
        "def cluster_family(x):\n",
        "    pcSib = x['SibSp'] + x['Pclass'] + 1\n",
        "    if pcSib < 2:\n",
        "        return 'Single'\n",
        "    elif pcSib == 2:\n",
        "        return 'Couple'\n",
        "    elif pcSib <= 4:\n",
        "        return 'InterM'\n",
        "    else:\n",
        "        return 'Large'\n",
        "    \n",
        "total_df['FamilyCluster'] = total_df.apply(cluster_family, axis=1)"
      ],
      "execution_count": 16,
      "outputs": []
    },
    {
      "cell_type": "code",
      "metadata": {
        "id": "8eiBZHlADF7E"
      },
      "source": [
        "# Manage fare\n",
        "\n",
        "def fill_missing_fare(x):\n",
        "  fare = x['Fare']\n",
        "  if fare == 0:\n",
        "      return total_df[\n",
        "        (total_df['TitleCluster'] == x['TitleCluster']) &\n",
        "        (total_df['Sex'] == x['Sex']) &\n",
        "        (total_df['Pclass'] == x['Pclass'])\n",
        "      ]['Fare'].median()\n",
        "  else:\n",
        "    return fare\n",
        "\n",
        "total_df['Fare'] = total_df.apply(fill_missing_fare, axis=1)\n",
        "\n",
        "def cluster_fare(x):\n",
        "    fare = x['Fare']\n",
        "    if fare < 51:\n",
        "        return 0\n",
        "    elif fare < 101:\n",
        "        return 1\n",
        "    else:\n",
        "        return 2\n",
        "\n",
        "total_df['FareCluster'] = total_df.apply(cluster_fare, axis=1)"
      ],
      "execution_count": 17,
      "outputs": []
    },
    {
      "cell_type": "code",
      "metadata": {
        "id": "iC9RgmvavedP"
      },
      "source": [
        "# total_df['Name'].str.split(\",\").str[0].iloc[888]\n",
        "\n",
        "total_df['FamilyCode'] = total_df['Name'].str.split(\",\").str[0] + \" | \" + total_df['Pclass'].astype(str) + \" | \" + total_df['Ticket'].str[:-1] + \" | \" + total_df['Ticket'].str[:-1]"
      ],
      "execution_count": 82,
      "outputs": []
    },
    {
      "cell_type": "code",
      "metadata": {
        "id": "Qk_7dg-7_u8m"
      },
      "source": [
        "categorical_columns = ['Survived', 'df_source', 'Pclass', 'Sex', 'Embarked', 'AgeCluster', 'FareCluster', 'TicketCluster', 'TitleCluster', 'FamilyCluster', 'FamilyCode']\n",
        "cat_total_df = total_df[categorical_columns]"
      ],
      "execution_count": 83,
      "outputs": []
    },
    {
      "cell_type": "code",
      "metadata": {
        "id": "Zqg65ayzyjYY"
      },
      "source": [
        "dummy_total_df = pd.get_dummies(cat_total_df)"
      ],
      "execution_count": 84,
      "outputs": []
    },
    {
      "cell_type": "code",
      "metadata": {
        "id": "UVwpOqdIyjMG"
      },
      "source": [
        "train_total_df = dummy_total_df[dummy_total_df['df_source_train.csv'] == 1]\n",
        "test_total_df = dummy_total_df[dummy_total_df['df_source_test.csv'] == 1]"
      ],
      "execution_count": 85,
      "outputs": []
    },
    {
      "cell_type": "code",
      "metadata": {
        "id": "uWqcPDO9zQB5"
      },
      "source": [
        "pd.options.mode.chained_assignment = None\n",
        "train_total_df.Survived = train_total_df.Survived.astype('int')\n",
        "xtrain = train_total_df.drop(\"Survived\", axis=1)\n",
        "ytrain = train_total_df['Survived']\n",
        "xtest = test_total_df.drop(\"Survived\", axis=1)"
      ],
      "execution_count": 86,
      "outputs": []
    },
    {
      "cell_type": "markdown",
      "metadata": {
        "id": "JsxKkIlqtEAW"
      },
      "source": [
        "# Random Forest"
      ]
    },
    {
      "cell_type": "code",
      "metadata": {
        "id": "ckWjNr30zfVA"
      },
      "source": [
        "# Random Forest\n",
        "RF = RandomForestClassifier(random_state=1)\n",
        "PRF = [\n",
        "  {\n",
        "    'n_estimators': [10,100],\n",
        "    'max_depth': [3,6],\n",
        "    'criterion': ['gini','entropy']\n",
        "  }\n",
        "]\n",
        "GSRF = GridSearchCV(\n",
        "    estimator=RF, \n",
        "    param_grid=PRF,\n",
        "    scoring='accuracy', \n",
        "    cv=2\n",
        ")\n",
        "scores_rf = cross_val_score(\n",
        "    GSRF,\n",
        "    xtrain,\n",
        "    ytrain,\n",
        "    scoring='accuracy',\n",
        "    cv=5\n",
        ")\n",
        "np.mean(scores_rf)"
      ],
      "execution_count": null,
      "outputs": []
    },
    {
      "cell_type": "code",
      "metadata": {
        "id": "Wycu3MPO0hkD"
      },
      "source": [
        "# SVM (Support Vector Machine)\n",
        "svc = make_pipeline(\n",
        "    StandardScaler(),\n",
        "    SVC(random_state=1)\n",
        ")\n",
        "r = [0.0001, 0.001, 0.1, 1, 10, 50, 100]\n",
        "PSVM = [\n",
        "  {\n",
        "    'svc__C': r,\n",
        "    'svc__kernel': ['linear']\n",
        "  },\n",
        "  {\n",
        "    'svc__C': r,\n",
        "    'svc__gamma': r,\n",
        "    'svc__kernel': ['rbf']\n",
        "  }\n",
        "]\n",
        "GSSVM = GridSearchCV(\n",
        "    estimator=svc, \n",
        "    param_grid=PSVM, \n",
        "    scoring='accuracy',\n",
        "    cv=2\n",
        ")\n",
        "scores_svm = cross_val_score(\n",
        "    GSSVM, \n",
        "    xtrain.astype(float), \n",
        "    ytrain,scoring='accuracy', \n",
        "    cv=5\n",
        ")\n",
        "np.mean(scores_rf)"
      ],
      "execution_count": null,
      "outputs": []
    },
    {
      "cell_type": "code",
      "metadata": {
        "id": "giuPSBH91-Un"
      },
      "source": [
        "model = GSSVM.fit(xtrain, ytrain)"
      ],
      "execution_count": 49,
      "outputs": []
    },
    {
      "cell_type": "code",
      "metadata": {
        "id": "yfSkbP2z1-nK"
      },
      "source": [
        "pred = model.predict(xtest)"
      ],
      "execution_count": 50,
      "outputs": []
    },
    {
      "cell_type": "code",
      "metadata": {
        "id": "3ez82W7M6-KL",
        "outputId": "503498ce-13d2-4d7d-c444-e9a5c8c4643c",
        "colab": {
          "base_uri": "https://localhost:8080/",
          "height": 167
        }
      },
      "source": [
        "pred"
      ],
      "execution_count": 93,
      "outputs": [
        {
          "output_type": "error",
          "ename": "NameError",
          "evalue": "ignored",
          "traceback": [
            "\u001b[0;31m---------------------------------------------------------------------------\u001b[0m",
            "\u001b[0;31mNameError\u001b[0m                                 Traceback (most recent call last)",
            "\u001b[0;32m<ipython-input-93-c6fc79dbd350>\u001b[0m in \u001b[0;36m<module>\u001b[0;34m()\u001b[0m\n\u001b[0;32m----> 1\u001b[0;31m \u001b[0mpred\u001b[0m\u001b[0;34m\u001b[0m\u001b[0;34m\u001b[0m\u001b[0m\n\u001b[0m",
            "\u001b[0;31mNameError\u001b[0m: name 'pred' is not defined"
          ]
        }
      ]
    },
    {
      "cell_type": "code",
      "metadata": {
        "id": "TXGTfUDp2DCr"
      },
      "source": [
        "random_forest_df = pd.DataFrame({'PassengerId':test_df['PassengerId'], 'Survived':pred})\n",
        "random_forest_df.to_csv('submission.csv', index=False)\n",
        "# files.download('submission.csv')"
      ],
      "execution_count": 86,
      "outputs": []
    },
    {
      "cell_type": "markdown",
      "metadata": {
        "id": "oVFF2Gk3Z4kQ"
      },
      "source": [
        "# XGBOOST"
      ]
    },
    {
      "cell_type": "code",
      "metadata": {
        "id": "__nf0Z8CmjbB"
      },
      "source": [
        "xgboot_x_train, xgboot_x_valid, xgboot_y_train, xgboot_y_valid = train_test_split(xtrain, ytrain, test_size=0.1, random_state=2020)"
      ],
      "execution_count": 87,
      "outputs": []
    },
    {
      "cell_type": "code",
      "metadata": {
        "id": "bzgRQPwDmeN-"
      },
      "source": [
        "space = {\n",
        "  'n_estimators':hp.quniform('n_estimators', 1000, 5000, 100),\n",
        "  'gamma':hp.uniform('gamma', 0.01, 0.1),\n",
        "  'learning_rate':hp.uniform('learning_rate', 0.00001, 0.1),\n",
        "  'max_depth':hp.quniform('max_depth', 3,7,1),\n",
        "  'subsample':hp.uniform('subsample', 0.30, 0.95),\n",
        "  'colsample_bytree':hp.uniform('colsample_bytree', 0.30, 0.98),\n",
        "  'colsample_bylevel':hp.uniform('colsample_bylevel', 0.30, 0.98),\n",
        "  'reg_lambda': hp.uniform('reg_lambda', 1, 50)\n",
        "}\n",
        "\n",
        "def objective(params):\n",
        "  params = {\n",
        "    'n_estimators': int(params['n_estimators']),\n",
        "    'gamma': params['gamma'],\n",
        "    'learning_rate': params['learning_rate'],\n",
        "    'max_depth': int(params['max_depth']),\n",
        "    'subsample': params['subsample'],\n",
        "    'colsample_bytree': params['colsample_bytree'],\n",
        "    'colsample_bylevel': params['colsample_bylevel'],\n",
        "    'reg_lambda': params['reg_lambda']}\n",
        "  xb_a = xgb.XGBRegressor(**params)\n",
        "  score = cross_val_score(xb_a, xgboot_x_train, xgboot_y_train, scoring='neg_mean_squared_error', cv=5, n_jobs=-1).mean()\n",
        "  return -score"
      ],
      "execution_count": 88,
      "outputs": []
    },
    {
      "cell_type": "code",
      "metadata": {
        "id": "WEcmxApQoVDy",
        "outputId": "cf93abd3-a54c-4484-cfcc-4d861a92d4af",
        "colab": {
          "base_uri": "https://localhost:8080/"
        }
      },
      "source": [
        "best = fmin(fn=objective, space=space, max_evals=20, rstate=np.random.RandomState(1), algo=tpe.suggest)"
      ],
      "execution_count": 89,
      "outputs": [
        {
          "output_type": "stream",
          "text": [
            "100%|██████████| 20/20 [34:10<00:00, 102.53s/it, best loss: 0.1347899151178409]\n"
          ],
          "name": "stdout"
        }
      ]
    },
    {
      "cell_type": "code",
      "metadata": {
        "id": "Gg84iIdppEGq",
        "outputId": "5170069c-fb28-4448-ac9b-836e4dd86e49",
        "colab": {
          "base_uri": "https://localhost:8080/"
        }
      },
      "source": [
        "print(print(json.dumps(best, indent=4, sort_keys=True)))"
      ],
      "execution_count": 90,
      "outputs": [
        {
          "output_type": "stream",
          "text": [
            "{\n",
            "    \"colsample_bylevel\": 0.3722034758923356,\n",
            "    \"colsample_bytree\": 0.3121458021275036,\n",
            "    \"gamma\": 0.03988564584911725,\n",
            "    \"learning_rate\": 0.012383888651206643,\n",
            "    \"max_depth\": 5.0,\n",
            "    \"n_estimators\": 3500.0,\n",
            "    \"reg_lambda\": 16.517527793960163,\n",
            "    \"subsample\": 0.43306045984225505\n",
            "}\n",
            "None\n"
          ],
          "name": "stdout"
        }
      ]
    },
    {
      "cell_type": "code",
      "metadata": {
        "id": "jnGxJmp0pOnm",
        "outputId": "72108069-802d-4e08-973d-d5b6aa0023ba",
        "colab": {
          "base_uri": "https://localhost:8080/"
        }
      },
      "source": [
        "xb_b = xgb.XGBRegressor(\n",
        "  random_state=0,\n",
        "  n_estimators=int(best['n_estimators']),\n",
        "  colsample_bytree= best['colsample_bytree'],\n",
        "  gamma= best['gamma'],\n",
        "  learning_rate= best['learning_rate'],\n",
        "  max_depth= int(best['max_depth']),\n",
        "  subsample= best['subsample'],\n",
        "  colsample_bylevel= best['colsample_bylevel'],\n",
        "  reg_lambda= best['reg_lambda']\n",
        ")\n",
        "\n",
        "xb_b.fit(xgboot_x_train, xgboot_y_train)"
      ],
      "execution_count": 91,
      "outputs": [
        {
          "output_type": "stream",
          "text": [
            "[14:03:32] WARNING: /workspace/src/objective/regression_obj.cu:152: reg:linear is now deprecated in favor of reg:squarederror.\n"
          ],
          "name": "stdout"
        },
        {
          "output_type": "execute_result",
          "data": {
            "text/plain": [
              "XGBRegressor(base_score=0.5, booster='gbtree',\n",
              "             colsample_bylevel=0.3722034758923356, colsample_bynode=1,\n",
              "             colsample_bytree=0.3121458021275036, gamma=0.03988564584911725,\n",
              "             importance_type='gain', learning_rate=0.012383888651206643,\n",
              "             max_delta_step=0, max_depth=5, min_child_weight=1, missing=None,\n",
              "             n_estimators=3500, n_jobs=1, nthread=None, objective='reg:linear',\n",
              "             random_state=0, reg_alpha=0, reg_lambda=16.517527793960163,\n",
              "             scale_pos_weight=1, seed=None, silent=None,\n",
              "             subsample=0.43306045984225505, verbosity=1)"
            ]
          },
          "metadata": {
            "tags": []
          },
          "execution_count": 91
        }
      ]
    },
    {
      "cell_type": "code",
      "metadata": {
        "id": "qQW-t6Tapu4w"
      },
      "source": [
        "preds = xb_b.predict(xtest)"
      ],
      "execution_count": 95,
      "outputs": []
    },
    {
      "cell_type": "code",
      "metadata": {
        "id": "sJ1k-2q5Xmca"
      },
      "source": [
        "xgboost_df = pd.DataFrame()\n",
        "xgboost_df['PassengerId'] = test_df['PassengerId']\n",
        "xgboost_df['Survived'] = preds\n",
        "xgboost_df['Survived'] = xgboost_df['Survived'].apply(lambda x: 1 if x>0.6 else 0)"
      ],
      "execution_count": 98,
      "outputs": []
    },
    {
      "cell_type": "code",
      "metadata": {
        "id": "JeEH08TuYPKt",
        "outputId": "3f406f5a-1d3f-45e6-934a-f50f2a543368",
        "colab": {
          "base_uri": "https://localhost:8080/",
          "height": 17
        }
      },
      "source": [
        "xgboost_df.to_csv('submission.csv', index=False)\n",
        "files.download('submission.csv')"
      ],
      "execution_count": 99,
      "outputs": [
        {
          "output_type": "display_data",
          "data": {
            "application/javascript": [
              "\n",
              "    async function download(id, filename, size) {\n",
              "      if (!google.colab.kernel.accessAllowed) {\n",
              "        return;\n",
              "      }\n",
              "      const div = document.createElement('div');\n",
              "      const label = document.createElement('label');\n",
              "      label.textContent = `Downloading \"${filename}\": `;\n",
              "      div.appendChild(label);\n",
              "      const progress = document.createElement('progress');\n",
              "      progress.max = size;\n",
              "      div.appendChild(progress);\n",
              "      document.body.appendChild(div);\n",
              "\n",
              "      const buffers = [];\n",
              "      let downloaded = 0;\n",
              "\n",
              "      const channel = await google.colab.kernel.comms.open(id);\n",
              "      // Send a message to notify the kernel that we're ready.\n",
              "      channel.send({})\n",
              "\n",
              "      for await (const message of channel.messages) {\n",
              "        // Send a message to notify the kernel that we're ready.\n",
              "        channel.send({})\n",
              "        if (message.buffers) {\n",
              "          for (const buffer of message.buffers) {\n",
              "            buffers.push(buffer);\n",
              "            downloaded += buffer.byteLength;\n",
              "            progress.value = downloaded;\n",
              "          }\n",
              "        }\n",
              "      }\n",
              "      const blob = new Blob(buffers, {type: 'application/binary'});\n",
              "      const a = document.createElement('a');\n",
              "      a.href = window.URL.createObjectURL(blob);\n",
              "      a.download = filename;\n",
              "      div.appendChild(a);\n",
              "      a.click();\n",
              "      div.remove();\n",
              "    }\n",
              "  "
            ],
            "text/plain": [
              "<IPython.core.display.Javascript object>"
            ]
          },
          "metadata": {
            "tags": []
          }
        },
        {
          "output_type": "display_data",
          "data": {
            "application/javascript": [
              "download(\"download_d4135714-97ba-40d3-92ea-324a584b2366\", \"submission.csv\", 2839)"
            ],
            "text/plain": [
              "<IPython.core.display.Javascript object>"
            ]
          },
          "metadata": {
            "tags": []
          }
        }
      ]
    },
    {
      "cell_type": "markdown",
      "metadata": {
        "id": "xMgmG97xhqoy"
      },
      "source": [
        "# COMPARE MODELS"
      ]
    },
    {
      "cell_type": "code",
      "metadata": {
        "id": "ea85872xhpac",
        "outputId": "8e32e0d4-b6e0-4068-9626-3e6ed49ca1c9",
        "colab": {
          "base_uri": "https://localhost:8080/"
        }
      },
      "source": [
        "models_df = pd.concat([random_forest_df, xgboost_df], axis=1)\n",
        "models_df.columns = [\"PassengerId\", \"surv_random_forest\", \"PassengerIdRemove\", \"surv_xgboost\"]\n",
        "models_df = models_df[[\"PassengerId\", \"surv_random_forest\", \"surv_xgboost\"]]\n",
        "difference_df = models_df[models_df[\"surv_random_forest\"] != models_df[\"surv_xgboost\"]]\n",
        "difference_df.count()"
      ],
      "execution_count": 126,
      "outputs": [
        {
          "output_type": "execute_result",
          "data": {
            "text/plain": [
              "PassengerId           19\n",
              "surv_random_forest    19\n",
              "surv_xgboost          19\n",
              "dtype: int64"
            ]
          },
          "metadata": {
            "tags": []
          },
          "execution_count": 126
        }
      ]
    },
    {
      "cell_type": "code",
      "metadata": {
        "id": "NltNkz4sjtz2"
      },
      "source": [
        "for i, row in xgboost_df.iterrows():\n",
        "  if xgboost_df.at[i,'Survived'] != random_forest_df.at[i,'Survived']:\n",
        "    if i % 2 == 0:\n",
        "      xgboost_df.at[i,'Survived'] = random_forest_df.at[i,'Survived']"
      ],
      "execution_count": 127,
      "outputs": []
    },
    {
      "cell_type": "code",
      "metadata": {
        "id": "ScFiKqzLlSFM",
        "outputId": "fef140d5-82b0-4e10-b89d-db4f28119fe5",
        "colab": {
          "base_uri": "https://localhost:8080/",
          "height": 17
        }
      },
      "source": [
        "xgboost_df.to_csv('submission.csv', index=False)\n",
        "files.download('submission.csv')"
      ],
      "execution_count": 128,
      "outputs": [
        {
          "output_type": "display_data",
          "data": {
            "application/javascript": [
              "\n",
              "    async function download(id, filename, size) {\n",
              "      if (!google.colab.kernel.accessAllowed) {\n",
              "        return;\n",
              "      }\n",
              "      const div = document.createElement('div');\n",
              "      const label = document.createElement('label');\n",
              "      label.textContent = `Downloading \"${filename}\": `;\n",
              "      div.appendChild(label);\n",
              "      const progress = document.createElement('progress');\n",
              "      progress.max = size;\n",
              "      div.appendChild(progress);\n",
              "      document.body.appendChild(div);\n",
              "\n",
              "      const buffers = [];\n",
              "      let downloaded = 0;\n",
              "\n",
              "      const channel = await google.colab.kernel.comms.open(id);\n",
              "      // Send a message to notify the kernel that we're ready.\n",
              "      channel.send({})\n",
              "\n",
              "      for await (const message of channel.messages) {\n",
              "        // Send a message to notify the kernel that we're ready.\n",
              "        channel.send({})\n",
              "        if (message.buffers) {\n",
              "          for (const buffer of message.buffers) {\n",
              "            buffers.push(buffer);\n",
              "            downloaded += buffer.byteLength;\n",
              "            progress.value = downloaded;\n",
              "          }\n",
              "        }\n",
              "      }\n",
              "      const blob = new Blob(buffers, {type: 'application/binary'});\n",
              "      const a = document.createElement('a');\n",
              "      a.href = window.URL.createObjectURL(blob);\n",
              "      a.download = filename;\n",
              "      div.appendChild(a);\n",
              "      a.click();\n",
              "      div.remove();\n",
              "    }\n",
              "  "
            ],
            "text/plain": [
              "<IPython.core.display.Javascript object>"
            ]
          },
          "metadata": {
            "tags": []
          }
        },
        {
          "output_type": "display_data",
          "data": {
            "application/javascript": [
              "download(\"download_6689b256-3ccc-4ba9-a40b-31ec34aa9691\", \"submission.csv\", 2839)"
            ],
            "text/plain": [
              "<IPython.core.display.Javascript object>"
            ]
          },
          "metadata": {
            "tags": []
          }
        }
      ]
    }
  ]
}