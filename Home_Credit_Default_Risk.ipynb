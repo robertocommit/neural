{
  "nbformat": 4,
  "nbformat_minor": 0,
  "metadata": {
    "colab": {
      "name": "Home Credit Default Risk",
      "provenance": [],
      "collapsed_sections": [],
      "toc_visible": true,
      "authorship_tag": "ABX9TyMu6w3AK/90LK9JjHc8S5l2",
      "include_colab_link": true
    },
    "kernelspec": {
      "name": "python3",
      "display_name": "Python 3"
    }
  },
  "cells": [
    {
      "cell_type": "markdown",
      "metadata": {
        "id": "view-in-github",
        "colab_type": "text"
      },
      "source": [
        "<a href=\"https://colab.research.google.com/github/robimalco/colab/blob/main/Home_Credit_Default_Risk.ipynb\" target=\"_parent\"><img src=\"https://colab.research.google.com/assets/colab-badge.svg\" alt=\"Open In Colab\"/></a>"
      ]
    },
    {
      "cell_type": "markdown",
      "metadata": {
        "id": "hdr6gDQq5rET"
      },
      "source": [
        "# START SETUP"
      ]
    },
    {
      "cell_type": "code",
      "metadata": {
        "id": "q6GCD0Bk0b1h"
      },
      "source": [
        "!pip install -q kaggle"
      ],
      "execution_count": null,
      "outputs": []
    },
    {
      "cell_type": "code",
      "metadata": {
        "id": "NhCqrcXB2UY_"
      },
      "source": [
        "from google.colab import files"
      ],
      "execution_count": null,
      "outputs": []
    },
    {
      "cell_type": "code",
      "metadata": {
        "id": "m6iO-86D28EW"
      },
      "source": [
        "files.upload()"
      ],
      "execution_count": null,
      "outputs": []
    },
    {
      "cell_type": "code",
      "metadata": {
        "id": "yh_NVeiW29h5"
      },
      "source": [
        "# !mkdir ~/.kaggle\n",
        "# !cp kaggle.json ~/.kaggle/\n",
        "# !chmod 600 ~/.kaggle/kaggle.json"
      ],
      "execution_count": null,
      "outputs": []
    },
    {
      "cell_type": "code",
      "metadata": {
        "id": "_5dS1s8s4nFL"
      },
      "source": [
        "!mkdir ~/.kaggle\n",
        "!cp kaggle.json /root/.kaggle\n",
        "!chmod 600 /root/.kaggle/kaggle.json\n",
        "!rm -rf sample_data"
      ],
      "execution_count": null,
      "outputs": []
    },
    {
      "cell_type": "code",
      "metadata": {
        "id": "5ttTuvDQ2_QV"
      },
      "source": [
        "!kaggle competitions download -c home-credit-default-risk"
      ],
      "execution_count": null,
      "outputs": []
    },
    {
      "cell_type": "code",
      "metadata": {
        "id": "3KnrADYj7yUe"
      },
      "source": [
        "!unzip POS_CASH_balance.csv.zip\n",
        "!unzip application_test.csv.zip\n",
        "!unzip application_train.csv.zip\n",
        "!unzip bureau.csv.zip\n",
        "!unzip bureau_balance.csv.zip\n",
        "!unzip credit_card_balance.csv.zip\n",
        "!unzip installments_payments.csv.zip\n",
        "!unzip previous_application.csv.zip"
      ],
      "execution_count": null,
      "outputs": []
    },
    {
      "cell_type": "code",
      "metadata": {
        "id": "aTI2yXDw8ScM"
      },
      "source": [
        "!rm -rf *.zip"
      ],
      "execution_count": null,
      "outputs": []
    },
    {
      "cell_type": "code",
      "metadata": {
        "id": "LbHvWyux-QjF"
      },
      "source": [
        "import pandas as pd\n",
        "import numpy as np"
      ],
      "execution_count": null,
      "outputs": []
    },
    {
      "cell_type": "code",
      "metadata": {
        "id": "6mGDv_sUBXxI"
      },
      "source": [
        "pd.set_option('display.max_columns', None)"
      ],
      "execution_count": null,
      "outputs": []
    },
    {
      "cell_type": "markdown",
      "metadata": {
        "id": "xxeWyJnq58bz"
      },
      "source": [
        "# Files"
      ]
    },
    {
      "cell_type": "markdown",
      "metadata": {
        "id": "F40xkOit6Df6"
      },
      "source": [
        "*   application_{train|test}.csv --> main table, static data for all applications. One row represents one loan in our data sample.\n",
        "*   bureau.csv -->  client's previous credits, for every loan in our sample, there are as many rows as number of credits the client had.\n",
        "*   bureau_balance.csv --> monthly balances of previous credits, one row for each month.\n",
        "*   POS_CASH_balance.csv --> monthly balance snapshots of previous point of sales and cash loans that the applicant had, one row for each month.\n",
        "*   credit_card_balance.csv --> monthly balance snapshots of previous credit cards, one row for each month.\n",
        "*   previous_application.csv --> all previous applications for Home Credit loans of clients who have loans.\n",
        "*   installments_payments.csv --> repayment history for the previously disbursed credits."
      ]
    },
    {
      "cell_type": "markdown",
      "metadata": {
        "id": "7iS2krKz9hVR"
      },
      "source": [
        "# Load all data into pandas dataframes"
      ]
    },
    {
      "cell_type": "code",
      "metadata": {
        "id": "FoAxsP_l9glq"
      },
      "source": [
        "application_train_df = pd.read_csv('application_train.csv')\n",
        "application_test_df = pd.read_csv('application_test.csv')\n",
        "bureau_df = pd.read_csv('bureau.csv')\n",
        "bureau_balance_df = pd.read_csv('bureau_balance.csv')\n",
        "pos_cash_balance_df = pd.read_csv('POS_CASH_balance.csv')\n",
        "credit_card_balance_df = pd.read_csv('credit_card_balance.csv')\n",
        "previous_application_df = pd.read_csv('previous_application.csv')\n",
        "installments_payments_df = pd.read_csv('installments_payments.csv')"
      ],
      "execution_count": null,
      "outputs": []
    },
    {
      "cell_type": "markdown",
      "metadata": {
        "id": "s933KG08D48G"
      },
      "source": [
        "# Function utilities"
      ]
    },
    {
      "cell_type": "code",
      "metadata": {
        "id": "gMpsQ-_X-996"
      },
      "source": [
        "def split_columns_by_type(input_df):\n",
        "  numerical_columns = []\n",
        "  categorical_columns = []\n",
        "  for column in application_train_df.columns:\n",
        "    if application_train_df.dtypes[column] == np.int64 or application_train_df.dtypes[column] == np.float64:\n",
        "      numerical_columns.append(column)\n",
        "    else:\n",
        "      categorical_columns.append(column)\n",
        "  return numerical_columns, categorical_columns"
      ],
      "execution_count": null,
      "outputs": []
    },
    {
      "cell_type": "code",
      "metadata": {
        "id": "71qINxdj5_Hh"
      },
      "source": [
        "def smart_overview(input_df, numerical_columns):\n",
        "  list_of_numerics = input_df.select_dtypes(include=['float', 'int']).columns\n",
        "  countUnique = input_df.\n",
        "  corrSalePrice = round(input_df[numerical_columns].corrwith(input_df['TARGET']), 3) * 100\n",
        "  types = input_df.dtypes\n",
        "  missing = round((input_df.isnull().sum()/input_df.shape[0]),3)*100\n",
        "  overview = input_df.apply(\n",
        "      lambda x: [\n",
        "        round(x.min()), \n",
        "        round(x.max()), \n",
        "        round(x.mean()), \n",
        "        round(x.quantile(0.5))\n",
        "      ] if x.name in list_of_numerics else x.unique())\n",
        "  outliers = input_df.apply(\n",
        "      lambda x: sum(\n",
        "          (x<(x.quantile(0.25)-1.5*(x.quantile(0.75)-x.quantile(0.25)))) | \n",
        "          (x>(x.quantile(0.75)+1.5*(x.quantile(0.75)-x.quantile(0.25)))) \n",
        "        if x.name in list_of_numerics else ''))\n",
        "  explore_df = pd.DataFrame({\n",
        "    'Types': types,\n",
        "    'CorrSalePrice%': corrSalePrice,\n",
        "    'Missing%': missing,\n",
        "    'Overview': overview,\n",
        "    'Outliers': outliers\n",
        "  })\n",
        "  explore_df['Types'] = explore_df['Types'].astype(str)\n",
        "  return explore_df.transpose()"
      ],
      "execution_count": null,
      "outputs": []
    },
    {
      "cell_type": "markdown",
      "metadata": {
        "id": "frvaG7fS9Jx1"
      },
      "source": [
        "# Data Exploration"
      ]
    },
    {
      "cell_type": "markdown",
      "metadata": {
        "id": "XmxzAril9NMB"
      },
      "source": [
        "## application_{train|test}.csv"
      ]
    },
    {
      "cell_type": "code",
      "metadata": {
        "id": "sh9Rs2dy-1fE"
      },
      "source": [
        "application_train_columns = list(application_train_df.columns)\n",
        "application_train_columns.sort()\n",
        "application_train_df = application_train_df[application_train_columns]"
      ],
      "execution_count": null,
      "outputs": []
    },
    {
      "cell_type": "code",
      "metadata": {
        "id": "qTJtbRPtDRn9"
      },
      "source": [
        "temp_columns_type = split_columns_by_type(application_train_df)\n",
        "temp_numerical_columns = temp_columns_type[0]\n",
        "smart_overview(application_test_df, temp_numerical_columns)"
      ],
      "execution_count": null,
      "outputs": []
    },
    {
      "cell_type": "code",
      "metadata": {
        "id": "ujcLRdTZFj1U"
      },
      "source": [
        "application_train_df.head(5)"
      ],
      "execution_count": null,
      "outputs": []
    },
    {
      "cell_type": "code",
      "metadata": {
        "id": "xbu9c8bxHGJX"
      },
      "source": [
        "types = application_train_df.dtypes\n",
        "types"
      ],
      "execution_count": null,
      "outputs": []
    }
  ]
}