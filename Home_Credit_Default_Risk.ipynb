{
  "nbformat": 4,
  "nbformat_minor": 0,
  "metadata": {
    "colab": {
      "name": "Home Credit Default Risk.ipynb",
      "provenance": [],
      "authorship_tag": "ABX9TyP+9BN8KyxW978yOeO7dRkX",
      "include_colab_link": true
    },
    "kernelspec": {
      "name": "python3",
      "display_name": "Python 3"
    }
  },
  "cells": [
    {
      "cell_type": "markdown",
      "metadata": {
        "id": "view-in-github",
        "colab_type": "text"
      },
      "source": [
        "<a href=\"https://colab.research.google.com/github/robimalco/colab/blob/main/Home_Credit_Default_Risk.ipynb\" target=\"_parent\"><img src=\"https://colab.research.google.com/assets/colab-badge.svg\" alt=\"Open In Colab\"/></a>"
      ]
    },
    {
      "cell_type": "markdown",
      "metadata": {
        "id": "hdr6gDQq5rET"
      },
      "source": [
        "# START SETUP"
      ]
    },
    {
      "cell_type": "code",
      "metadata": {
        "id": "q6GCD0Bk0b1h"
      },
      "source": [
        "!pip install -q kaggle"
      ],
      "execution_count": 24,
      "outputs": []
    },
    {
      "cell_type": "code",
      "metadata": {
        "id": "NhCqrcXB2UY_"
      },
      "source": [
        "from google.colab import files"
      ],
      "execution_count": 25,
      "outputs": []
    },
    {
      "cell_type": "code",
      "metadata": {
        "id": "m6iO-86D28EW"
      },
      "source": [
        "files.upload()"
      ],
      "execution_count": null,
      "outputs": []
    },
    {
      "cell_type": "code",
      "metadata": {
        "id": "yh_NVeiW29h5"
      },
      "source": [
        "# !mkdir ~/.kaggle\n",
        "# !cp kaggle.json ~/.kaggle/\n",
        "# !chmod 600 ~/.kaggle/kaggle.json"
      ],
      "execution_count": 40,
      "outputs": []
    },
    {
      "cell_type": "code",
      "metadata": {
        "id": "_5dS1s8s4nFL"
      },
      "source": [
        "!mkdir ~/.kaggle\n",
        "!cp kaggle.json /root/.kaggle\n",
        "!chmod 600 /root/.kaggle/kaggle.json\n",
        "!rm -rf sample_data"
      ],
      "execution_count": 47,
      "outputs": []
    },
    {
      "cell_type": "code",
      "metadata": {
        "id": "5ttTuvDQ2_QV"
      },
      "source": [
        "!kaggle competitions download -c home-credit-default-risk"
      ],
      "execution_count": null,
      "outputs": []
    },
    {
      "cell_type": "code",
      "metadata": {
        "id": "3KnrADYj7yUe"
      },
      "source": [
        "!unzip POS_CASH_balance.csv.zip\n",
        "!unzip application_test.csv.zip\n",
        "!unzip application_train.csv.zip\n",
        "!unzip bureau.csv.zip\n",
        "!unzip bureau_balance.csv.zip\n",
        "!unzip credit_card_balance.csv.zip\n",
        "!unzip installments_payments.csv.zip\n",
        "!unzip previous_application.csv.zip"
      ],
      "execution_count": null,
      "outputs": []
    },
    {
      "cell_type": "code",
      "metadata": {
        "id": "aTI2yXDw8ScM"
      },
      "source": [
        "!rm -rf *.zip"
      ],
      "execution_count": 52,
      "outputs": []
    },
    {
      "cell_type": "markdown",
      "metadata": {
        "id": "xxeWyJnq58bz"
      },
      "source": [
        "# Files"
      ]
    },
    {
      "cell_type": "markdown",
      "metadata": {
        "id": "F40xkOit6Df6"
      },
      "source": [
        "*   application_{train|test}.csv --> main table, static data for all applications. One row represents one loan in our data sample.\n",
        "*   bureau.csv -->  client's previous credits, for every loan in our sample, there are as many rows as number of credits the client had.\n",
        "*   bureau_balance.csv --> monthly balances of previous credits, one row for each month.\n",
        "*   POS_CASH_balance.csv --> monthly balance snapshots of previous point of sales and cash loans that the applicant had, one row for each month.\n",
        "*   credit_card_balance.csv --> monthly balance snapshots of previous credit cards, one row for each month.\n",
        "*   previous_application.csv --> all previous applications for Home Credit loans of clients who have loans.\n",
        "*   installments_payments.csv --> repayment history for the previously disbursed credits."
      ]
    },
    {
      "cell_type": "code",
      "metadata": {
        "id": "71qINxdj5_Hh"
      },
      "source": [
        ""
      ],
      "execution_count": null,
      "outputs": []
    }
  ]
}