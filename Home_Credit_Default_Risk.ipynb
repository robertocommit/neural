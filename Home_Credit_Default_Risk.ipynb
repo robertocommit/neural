{
  "nbformat": 4,
  "nbformat_minor": 0,
  "metadata": {
    "colab": {
      "name": "Home Credit Default Risk",
      "provenance": [],
      "collapsed_sections": [
        "s933KG08D48G"
      ],
      "authorship_tag": "ABX9TyNZuxawUdOPZ62Bncs3hntE",
      "include_colab_link": true
    },
    "kernelspec": {
      "name": "python3",
      "display_name": "Python 3"
    },
    "accelerator": "GPU"
  },
  "cells": [
    {
      "cell_type": "markdown",
      "metadata": {
        "id": "view-in-github",
        "colab_type": "text"
      },
      "source": [
        "<a href=\"https://colab.research.google.com/github/robimalco/colab/blob/main/Home_Credit_Default_Risk.ipynb\" target=\"_parent\"><img src=\"https://colab.research.google.com/assets/colab-badge.svg\" alt=\"Open In Colab\"/></a>"
      ]
    },
    {
      "cell_type": "markdown",
      "metadata": {
        "id": "hdr6gDQq5rET"
      },
      "source": [
        "# START SETUP"
      ]
    },
    {
      "cell_type": "code",
      "metadata": {
        "id": "q6GCD0Bk0b1h"
      },
      "source": [
        "!pip install -q kaggle"
      ],
      "execution_count": 1,
      "outputs": []
    },
    {
      "cell_type": "code",
      "metadata": {
        "id": "NhCqrcXB2UY_"
      },
      "source": [
        "from google.colab import files"
      ],
      "execution_count": 2,
      "outputs": []
    },
    {
      "cell_type": "code",
      "metadata": {
        "id": "m6iO-86D28EW"
      },
      "source": [
        "files.upload()"
      ],
      "execution_count": null,
      "outputs": []
    },
    {
      "cell_type": "code",
      "metadata": {
        "id": "_5dS1s8s4nFL"
      },
      "source": [
        "# !rm -rf kaggle*\n",
        "# !rm -rf /root/.kaggle/\n",
        "# !mkdir /root/.kaggle/\n",
        "# !cp kaggle.json /root/.kaggle\n",
        "# !chmod 600 /root/.kaggle/kaggle.json\n",
        "# !rm -rf sample_data"
      ],
      "execution_count": 8,
      "outputs": []
    },
    {
      "cell_type": "code",
      "metadata": {
        "id": "5ttTuvDQ2_QV"
      },
      "source": [
        "!kaggle competitions download -c home-credit-default-risk"
      ],
      "execution_count": null,
      "outputs": []
    },
    {
      "cell_type": "code",
      "metadata": {
        "id": "3KnrADYj7yUe"
      },
      "source": [
        "!unzip application_test.csv.zip\n",
        "!unzip application_train.csv.zip\n",
        "# !unzip POS_CASH_balance.csv.zip\n",
        "# !unzip bureau.csv.zip\n",
        "# !unzip bureau_balance.csv.zip\n",
        "# !unzip credit_card_balance.csv.zip\n",
        "# !unzip installments_payments.csv.zip\n",
        "# !unzip previous_application.csv.zip"
      ],
      "execution_count": null,
      "outputs": []
    },
    {
      "cell_type": "code",
      "metadata": {
        "id": "aTI2yXDw8ScM"
      },
      "source": [
        "!rm -rf *.zip"
      ],
      "execution_count": null,
      "outputs": []
    },
    {
      "cell_type": "code",
      "metadata": {
        "id": "Tv0twXOEnqMv"
      },
      "source": [
        "!pip install torch==1.7.0+cu101 torchvision==0.8.1+cu101 torchaudio==0.7.0 -f https://download.pytorch.org/whl/torch_stable.html\n",
        "!pip3 install torchvision"
      ],
      "execution_count": null,
      "outputs": []
    },
    {
      "cell_type": "code",
      "metadata": {
        "id": "LbHvWyux-QjF"
      },
      "source": [
        "import numpy as np\n",
        "import pandas as pd\n",
        "\n",
        "import torch\n",
        "import torch.nn as nn\n",
        "import torch.nn.functional as F\n",
        "\n",
        "from sklearn.preprocessing import LabelEncoder"
      ],
      "execution_count": 12,
      "outputs": []
    },
    {
      "cell_type": "code",
      "metadata": {
        "id": "JWBMpGHRRgn-",
        "outputId": "6f87c0a9-6586-4e2d-b185-907496c08b4f",
        "colab": {
          "base_uri": "https://localhost:8080/",
          "height": 35
        }
      },
      "source": [
        "device = torch.device(\"cuda:0\" if torch.cuda.is_available() else \"cpu\")\n",
        "torch.cuda.get_device_name(0)"
      ],
      "execution_count": 13,
      "outputs": [
        {
          "output_type": "execute_result",
          "data": {
            "application/vnd.google.colaboratory.intrinsic+json": {
              "type": "string"
            },
            "text/plain": [
              "'Tesla P100-PCIE-16GB'"
            ]
          },
          "metadata": {
            "tags": []
          },
          "execution_count": 13
        }
      ]
    },
    {
      "cell_type": "code",
      "metadata": {
        "id": "6mGDv_sUBXxI"
      },
      "source": [
        "pd.set_option('display.max_columns', None)"
      ],
      "execution_count": 14,
      "outputs": []
    },
    {
      "cell_type": "markdown",
      "metadata": {
        "id": "xxeWyJnq58bz"
      },
      "source": [
        "# Files"
      ]
    },
    {
      "cell_type": "markdown",
      "metadata": {
        "id": "F40xkOit6Df6"
      },
      "source": [
        "*   application_{train|test}.csv --> main table, static data for all applications. One row represents one loan in our data sample.\n",
        "*   bureau.csv -->  client's previous credits, for every loan in our sample, there are as many rows as number of credits the client had.\n",
        "*   bureau_balance.csv --> monthly balances of previous credits, one row for each month.\n",
        "*   POS_CASH_balance.csv --> monthly balance snapshots of previous point of sales and cash loans that the applicant had, one row for each month.\n",
        "*   credit_card_balance.csv --> monthly balance snapshots of previous credit cards, one row for each month.\n",
        "*   previous_application.csv --> all previous applications for Home Credit loans of clients who have loans.\n",
        "*   installments_payments.csv --> repayment history for the previously disbursed credits."
      ]
    },
    {
      "cell_type": "markdown",
      "metadata": {
        "id": "7iS2krKz9hVR"
      },
      "source": [
        "# Load all data into pandas dataframes"
      ]
    },
    {
      "cell_type": "code",
      "metadata": {
        "id": "FoAxsP_l9glq"
      },
      "source": [
        "application_train_df = pd.read_csv('application_train.csv')\n",
        "application_test_df = pd.read_csv('application_test.csv')\n",
        "# bureau_df = pd.read_csv('bureau.csv')\n",
        "# bureau_balance_df = pd.read_csv('bureau_balance.csv')\n",
        "# pos_cash_balance_df = pd.read_csv('POS_CASH_balance.csv')\n",
        "# credit_card_balance_df = pd.read_csv('credit_card_balance.csv')\n",
        "# previous_application_df = pd.read_csv('previous_application.csv')\n",
        "# installments_payments_df = pd.read_csv('installments_payments.csv')"
      ],
      "execution_count": 15,
      "outputs": []
    },
    {
      "cell_type": "code",
      "metadata": {
        "id": "Xp3mbkvTIboq"
      },
      "source": [
        "application_train_df['CSV_SOURCE'] = 'application_train.csv'\n",
        "application_test_df['CSV_SOURCE'] = 'application_test.csv'\n",
        "temp_df = pd.concat([application_train_df, application_test_df])"
      ],
      "execution_count": 17,
      "outputs": []
    },
    {
      "cell_type": "code",
      "metadata": {
        "id": "z9pTknL7bJl4",
        "outputId": "8d969403-9c20-4bab-d4eb-1188cde58998",
        "colab": {
          "base_uri": "https://localhost:8080/"
        }
      },
      "source": [
        "rejected = application_train_df[application_train_df['TARGET'] == 0].shape[0]\n",
        "approved = application_train_df[application_train_df['TARGET'] == 1].shape[0]\n",
        "approval_rate = round(approved/(approved+rejected)*100)\n",
        "print(\"approval_rate%\", approval_rate)"
      ],
      "execution_count": 186,
      "outputs": [
        {
          "output_type": "stream",
          "text": [
            "approval_rate% 8\n"
          ],
          "name": "stdout"
        }
      ]
    },
    {
      "cell_type": "code",
      "metadata": {
        "id": "gMpsQ-_X-996"
      },
      "source": [
        "def split_columns_by_type(input_df):\n",
        "  numerical_columns = []\n",
        "  categorical_columns = []\n",
        "  for column in application_train_df.columns:\n",
        "    if application_train_df.dtypes[column] == np.int64 or application_train_df.dtypes[column] == np.float64:\n",
        "      numerical_columns.append(column)\n",
        "    else:\n",
        "      categorical_columns.append(column)\n",
        "  return numerical_columns, categorical_columns"
      ],
      "execution_count": 18,
      "outputs": []
    },
    {
      "cell_type": "markdown",
      "metadata": {
        "id": "s933KG08D48G"
      },
      "source": [
        "# Function utilities"
      ]
    },
    {
      "cell_type": "code",
      "metadata": {
        "id": "71qINxdj5_Hh"
      },
      "source": [
        "def smart_overview(input_df, numerical_columns):\n",
        "  list_of_numerics = input_df.select_dtypes(include=['float', 'int']).columns\n",
        "  countUnique = [len(input_df[column].unique()) for column in input_df.columns]\n",
        "  corrSalePrice = round(input_df[numerical_columns].corrwith(input_df['TARGET']), 3)\n",
        "  types = input_df.dtypes\n",
        "  missing = round((input_df.isnull().sum()/input_df.shape[0]),3)*100\n",
        "  overview = input_df.apply(\n",
        "      lambda x: [\n",
        "        round(x.min()), \n",
        "        round(x.max()), \n",
        "        round(x.mean()), \n",
        "        round(x.quantile(0.5))\n",
        "      ] if x.name in list_of_numerics else x.unique())\n",
        "  outliers = input_df.apply(\n",
        "      lambda x: sum(\n",
        "          (x<(x.quantile(0.25)-1.5*(x.quantile(0.75)-x.quantile(0.25)))) | \n",
        "          (x>(x.quantile(0.75)+1.5*(x.quantile(0.75)-x.quantile(0.25)))) \n",
        "        if x.name in list_of_numerics else ''))\n",
        "  explore_df = pd.DataFrame({\n",
        "    'Types': types,\n",
        "    'Unique': countUnique,\n",
        "    'CorrSalePrice': corrSalePrice,\n",
        "    'Missing%': missing,\n",
        "    'Overview': overview,\n",
        "    'Outliers': outliers\n",
        "  })\n",
        "  explore_df['Types'] = explore_df['Types'].astype(str)\n",
        "  return explore_df.transpose()"
      ],
      "execution_count": 50,
      "outputs": []
    },
    {
      "cell_type": "markdown",
      "metadata": {
        "id": "frvaG7fS9Jx1"
      },
      "source": [
        "# Data Exploration"
      ]
    },
    {
      "cell_type": "markdown",
      "metadata": {
        "id": "XmxzAril9NMB"
      },
      "source": [
        "## application_{train|test}.csv"
      ]
    },
    {
      "cell_type": "code",
      "metadata": {
        "id": "sh9Rs2dy-1fE"
      },
      "source": [
        "application_train_columns = list(application_train_df.columns)\n",
        "application_train_columns.sort()\n",
        "application_train_df = application_train_df[application_train_columns]"
      ],
      "execution_count": 19,
      "outputs": []
    },
    {
      "cell_type": "code",
      "metadata": {
        "id": "qTJtbRPtDRn9"
      },
      "source": [
        "temp_columns_type = split_columns_by_type(temp_df)\n",
        "temp_numerical_columns = temp_columns_type[0]\n",
        "temp_categorical_columns = temp_columns_type[1]\n",
        "# smart_overview(application_train_df, temp_numerical_columns)"
      ],
      "execution_count": null,
      "outputs": []
    },
    {
      "cell_type": "code",
      "metadata": {
        "id": "y2j9zI7mHBoP"
      },
      "source": [
        "temp_categorical_columns.remove('CSV_SOURCE')\n",
        "temp_numerical_columns = ['AMT_ANNUITY', 'AMT_CREDIT']\n",
        "\n",
        "for x in temp_categorical_columns:\n",
        "  print('categorical', x, len(temp_df[x].unique()))\n",
        "\n",
        "for x in temp_numerical_columns:\n",
        "  print('numerical', x, len(temp_df[x].unique()))"
      ],
      "execution_count": null,
      "outputs": []
    },
    {
      "cell_type": "code",
      "metadata": {
        "id": "i4Hv3Ii6DWMx"
      },
      "source": [
        "pd.options.mode.chained_assignment = None\n",
        "for column in temp_categorical_columns:\n",
        "  temp_df[column] = LabelEncoder().fit_transform(temp_df[column].astype(str))\n",
        "for column in temp_categorical_columns:\n",
        "  temp_df[column] = temp_df[column].astype('category')"
      ],
      "execution_count": 56,
      "outputs": []
    },
    {
      "cell_type": "code",
      "metadata": {
        "id": "tB6lrtUpJan-"
      },
      "source": [
        "train_temp_df = temp_df[temp_df['CSV_SOURCE'] == 'application_train.csv']\n",
        "train_output_temp_df = pd.DataFrame(train_temp_df['TARGET'], columns=['TARGET'])\n",
        "\n",
        "test_temp_df = temp_df[temp_df['CSV_SOURCE'] == 'application_test.csv']\n",
        "\n",
        "test_temp_df['AMT_ANNUITY'] = test_temp_df['AMT_ANNUITY'].fillna(0)"
      ],
      "execution_count": 112,
      "outputs": []
    },
    {
      "cell_type": "code",
      "metadata": {
        "id": "OFEpXts7KaDc"
      },
      "source": [
        "def create_categorical_tensor(input_df):\n",
        "  stack = []\n",
        "  for column in temp_categorical_columns:\n",
        "    temp_stack = input_df[column].cat.codes.values\n",
        "    stack.append(temp_stack)\n",
        "  return torch.tensor(np.stack(stack, 1), dtype=torch.float)\n",
        "\n",
        "def create_numerical_tensor(input_df):\n",
        "  stack = []\n",
        "  for column in temp_numerical_columns:\n",
        "    temp_stack = input_df[column].astype(np.float64)\n",
        "    stack.append(temp_stack)\n",
        "  return torch.tensor(np.stack(stack, 1), dtype=torch.float)\n",
        "\n",
        "\n",
        "tensor_train_categorical = create_categorical_tensor(train_temp_df[temp_categorical_columns]).float()\n",
        "tensor_train_numerical = create_numerical_tensor(train_temp_df[temp_numerical_columns]).float()\n",
        "tensor_train_output = torch.tensor(train_output_temp_df.values).flatten().float()\n",
        "\n",
        "tensor_test_categorical = create_categorical_tensor(test_temp_df[temp_categorical_columns]).float()\n",
        "tensor_test_numerical = create_numerical_tensor(test_temp_df[temp_numerical_columns]).float()"
      ],
      "execution_count": 113,
      "outputs": []
    },
    {
      "cell_type": "code",
      "metadata": {
        "id": "9LoNNJOsLMWS"
      },
      "source": [
        "total_records_train = len(train_temp_df)\n",
        "test_records_train = int(total_records_train * 0.2)\n",
        "\n",
        "tensor_train_categorical_data = tensor_train_categorical[:total_records_train-test_records_train].to(device)\n",
        "tensor_train_numerical_data = tensor_train_numerical[:total_records_train-test_records_train].to(device)\n",
        "tensor_train_output = tensor_train_output[:total_records_train-test_records_train].to(device)\n",
        "\n",
        "tensor_validation_categorical_data = tensor_train_categorical[total_records_train-test_records_train:total_records_train].to(device)\n",
        "tensor_validation_numerical_data = tensor_train_numerical[total_records_train-test_records_train:total_records_train].to(device)\n",
        "tensor_validation_output = tensor_train_output[:total_records_train-(total_records_train-test_records_train)].to(device)"
      ],
      "execution_count": 115,
      "outputs": []
    },
    {
      "cell_type": "code",
      "metadata": {
        "id": "ZSDav1gcL2MN"
      },
      "source": [
        "categorical_columns_size = [len(temp_df[column].astype('category').cat.categories) for column in temp_categorical_columns]\n",
        "categorical_embedding_sizes = [(col_size, min(50, (col_size+1)//2)) for col_size in categorical_columns_size]\n",
        "# categorical_embedding_sizes"
      ],
      "execution_count": 116,
      "outputs": []
    },
    {
      "cell_type": "code",
      "metadata": {
        "id": "jaVwMCL64ttq"
      },
      "source": [
        "from torch.utils.data import Dataset, TensorDataset\n",
        "from torch.utils.data import DataLoader\n",
        "\n",
        "train_data = TensorDataset(tensor_train_categorical_data, tensor_train_numerical_data, tensor_train_output)\n",
        "train_loader = DataLoader(dataset=train_data, batch_size=16, shuffle=True)\n",
        "\n",
        "# print(torch.isnan(tensor_train_numerical_data))"
      ],
      "execution_count": 117,
      "outputs": []
    },
    {
      "cell_type": "code",
      "metadata": {
        "id": "R_1m9m_3Msst"
      },
      "source": [
        "class Model(nn.Module):\n",
        "  def __init__(self, embedding_size, num_numerical_cols, layers, p=0.5):\n",
        "    super().__init__()\n",
        "\n",
        "    self.all_embeddings = nn.ModuleList([nn.Embedding(ni, nf) for ni, nf in embedding_size])\n",
        "    self.emb_drop = nn.Dropout(p)\n",
        "    self.bn_cont = nn.BatchNorm1d(num_numerical_cols)\n",
        "\n",
        "    num_categorical_cols = sum((nf for ni, nf in embedding_size))\n",
        "    input_size = num_categorical_cols + num_numerical_cols\n",
        "\n",
        "    self.lin1 = nn.Linear(input_size, 200)\n",
        "    self.lin2 = nn.Linear(200, 100)\n",
        "    self.lin3 = nn.Linear(100, 50)\n",
        "    self.lin4 = nn.Linear(50, 1)\n",
        "    self.emb_drop = nn.Dropout(0.3)\n",
        "    self.drops = nn.Dropout(0.1)\n",
        "\n",
        "  def forward(self, x_categorical, x_numerical):\n",
        "\n",
        "    embeddings = []\n",
        "    for i,e in enumerate(self.all_embeddings):\n",
        "        embeddings.append(e(x_categorical[:,i].long()))\n",
        "\n",
        "    x = torch.cat(embeddings, 1)\n",
        "    x = self.emb_drop(x)\n",
        "    \n",
        "    x_numerical = self.bn_cont(x_numerical)\n",
        "    x = torch.cat([x, x_numerical], 1)\n",
        "\n",
        "    x = self.lin1(x)\n",
        "    x = self.drops(x)\n",
        "    x = F.relu(self.lin2(x))\n",
        "    x = self.drops(x)\n",
        "    x = F.relu(self.lin3(x))\n",
        "    x = self.drops(x)\n",
        "    x = self.lin4(x)\n",
        "\n",
        "    x = torch.sigmoid(x)\n",
        "\n",
        "    return x"
      ],
      "execution_count": 196,
      "outputs": []
    },
    {
      "cell_type": "code",
      "metadata": {
        "id": "fBAifb1TTjhG",
        "outputId": "9ab43198-6495-47a8-c927-e3d92859ce33",
        "colab": {
          "base_uri": "https://localhost:8080/"
        }
      },
      "source": [
        "num_numerical_cols = tensor_train_numerical_data.shape[1]\n",
        "\n",
        "model = Model(categorical_embedding_sizes, num_numerical_cols, [100, 50], 0.4)\n",
        "loss_function = nn.MSELoss()\n",
        "optimizer = torch.optim.Adam(model.parameters(), lr=0.01)\n",
        "model.to(device)"
      ],
      "execution_count": 197,
      "outputs": [
        {
          "output_type": "execute_result",
          "data": {
            "text/plain": [
              "Model(\n",
              "  (all_embeddings): ModuleList(\n",
              "    (0): Embedding(3, 2)\n",
              "    (1): Embedding(3, 2)\n",
              "    (2): Embedding(2, 1)\n",
              "    (3): Embedding(2, 1)\n",
              "    (4): Embedding(5, 3)\n",
              "    (5): Embedding(4, 2)\n",
              "    (6): Embedding(2, 1)\n",
              "    (7): Embedding(5, 3)\n",
              "    (8): Embedding(6, 3)\n",
              "    (9): Embedding(6, 3)\n",
              "    (10): Embedding(8, 4)\n",
              "    (11): Embedding(8, 4)\n",
              "    (12): Embedding(19, 10)\n",
              "    (13): Embedding(58, 29)\n",
              "    (14): Embedding(8, 4)\n",
              "    (15): Embedding(7, 4)\n",
              "  )\n",
              "  (emb_drop): Dropout(p=0.3, inplace=False)\n",
              "  (bn_cont): BatchNorm1d(2, eps=1e-05, momentum=0.1, affine=True, track_running_stats=True)\n",
              "  (lin1): Linear(in_features=78, out_features=200, bias=True)\n",
              "  (lin2): Linear(in_features=200, out_features=100, bias=True)\n",
              "  (lin3): Linear(in_features=100, out_features=50, bias=True)\n",
              "  (lin4): Linear(in_features=50, out_features=1, bias=True)\n",
              "  (drops): Dropout(p=0.1, inplace=False)\n",
              ")"
            ]
          },
          "metadata": {
            "tags": []
          },
          "execution_count": 197
        }
      ]
    },
    {
      "cell_type": "code",
      "metadata": {
        "id": "K6yyOYgr5bZP",
        "outputId": "7eb3b0e8-5c51-4588-c121-7006006cfd0c",
        "colab": {
          "base_uri": "https://localhost:8080/"
        }
      },
      "source": [
        "n_epochs = 5\n",
        "\n",
        "for epoch in range(n_epochs):\n",
        "  for x_cat, x_num, y in train_loader:\n",
        "    y_pred = model(x_cat, x_num)\n",
        "    single_loss = loss_function(y_pred.squeeze(), y)\n",
        "  print(\"epoch: \" + str(epoch) + \"\\tloss: \" + str(single_loss.item()))"
      ],
      "execution_count": 198,
      "outputs": [
        {
          "output_type": "stream",
          "text": [
            "epoch: 0\tloss: 0.2648836672306061\n",
            "epoch: 1\tloss: 0.27769964933395386\n",
            "epoch: 2\tloss: 0.272550106048584\n",
            "epoch: 3\tloss: 0.27639901638031006\n",
            "epoch: 4\tloss: 0.2780704200267792\n"
          ],
          "name": "stdout"
        }
      ]
    },
    {
      "cell_type": "code",
      "metadata": {
        "id": "Ozr6OavjNgrK",
        "outputId": "aed09fd3-0263-4591-bf40-1c92b93fa6a9",
        "colab": {
          "base_uri": "https://localhost:8080/"
        }
      },
      "source": [
        "validation_data = TensorDataset(tensor_validation_categorical_data, tensor_validation_numerical_data, tensor_validation_output)\n",
        "validation_loader = DataLoader(dataset=validation_data, batch_size=16, shuffle=True)\n",
        "\n",
        "with torch.no_grad():\n",
        "  for x_cat, x_num, y in validation_loader:\n",
        "    y_valid = model(x_cat, x_num)\n",
        "    validation_loss = loss_function(y_valid.squeeze(), y)\n",
        "  print(\"\\tvalidation_loss: \" + str(validation_loss.item()))"
      ],
      "execution_count": 199,
      "outputs": [
        {
          "output_type": "stream",
          "text": [
            "\tvalidation_loss: 0.2697506248950958\n"
          ],
          "name": "stdout"
        }
      ]
    },
    {
      "cell_type": "code",
      "metadata": {
        "id": "KbY5ybTLJpd4"
      },
      "source": [
        "# Make predictions\n",
        "with torch.no_grad():\n",
        "  tensor_test_categorical_data = tensor_test_categorical.to(device)\n",
        "  tensor_test_numerical_data = tensor_test_numerical.to(device)\n",
        "  y_pred = model(tensor_test_categorical_data, tensor_test_numerical_data)"
      ],
      "execution_count": 200,
      "outputs": []
    },
    {
      "cell_type": "code",
      "metadata": {
        "id": "yJv1x7LuxG1s",
        "outputId": "ff9bcce0-d464-4c35-d0de-d415a46b3f0b",
        "colab": {
          "base_uri": "https://localhost:8080/"
        }
      },
      "source": [
        "values, labels = torch.max(y_pred, 1)\n",
        "labels.unique()"
      ],
      "execution_count": 201,
      "outputs": [
        {
          "output_type": "execute_result",
          "data": {
            "text/plain": [
              "tensor([0], device='cuda:0')"
            ]
          },
          "metadata": {
            "tags": []
          },
          "execution_count": 201
        }
      ]
    },
    {
      "cell_type": "code",
      "metadata": {
        "id": "BESUJu04JZra",
        "outputId": "0679479a-ff49-4b15-9ecc-b53f257c6cb3",
        "colab": {
          "base_uri": "https://localhost:8080/",
          "height": 316
        }
      },
      "source": [
        "pd.DataFrame(y_pred).astype(\"float\").hist(bins=1000)"
      ],
      "execution_count": 202,
      "outputs": [
        {
          "output_type": "execute_result",
          "data": {
            "text/plain": [
              "array([[<matplotlib.axes._subplots.AxesSubplot object at 0x7fdd7c3187f0>]],\n",
              "      dtype=object)"
            ]
          },
          "metadata": {
            "tags": []
          },
          "execution_count": 202
        },
        {
          "output_type": "display_data",
          "data": {
            "image/png": "[encoded data removed]",
            "text/plain": [
              "<Figure size 432x288 with 1 Axes>"
            ]
          },
          "metadata": {
            "tags": [],
            "needs_background": "light"
          }
        }
      ]
    },
    {
      "cell_type": "code",
      "metadata": {
        "id": "SLxIHey6chvf",
        "outputId": "d2ea8696-9121-4b7d-d897-0f62ba6807f1",
        "colab": {
          "base_uri": "https://localhost:8080/",
          "height": 424
        }
      },
      "source": [
        "temp = pd.DataFrame(y_pred).astype(\"float\")\n",
        "\n",
        "temp = pd.concat([temp, application_test_df['SK_ID_CURR']], axis=1)\n",
        "temp.columns = ['TEMP_TARGET', 'SK_ID_CURR']\n",
        "temp"
      ],
      "execution_count": 240,
      "outputs": [
        {
          "output_type": "execute_result",
          "data": {
            "text/html": [
              "<div>\n",
              "<style scoped>\n",
              "    .dataframe tbody tr th:only-of-type {\n",
              "        vertical-align: middle;\n",
              "    }\n",
              "\n",
              "    .dataframe tbody tr th {\n",
              "        vertical-align: top;\n",
              "    }\n",
              "\n",
              "    .dataframe thead th {\n",
              "        text-align: right;\n",
              "    }\n",
              "</style>\n",
              "<table border=\"1\" class=\"dataframe\">\n",
              "  <thead>\n",
              "    <tr style=\"text-align: right;\">\n",
              "      <th></th>\n",
              "      <th>TEMP_TARGET</th>\n",
              "      <th>SK_ID_CURR</th>\n",
              "    </tr>\n",
              "  </thead>\n",
              "  <tbody>\n",
              "    <tr>\n",
              "      <th>0</th>\n",
              "      <td>0.520464</td>\n",
              "      <td>100001</td>\n",
              "    </tr>\n",
              "    <tr>\n",
              "      <th>1</th>\n",
              "      <td>0.527660</td>\n",
              "      <td>100005</td>\n",
              "    </tr>\n",
              "    <tr>\n",
              "      <th>2</th>\n",
              "      <td>0.499079</td>\n",
              "      <td>100013</td>\n",
              "    </tr>\n",
              "    <tr>\n",
              "      <th>3</th>\n",
              "      <td>0.538143</td>\n",
              "      <td>100028</td>\n",
              "    </tr>\n",
              "    <tr>\n",
              "      <th>4</th>\n",
              "      <td>0.521120</td>\n",
              "      <td>100038</td>\n",
              "    </tr>\n",
              "    <tr>\n",
              "      <th>...</th>\n",
              "      <td>...</td>\n",
              "      <td>...</td>\n",
              "    </tr>\n",
              "    <tr>\n",
              "      <th>48739</th>\n",
              "      <td>0.522248</td>\n",
              "      <td>456221</td>\n",
              "    </tr>\n",
              "    <tr>\n",
              "      <th>48740</th>\n",
              "      <td>0.522126</td>\n",
              "      <td>456222</td>\n",
              "    </tr>\n",
              "    <tr>\n",
              "      <th>48741</th>\n",
              "      <td>0.508681</td>\n",
              "      <td>456223</td>\n",
              "    </tr>\n",
              "    <tr>\n",
              "      <th>48742</th>\n",
              "      <td>0.517821</td>\n",
              "      <td>456224</td>\n",
              "    </tr>\n",
              "    <tr>\n",
              "      <th>48743</th>\n",
              "      <td>0.515592</td>\n",
              "      <td>456250</td>\n",
              "    </tr>\n",
              "  </tbody>\n",
              "</table>\n",
              "<p>48744 rows × 2 columns</p>\n",
              "</div>"
            ],
            "text/plain": [
              "       TEMP_TARGET  SK_ID_CURR\n",
              "0         0.520464      100001\n",
              "1         0.527660      100005\n",
              "2         0.499079      100013\n",
              "3         0.538143      100028\n",
              "4         0.521120      100038\n",
              "...            ...         ...\n",
              "48739     0.522248      456221\n",
              "48740     0.522126      456222\n",
              "48741     0.508681      456223\n",
              "48742     0.517821      456224\n",
              "48743     0.515592      456250\n",
              "\n",
              "[48744 rows x 2 columns]"
            ]
          },
          "metadata": {
            "tags": []
          },
          "execution_count": 240
        }
      ]
    },
    {
      "cell_type": "code",
      "metadata": {
        "id": "hTnWHwKufG_h",
        "outputId": "eceb0306-b380-4895-9547-429d7e3faf2d",
        "colab": {
          "base_uri": "https://localhost:8080/",
          "height": 424
        }
      },
      "source": [
        "# range = temp['TARGET'].max() - temp['TARGET'].min()\n",
        "\n",
        "# 0.089 : 100 = x : 50\n",
        "# x = (50 * 0.089) / 100\n",
        "\n",
        "#x = (50 * 0.08999999999) / 100\n",
        "\n",
        "\n",
        "# (y - temp['TARGET'].min()) : x = (temp['TARGET'].max() - temp['TARGET'].min()) : 100\n",
        "\n",
        "# x = ((y - temp['TARGET'].min()) * 100) / (temp['TARGET'].max() - temp['TARGET'].min())\n",
        "\n",
        "# x = (100*y - 100*temp['TARGET'].min()) / (temp['TARGET'].max() - temp['TARGET'].min())\n",
        "\n",
        "# x = (100*0.56 - 100*temp['TARGET'].min()) / (temp['TARGET'].max() - temp['TARGET'].min())\n",
        "\n",
        "\n",
        "temp['TARGET'] = round((100*temp['TEMP_TARGET'] - 100*temp['TEMP_TARGET'].min()) / (temp['TEMP_TARGET'].max() - temp['TEMP_TARGET'].min()) / 100, 1)\n",
        "temp"
      ],
      "execution_count": 242,
      "outputs": [
        {
          "output_type": "execute_result",
          "data": {
            "text/html": [
              "<div>\n",
              "<style scoped>\n",
              "    .dataframe tbody tr th:only-of-type {\n",
              "        vertical-align: middle;\n",
              "    }\n",
              "\n",
              "    .dataframe tbody tr th {\n",
              "        vertical-align: top;\n",
              "    }\n",
              "\n",
              "    .dataframe thead th {\n",
              "        text-align: right;\n",
              "    }\n",
              "</style>\n",
              "<table border=\"1\" class=\"dataframe\">\n",
              "  <thead>\n",
              "    <tr style=\"text-align: right;\">\n",
              "      <th></th>\n",
              "      <th>TEMP_TARGET</th>\n",
              "      <th>SK_ID_CURR</th>\n",
              "      <th>TARGET</th>\n",
              "    </tr>\n",
              "  </thead>\n",
              "  <tbody>\n",
              "    <tr>\n",
              "      <th>0</th>\n",
              "      <td>0.520464</td>\n",
              "      <td>100001</td>\n",
              "      <td>0.5</td>\n",
              "    </tr>\n",
              "    <tr>\n",
              "      <th>1</th>\n",
              "      <td>0.527660</td>\n",
              "      <td>100005</td>\n",
              "      <td>0.6</td>\n",
              "    </tr>\n",
              "    <tr>\n",
              "      <th>2</th>\n",
              "      <td>0.499079</td>\n",
              "      <td>100013</td>\n",
              "      <td>0.2</td>\n",
              "    </tr>\n",
              "    <tr>\n",
              "      <th>3</th>\n",
              "      <td>0.538143</td>\n",
              "      <td>100028</td>\n",
              "      <td>0.7</td>\n",
              "    </tr>\n",
              "    <tr>\n",
              "      <th>4</th>\n",
              "      <td>0.521120</td>\n",
              "      <td>100038</td>\n",
              "      <td>0.5</td>\n",
              "    </tr>\n",
              "    <tr>\n",
              "      <th>...</th>\n",
              "      <td>...</td>\n",
              "      <td>...</td>\n",
              "      <td>...</td>\n",
              "    </tr>\n",
              "    <tr>\n",
              "      <th>48739</th>\n",
              "      <td>0.522248</td>\n",
              "      <td>456221</td>\n",
              "      <td>0.5</td>\n",
              "    </tr>\n",
              "    <tr>\n",
              "      <th>48740</th>\n",
              "      <td>0.522126</td>\n",
              "      <td>456222</td>\n",
              "      <td>0.5</td>\n",
              "    </tr>\n",
              "    <tr>\n",
              "      <th>48741</th>\n",
              "      <td>0.508681</td>\n",
              "      <td>456223</td>\n",
              "      <td>0.3</td>\n",
              "    </tr>\n",
              "    <tr>\n",
              "      <th>48742</th>\n",
              "      <td>0.517821</td>\n",
              "      <td>456224</td>\n",
              "      <td>0.4</td>\n",
              "    </tr>\n",
              "    <tr>\n",
              "      <th>48743</th>\n",
              "      <td>0.515592</td>\n",
              "      <td>456250</td>\n",
              "      <td>0.4</td>\n",
              "    </tr>\n",
              "  </tbody>\n",
              "</table>\n",
              "<p>48744 rows × 3 columns</p>\n",
              "</div>"
            ],
            "text/plain": [
              "       TEMP_TARGET  SK_ID_CURR  TARGET\n",
              "0         0.520464      100001     0.5\n",
              "1         0.527660      100005     0.6\n",
              "2         0.499079      100013     0.2\n",
              "3         0.538143      100028     0.7\n",
              "4         0.521120      100038     0.5\n",
              "...            ...         ...     ...\n",
              "48739     0.522248      456221     0.5\n",
              "48740     0.522126      456222     0.5\n",
              "48741     0.508681      456223     0.3\n",
              "48742     0.517821      456224     0.4\n",
              "48743     0.515592      456250     0.4\n",
              "\n",
              "[48744 rows x 3 columns]"
            ]
          },
          "metadata": {
            "tags": []
          },
          "execution_count": 242
        }
      ]
    },
    {
      "cell_type": "code",
      "metadata": {
        "id": "twJGI3cVm7cJ",
        "outputId": "d5e49275-61af-43b2-fa4d-5bc3a1016b16",
        "colab": {
          "base_uri": "https://localhost:8080/",
          "height": 17
        }
      },
      "source": [
        "from google.colab import files\n",
        "\n",
        "submission_df = temp[['SK_ID_CURR', 'TARGET']]\n",
        "submission_df.to_csv('submission.csv', index=False)\n",
        "files.download('submission.csv')"
      ],
      "execution_count": 244,
      "outputs": [
        {
          "output_type": "display_data",
          "data": {
            "application/javascript": [
              "\n",
              "    async function download(id, filename, size) {\n",
              "      if (!google.colab.kernel.accessAllowed) {\n",
              "        return;\n",
              "      }\n",
              "      const div = document.createElement('div');\n",
              "      const label = document.createElement('label');\n",
              "      label.textContent = `Downloading \"${filename}\": `;\n",
              "      div.appendChild(label);\n",
              "      const progress = document.createElement('progress');\n",
              "      progress.max = size;\n",
              "      div.appendChild(progress);\n",
              "      document.body.appendChild(div);\n",
              "\n",
              "      const buffers = [];\n",
              "      let downloaded = 0;\n",
              "\n",
              "      const channel = await google.colab.kernel.comms.open(id);\n",
              "      // Send a message to notify the kernel that we're ready.\n",
              "      channel.send({})\n",
              "\n",
              "      for await (const message of channel.messages) {\n",
              "        // Send a message to notify the kernel that we're ready.\n",
              "        channel.send({})\n",
              "        if (message.buffers) {\n",
              "          for (const buffer of message.buffers) {\n",
              "            buffers.push(buffer);\n",
              "            downloaded += buffer.byteLength;\n",
              "            progress.value = downloaded;\n",
              "          }\n",
              "        }\n",
              "      }\n",
              "      const blob = new Blob(buffers, {type: 'application/binary'});\n",
              "      const a = document.createElement('a');\n",
              "      a.href = window.URL.createObjectURL(blob);\n",
              "      a.download = filename;\n",
              "      div.appendChild(a);\n",
              "      a.click();\n",
              "      div.remove();\n",
              "    }\n",
              "  "
            ],
            "text/plain": [
              "<IPython.core.display.Javascript object>"
            ]
          },
          "metadata": {
            "tags": []
          }
        },
        {
          "output_type": "display_data",
          "data": {
            "application/javascript": [
              "download(\"download_8aa94fa8-cf81-40c9-94e2-e2497bbd399e\", \"submission.csv\", 536202)"
            ],
            "text/plain": [
              "<IPython.core.display.Javascript object>"
            ]
          },
          "metadata": {
            "tags": []
          }
        }
      ]
    }
  ]
}