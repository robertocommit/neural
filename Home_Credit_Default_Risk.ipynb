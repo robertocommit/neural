{
  "nbformat": 4,
  "nbformat_minor": 0,
  "metadata": {
    "colab": {
      "name": "Home Credit Default Risk",
      "provenance": [],
      "collapsed_sections": [
        "3N9Cm7RzTvoY"
      ],
      "authorship_tag": "ABX9TyNWlwG7vWHjtVVfJlD7nSYS",
      "include_colab_link": true
    },
    "kernelspec": {
      "name": "python3",
      "display_name": "Python 3"
    },
    "accelerator": "GPU"
  },
  "cells": [
    {
      "cell_type": "markdown",
      "metadata": {
        "id": "view-in-github",
        "colab_type": "text"
      },
      "source": [
        "<a href=\"https://colab.research.google.com/github/robimalco/colab/blob/main/Home_Credit_Default_Risk.ipynb\" target=\"_parent\"><img src=\"https://colab.research.google.com/assets/colab-badge.svg\" alt=\"Open In Colab\"/></a>"
      ]
    },
    {
      "cell_type": "markdown",
      "metadata": {
        "id": "3N9Cm7RzTvoY"
      },
      "source": [
        "# ADD KEYS"
      ]
    },
    {
      "cell_type": "code",
      "metadata": {
        "id": "TPDViyQqPsaM",
        "colab": {
          "base_uri": "https://localhost:8080/"
        },
        "outputId": "d461b8af-156e-4aac-b962-6b2063abfa04"
      },
      "source": [
        "import os\n",
        "os.environ['KAGGLE_USERNAME'] = \"robimalco\" # username from the json file\n",
        "os.environ['KAGGLE_KEY'] = \"8fcc61848d4025dfdb164ec737d7166e\" # key from the json file\n",
        "!pip install -q kaggle\n",
        "!kaggle competitions download -c home-credit-default-risk"
      ],
      "execution_count": 1,
      "outputs": [
        {
          "output_type": "stream",
          "text": [
            "Warning: Looks like you're using an outdated API Version, please consider updating (server 1.5.9 / client 1.5.4)\n",
            "Downloading bureau_balance.csv.zip to /content\n",
            " 92% 52.0M/56.8M [00:01<00:00, 20.6MB/s]\n",
            "100% 56.8M/56.8M [00:02<00:00, 29.5MB/s]\n",
            "Downloading bureau.csv.zip to /content\n",
            " 68% 25.0M/36.8M [00:00<00:00, 50.8MB/s]\n",
            "100% 36.8M/36.8M [00:00<00:00, 68.2MB/s]\n",
            "Downloading POS_CASH_balance.csv.zip to /content\n",
            " 97% 105M/109M [00:02<00:00, 40.2MB/s] \n",
            "100% 109M/109M [00:02<00:00, 42.6MB/s]\n",
            "Downloading sample_submission.csv to /content\n",
            "  0% 0.00/524k [00:00<?, ?B/s]\n",
            "100% 524k/524k [00:00<00:00, 173MB/s]\n",
            "Downloading credit_card_balance.csv.zip to /content\n",
            " 92% 89.0M/96.7M [00:03<00:00, 17.4MB/s]\n",
            "100% 96.7M/96.7M [00:03<00:00, 29.2MB/s]\n",
            "Downloading HomeCredit_columns_description.csv to /content\n",
            "  0% 0.00/36.5k [00:00<?, ?B/s]\n",
            "100% 36.5k/36.5k [00:00<00:00, 28.7MB/s]\n",
            "Downloading application_train.csv.zip to /content\n",
            " 97% 35.0M/36.1M [00:00<00:00, 49.0MB/s]\n",
            "100% 36.1M/36.1M [00:00<00:00, 52.6MB/s]\n",
            "Downloading previous_application.csv.zip to /content\n",
            " 85% 65.0M/76.3M [00:02<00:00, 33.1MB/s]\n",
            "100% 76.3M/76.3M [00:02<00:00, 37.8MB/s]\n",
            "Downloading installments_payments.csv.zip to /content\n",
            " 95% 257M/271M [00:03<00:00, 56.1MB/s]\n",
            "100% 271M/271M [00:03<00:00, 80.5MB/s]\n",
            "Downloading application_test.csv.zip to /content\n",
            " 69% 4.00M/5.81M [00:00<00:00, 39.7MB/s]\n",
            "100% 5.81M/5.81M [00:00<00:00, 51.9MB/s]\n"
          ],
          "name": "stdout"
        }
      ]
    },
    {
      "cell_type": "markdown",
      "metadata": {
        "id": "hdr6gDQq5rET"
      },
      "source": [
        "# START SETUP"
      ]
    },
    {
      "cell_type": "code",
      "metadata": {
        "id": "3KnrADYj7yUe"
      },
      "source": [
        "!unzip application_test.csv.zip\n",
        "!unzip application_train.csv.zip\n",
        "# !unzip POS_CASH_balance.csv.zip\n",
        "# !unzip bureau.csv.zip\n",
        "# !unzip bureau_balance.csv.zip\n",
        "# !unzip credit_card_balance.csv.zip\n",
        "# !unzip installments_payments.csv.zip\n",
        "# !unzip previous_application.csv.zip"
      ],
      "execution_count": null,
      "outputs": []
    },
    {
      "cell_type": "code",
      "metadata": {
        "id": "Tv0twXOEnqMv"
      },
      "source": [
        "!pip install torch==1.7.0+cu101 torchvision==0.8.1+cu101 torchaudio==0.7.0 -f https://download.pytorch.org/whl/torch_stable.html\n",
        "!pip3 install torchvision"
      ],
      "execution_count": 4,
      "outputs": []
    },
    {
      "cell_type": "code",
      "metadata": {
        "id": "LbHvWyux-QjF"
      },
      "source": [
        "import numpy as np\n",
        "import pandas as pd\n",
        "\n",
        "import torch\n",
        "import torch.nn as nn\n",
        "import torch.nn.functional as F\n",
        "\n",
        "from sklearn import preprocessing\n",
        "from sklearn.preprocessing import LabelEncoder\n",
        "\n",
        "from matplotlib import pyplot as plt"
      ],
      "execution_count": 5,
      "outputs": []
    },
    {
      "cell_type": "code",
      "metadata": {
        "id": "JWBMpGHRRgn-"
      },
      "source": [
        "device = torch.device(\"cuda:0\" if torch.cuda.is_available() else \"cpu\")\n",
        "torch.cuda.get_device_name(0)"
      ],
      "execution_count": null,
      "outputs": []
    },
    {
      "cell_type": "code",
      "metadata": {
        "id": "6mGDv_sUBXxI"
      },
      "source": [
        "pd.set_option('display.max_columns', None)\n",
        "pd.set_option('display.max_rows', None)"
      ],
      "execution_count": 7,
      "outputs": []
    },
    {
      "cell_type": "markdown",
      "metadata": {
        "id": "xxeWyJnq58bz"
      },
      "source": [
        "# Files"
      ]
    },
    {
      "cell_type": "markdown",
      "metadata": {
        "id": "F40xkOit6Df6"
      },
      "source": [
        "*   application_{train|test}.csv --> main table, static data for all applications. One row represents one loan in our data sample.\n",
        "*   bureau.csv -->  client's previous credits, for every loan in our sample, there are as many rows as number of credits the client had.\n",
        "*   bureau_balance.csv --> monthly balances of previous credits, one row for each month.\n",
        "*   POS_CASH_balance.csv --> monthly balance snapshots of previous point of sales and cash loans that the applicant had, one row for each month.\n",
        "*   credit_card_balance.csv --> monthly balance snapshots of previous credit cards, one row for each month.\n",
        "*   previous_application.csv --> all previous applications for Home Credit loans of clients who have loans.\n",
        "*   installments_payments.csv --> repayment history for the previously disbursed credits."
      ]
    },
    {
      "cell_type": "markdown",
      "metadata": {
        "id": "7iS2krKz9hVR"
      },
      "source": [
        "# Load all data into pandas dataframes"
      ]
    },
    {
      "cell_type": "code",
      "metadata": {
        "id": "FoAxsP_l9glq"
      },
      "source": [
        "application_train_df = pd.read_csv('application_train.csv')\n",
        "application_test_df = pd.read_csv('application_test.csv')\n",
        "# bureau_df = pd.read_csv('bureau.csv')\n",
        "# bureau_balance_df = pd.read_csv('bureau_balance.csv')\n",
        "# pos_cash_balance_df = pd.read_csv('POS_CASH_balance.csv')\n",
        "# credit_card_balance_df = pd.read_csv('credit_card_balance.csv')\n",
        "# previous_application_df = pd.read_csv('previous_application.csv')\n",
        "# installments_payments_df = pd.read_csv('installments_payments.csv')"
      ],
      "execution_count": 150,
      "outputs": []
    },
    {
      "cell_type": "code",
      "metadata": {
        "id": "wGx5NzarZEVY"
      },
      "source": [
        "# application_train_df = application_train_df.head(20000)\n",
        "# application_test_df = application_test_df.head(2000)"
      ],
      "execution_count": 9,
      "outputs": []
    },
    {
      "cell_type": "code",
      "metadata": {
        "id": "Xp3mbkvTIboq"
      },
      "source": [
        "application_train_df['CSV_SOURCE'] = 'application_train.csv'\n",
        "application_test_df['CSV_SOURCE'] = 'application_test.csv'\n",
        "temp_df = pd.concat([application_train_df, application_test_df])"
      ],
      "execution_count": 179,
      "outputs": []
    },
    {
      "cell_type": "code",
      "metadata": {
        "id": "z9pTknL7bJl4",
        "colab": {
          "base_uri": "https://localhost:8080/"
        },
        "outputId": "d9b475b2-4f38-4a3a-f60c-2b50bbfbd45f"
      },
      "source": [
        "# Quick estimation of approval_rate\n",
        "rejected = application_train_df[application_train_df['TARGET'] == 0].shape[0]\n",
        "approved = application_train_df[application_train_df['TARGET'] == 1].shape[0]\n",
        "approval_rate = round(approved/(approved+rejected)*100)\n",
        "print(\"approval_rate%\", approval_rate)"
      ],
      "execution_count": 180,
      "outputs": [
        {
          "output_type": "stream",
          "text": [
            "approval_rate% 8\n"
          ],
          "name": "stdout"
        }
      ]
    },
    {
      "cell_type": "markdown",
      "metadata": {
        "id": "s933KG08D48G"
      },
      "source": [
        "# Function utilities"
      ]
    },
    {
      "cell_type": "code",
      "metadata": {
        "id": "gMpsQ-_X-996"
      },
      "source": [
        "def split_columns_by_type(input_df):\n",
        "  numerical_columns = []\n",
        "  categorical_columns = []\n",
        "  for column in input_df.columns:\n",
        "    if input_df.dtypes[column] == np.int64 or input_df.dtypes[column] == np.float64:\n",
        "      numerical_columns.append(column)\n",
        "    else:\n",
        "      categorical_columns.append(column)\n",
        "  return numerical_columns, categorical_columns"
      ],
      "execution_count": 169,
      "outputs": []
    },
    {
      "cell_type": "code",
      "metadata": {
        "id": "l0ThF3xmfqKU"
      },
      "source": [
        "# threshold = 60\n",
        "def convert_numerical_to_categorical(input_df):\n",
        "  for column in input_df.columns:\n",
        "    if column == 'TARGET':\n",
        "      pass\n",
        "    elif input_df.dtypes[column] == np.int64 or input_df.dtypes[column] == np.float64:\n",
        "      if len(input_df[column].unique()) < 60:\n",
        "        input_df[column] = input_df[column].astype('string')\n",
        "  return input_df"
      ],
      "execution_count": 170,
      "outputs": []
    },
    {
      "cell_type": "code",
      "metadata": {
        "id": "tYbnyF3dTGWo"
      },
      "source": [
        "def smart_overview(input_df):\n",
        "  a_types = []\n",
        "  a_countUnique = []\n",
        "  a_missing = []\n",
        "  a_missing_perc = []\n",
        "  a_corrTarget = []\n",
        "  a_min = []\n",
        "  a_max = []\n",
        "  a_mean = []\n",
        "  a_quantile = []\n",
        "  for column in input_df.columns:\n",
        "    x = input_df[column]\n",
        "    x_type = input_df.dtypes[column]\n",
        "    countUnique = len(x.unique())\n",
        "    missing = x.isnull().sum()\n",
        "    missing_perc = round((missing/input_df.shape[0]),3)*100\n",
        "    if x_type == np.int64 or x_type == np.float64:\n",
        "      a_corrTarget.append(round(x.corr(input_df['TARGET']), 3))\n",
        "      a_min.append(x.min())\n",
        "      a_max.append(x.max())\n",
        "      a_mean.append(x.mean())\n",
        "      a_quantile.append(x.quantile(0.5))\n",
        "    else:\n",
        "      a_corrTarget.append('')\n",
        "      a_min.append('')\n",
        "      a_max.append('')\n",
        "      a_mean.append('')\n",
        "      a_quantile.append('')\n",
        "    a_types.append(x_type)\n",
        "    a_countUnique.append(countUnique)\n",
        "    a_missing.append(missing)\n",
        "    a_missing_perc.append(missing_perc)\n",
        "  explore_df = pd.DataFrame({\n",
        "    'Columns': input_df.columns,\n",
        "    'Types': a_types,\n",
        "    'Unique': a_countUnique,\n",
        "    'Missing': a_missing,\n",
        "    'Missing%': a_missing_perc,\n",
        "    'CorrTarget': a_corrTarget,\n",
        "    'Min': a_min,\n",
        "    'Max': a_max,\n",
        "    'Mean': a_mean,\n",
        "    'Quantile': a_quantile\n",
        "  })\n",
        "  explore_df.set_index('Columns', inplace=True)\n",
        "  return explore_df.transpose()"
      ],
      "execution_count": 171,
      "outputs": []
    },
    {
      "cell_type": "markdown",
      "metadata": {
        "id": "frvaG7fS9Jx1"
      },
      "source": [
        "# Data Exploration"
      ]
    },
    {
      "cell_type": "markdown",
      "metadata": {
        "id": "XmxzAril9NMB"
      },
      "source": [
        "## application_{train|test}.csv"
      ]
    },
    {
      "cell_type": "code",
      "metadata": {
        "id": "sh9Rs2dy-1fE"
      },
      "source": [
        "# Order column alphabetically\n",
        "temp_df_columns = list(temp_df.columns)\n",
        "temp_df_columns.sort()\n",
        "temp_df = temp_df[temp_df_columns]"
      ],
      "execution_count": 181,
      "outputs": []
    },
    {
      "cell_type": "code",
      "metadata": {
        "id": "qTJtbRPtDRn9"
      },
      "source": [
        "# Define categorical and numerical columns\n",
        "temp_df = convert_numerical_to_categorical(temp_df)\n",
        "temp_columns_type = split_columns_by_type(temp_df)\n",
        "temp_numerical_columns = temp_columns_type[0]\n",
        "temp_categorical_columns = temp_columns_type[1]"
      ],
      "execution_count": 182,
      "outputs": []
    },
    {
      "cell_type": "code",
      "metadata": {
        "id": "rEy-9Qsz7ZoM"
      },
      "source": [
        "\"\"\"\n",
        "\n",
        "# Because they have values\n",
        "temp_numerical_columns = ['AMT_ANNUITY', 'AMT_CREDIT', 'AMT_GOODS_PRICE', 'REGION_POPULATION_RELATIVE', \n",
        "  'DAYS_BIRTH', 'DAYS_ID_PUBLISH', 'DAYS_REGISTRATION']\n",
        "\n",
        "# Without NULL\n",
        "temp_categorical_columns = ['CODE_GENDER', 'CSV_SOURCE', 'FLAG_CONT_MOBILE',\n",
        "  'FLAG_EMAIL', 'FLAG_EMP_PHONE', 'FLAG_MOBIL', 'FLAG_OWN_CAR', 'FLAG_OWN_REALTY', 'FLAG_PHONE',\n",
        "  'FLAG_WORK_PHONE', 'LIVE_CITY_NOT_WORK_CITY', 'LIVE_REGION_NOT_WORK_REGION',\n",
        "  'NAME_CONTRACT_TYPE', 'NAME_EDUCATION_TYPE', 'NAME_FAMILY_STATUS', 'NAME_HOUSING_TYPE', 'NAME_INCOME_TYPE',\n",
        "  'REGION_RATING_CLIENT', 'REGION_RATING_CLIENT_W_CITY', 'REG_CITY_NOT_LIVE_CITY',\n",
        "  'REG_CITY_NOT_WORK_CITY', 'REG_REGION_NOT_LIVE_REGION','REG_REGION_NOT_WORK_REGION', 'WEEKDAY_APPR_PROCESS_START', 'TARGET']\n",
        "\n",
        "\"\"\"\n",
        "\n",
        "temp_numerical_columns = ['AMT_ANNUITY', 'AMT_CREDIT']\n",
        "temp_categorical_columns = ['CODE_GENDER', 'CSV_SOURCE', 'FLAG_OWN_CAR',\n",
        "  'FLAG_OWN_REALTY', 'NAME_CONTRACT_TYPE', 'NAME_EDUCATION_TYPE',\n",
        "  'NAME_FAMILY_STATUS', 'NAME_HOUSING_TYPE', 'NAME_INCOME_TYPE']\n",
        "temp_target_column = ['TARGET']"
      ],
      "execution_count": 184,
      "outputs": []
    },
    {
      "cell_type": "code",
      "metadata": {
        "id": "JPTBqQsV8VUB"
      },
      "source": [
        "# KEEP ONLY RELEVAN COLUMNS\n",
        "temp_df = temp_df[temp_target_column + temp_categorical_columns + temp_numerical_columns]"
      ],
      "execution_count": 185,
      "outputs": []
    },
    {
      "cell_type": "code",
      "metadata": {
        "id": "y2j9zI7mHBoP"
      },
      "source": [
        "# Apply mean to missing values in numerical columns\n",
        "\n",
        "for numerical_column in temp_numerical_columns:\n",
        "  temp_df[numerical_column].fillna(value=temp_df[numerical_column].median(), inplace=True)"
      ],
      "execution_count": 186,
      "outputs": []
    },
    {
      "cell_type": "code",
      "metadata": {
        "id": "nT7t1r068wJX"
      },
      "source": [
        "# STANDARDISATION EXAMPLE\n",
        "min_max_scaler = preprocessing.MinMaxScaler()\n",
        "temp_df[temp_numerical_columns] = pd.DataFrame(min_max_scaler.fit_transform(temp_df[temp_numerical_columns]))"
      ],
      "execution_count": 187,
      "outputs": []
    },
    {
      "cell_type": "code",
      "metadata": {
        "id": "jVYxeWafSE-t"
      },
      "source": [
        "# smart_overview(temp_df)\n",
        "\n",
        "# temp_df.hist(figsize=(24,20), bins=100)\n",
        "# plt.show()"
      ],
      "execution_count": 28,
      "outputs": []
    },
    {
      "cell_type": "code",
      "metadata": {
        "id": "i4Hv3Ii6DWMx"
      },
      "source": [
        "pd.options.mode.chained_assignment = None\n",
        "\n",
        "temp_categorical_columns.remove('CSV_SOURCE')\n",
        "\n",
        "for column in temp_categorical_columns:\n",
        "  temp_df[column] = LabelEncoder().fit_transform(temp_df[column].astype(str))\n",
        "for column in temp_categorical_columns:\n",
        "  temp_df[column] = temp_df[column].astype('category')"
      ],
      "execution_count": 188,
      "outputs": []
    },
    {
      "cell_type": "code",
      "metadata": {
        "id": "tB6lrtUpJan-"
      },
      "source": [
        "train_temp_df = temp_df[temp_df['CSV_SOURCE'] == 'application_train.csv']\n",
        "train_output_temp_df = pd.DataFrame(train_temp_df['TARGET'], columns=['TARGET'])\n",
        "\n",
        "test_temp_df = temp_df[temp_df['CSV_SOURCE'] == 'application_test.csv']\n",
        "\n",
        "train_temp_df.drop(columns=['CSV_SOURCE', 'TARGET'], axis=0, inplace=True)\n",
        "test_temp_df.drop(columns=['CSV_SOURCE', 'TARGET'], axis=0, inplace=True)"
      ],
      "execution_count": 189,
      "outputs": []
    },
    {
      "cell_type": "code",
      "metadata": {
        "id": "OFEpXts7KaDc"
      },
      "source": [
        "def create_categorical_tensor(input_df):\n",
        "  stack = []\n",
        "  for column in temp_categorical_columns:\n",
        "    temp_stack = input_df[column].cat.codes.values\n",
        "    stack.append(temp_stack)\n",
        "  return torch.tensor(np.stack(stack, 1), dtype=torch.float)\n",
        "\n",
        "def create_numerical_tensor(input_df):\n",
        "  stack = []\n",
        "  for column in temp_numerical_columns:\n",
        "    temp_stack = input_df[column].astype(np.float64)\n",
        "    stack.append(temp_stack)\n",
        "  return torch.tensor(np.stack(stack, 1), dtype=torch.float)\n",
        "\n",
        "\n",
        "tensor_train_categorical = create_categorical_tensor(train_temp_df[temp_categorical_columns]).float()\n",
        "tensor_train_numerical = create_numerical_tensor(train_temp_df[temp_numerical_columns]).float()\n",
        "tensor_train_output = torch.tensor(train_output_temp_df.values).flatten().float()\n",
        "\n",
        "tensor_test_categorical = create_categorical_tensor(test_temp_df[temp_categorical_columns]).float()\n",
        "tensor_test_numerical = create_numerical_tensor(test_temp_df[temp_numerical_columns]).float()"
      ],
      "execution_count": 194,
      "outputs": []
    },
    {
      "cell_type": "code",
      "metadata": {
        "id": "9LoNNJOsLMWS"
      },
      "source": [
        "total_records_train = len(train_temp_df)\n",
        "test_records_train = int(total_records_train * 0.2)\n",
        "\n",
        "tensor_train_categorical_data = tensor_train_categorical[:total_records_train-test_records_train].to(device)\n",
        "tensor_train_numerical_data = tensor_train_numerical[:total_records_train-test_records_train].to(device)\n",
        "tensor_train_output = tensor_train_output[:total_records_train-test_records_train].to(device)\n",
        "\n",
        "tensor_validation_categorical_data = tensor_train_categorical[total_records_train-test_records_train:total_records_train].to(device)\n",
        "tensor_validation_numerical_data = tensor_train_numerical[total_records_train-test_records_train:total_records_train].to(device)\n",
        "tensor_validation_output = tensor_train_output[:total_records_train-(total_records_train-test_records_train)].to(device)"
      ],
      "execution_count": 195,
      "outputs": []
    },
    {
      "cell_type": "code",
      "metadata": {
        "id": "ZSDav1gcL2MN"
      },
      "source": [
        "categorical_columns_size = [len(temp_df[column].astype('category').cat.categories) for column in temp_categorical_columns]\n",
        "categorical_embedding_sizes = [(col_size, min(50, (col_size+1)//2)) for col_size in categorical_columns_size]\n",
        "# categorical_embedding_sizes"
      ],
      "execution_count": 196,
      "outputs": []
    },
    {
      "cell_type": "code",
      "metadata": {
        "id": "jaVwMCL64ttq"
      },
      "source": [
        "from torch.utils.data import Dataset, TensorDataset\n",
        "from torch.utils.data import DataLoader\n",
        "\n",
        "train_data = TensorDataset(tensor_train_categorical_data, tensor_train_numerical_data, tensor_train_output)\n",
        "train_loader = DataLoader(dataset=train_data, batch_size=16, shuffle=True)"
      ],
      "execution_count": 197,
      "outputs": []
    },
    {
      "cell_type": "code",
      "metadata": {
        "id": "R_1m9m_3Msst"
      },
      "source": [
        "class Model(nn.Module):\n",
        "  def __init__(self, embedding_size, num_numerical_cols, layers, ps):\n",
        "    super().__init__()\n",
        "\n",
        "    self.all_embeddings = nn.ModuleList([nn.Embedding(ni, nf) for ni, nf in embedding_size])\n",
        "    self.emb_drop = nn.Dropout(0.04)\n",
        "    self.bn_cont = nn.BatchNorm1d(num_numerical_cols)\n",
        "\n",
        "    num_categorical_cols = sum((nf for ni, nf in embedding_size))\n",
        "    input_size = num_categorical_cols + num_numerical_cols\n",
        "\n",
        "    layerlist = []\n",
        "    for i, elem in enumerate(layers):\n",
        "      layerlist.append(nn.Linear(input_size, elem))\n",
        "      layerlist.append(nn.ReLU(inplace=True))\n",
        "      layerlist.append(nn.BatchNorm1d(layers[i]))\n",
        "      layerlist.append(nn.Dropout(ps[i]))\n",
        "      input_size = elem\n",
        "    layerlist.append(nn.Linear(layers[-1], 1))\n",
        "\n",
        "    self.layers = nn.Sequential(*layerlist)\n",
        "\n",
        "  def forward(self, x_categorical, x_numerical):\n",
        "\n",
        "    embeddings = []\n",
        "    for i,e in enumerate(self.all_embeddings):\n",
        "        embeddings.append(e(x_categorical[:,i].long()))\n",
        "\n",
        "    x = torch.cat(embeddings, 1)\n",
        "    x = self.emb_drop(x)\n",
        "\n",
        "    x_numerical = self.bn_cont(x_numerical)\n",
        "\n",
        "    x = torch.cat([x, x_numerical], 1)\n",
        "    x = self.layers(x)\n",
        "\n",
        "    return x"
      ],
      "execution_count": 198,
      "outputs": []
    },
    {
      "cell_type": "code",
      "metadata": {
        "id": "fBAifb1TTjhG"
      },
      "source": [
        "num_numerical_cols = tensor_train_numerical_data.shape[1]\n",
        "\n",
        "model = Model(categorical_embedding_sizes, num_numerical_cols, layers=[1000,500], ps=[0.001,0.01])\n",
        "loss_function = nn.MSELoss()\n",
        "optimizer = torch.optim.Adam(model.parameters(), lr=0.001)\n",
        "model.to(device)"
      ],
      "execution_count": null,
      "outputs": []
    },
    {
      "cell_type": "code",
      "metadata": {
        "id": "K6yyOYgr5bZP",
        "colab": {
          "base_uri": "https://localhost:8080/"
        },
        "outputId": "cf63b24b-4df4-4f14-ba6c-180e57474b6a"
      },
      "source": [
        "# Train\n",
        "\n",
        "n_epochs = 10\n",
        "\n",
        "for epoch in range(n_epochs):\n",
        "  losses = []\n",
        "  for x_cat, x_num, y in train_loader:\n",
        "    y_pred = model(x_cat, x_num)\n",
        "    single_loss = torch.sqrt(loss_function(y_pred.squeeze(), y))\n",
        "    optimizer.zero_grad()\n",
        "    single_loss.backward()\n",
        "    optimizer.step()\n",
        "    losses.append(single_loss.item())\n",
        "  print(\"epoch: \" + str(epoch) + \"\\tloss: \" + str(1.0 * sum(losses) / len(losses)))"
      ],
      "execution_count": 202,
      "outputs": [
        {
          "output_type": "stream",
          "text": [
            "epoch: 0\tloss: 0.24907278147861475\n",
            "epoch: 1\tloss: 0.2390864946910521\n",
            "epoch: 2\tloss: 0.23817670228993665\n",
            "epoch: 3\tloss: 0.23767345136733503\n",
            "epoch: 4\tloss: 0.23867501056207197\n",
            "epoch: 5\tloss: 0.23857653210048685\n",
            "epoch: 6\tloss: 0.23921548680792226\n",
            "epoch: 7\tloss: 0.23881255620146133\n",
            "epoch: 8\tloss: 0.23859213882495472\n",
            "epoch: 9\tloss: 0.23801598809538643\n"
          ],
          "name": "stdout"
        }
      ]
    },
    {
      "cell_type": "code",
      "metadata": {
        "colab": {
          "base_uri": "https://localhost:8080/",
          "height": 265
        },
        "id": "eQUBLEXXlnAw",
        "outputId": "7056a506-3b4e-42bf-cf63-f959f929cccd"
      },
      "source": [
        "l = [0.24907278147861475,0.2390864946910521,0.23817670228993665,\n",
        "     0.23767345136733503,0.23867501056207197,0.23857653210048685,\n",
        "     0.23921548680792226,0.23881255620146133,0.23859213882495472,\n",
        "     0.23801598809538643]\n",
        "plt.plot(l)\n",
        "plt.show()"
      ],
      "execution_count": 204,
      "outputs": [
        {
          "output_type": "display_data",
          "data": {
            "image/png": "[encoded data removed]",
            "text/plain": [
              "<Figure size 432x288 with 1 Axes>"
            ]
          },
          "metadata": {
            "tags": [],
            "needs_background": "light"
          }
        }
      ]
    },
    {
      "cell_type": "code",
      "metadata": {
        "id": "Ozr6OavjNgrK",
        "colab": {
          "base_uri": "https://localhost:8080/"
        },
        "outputId": "9c5c0295-e975-4970-86a5-d76dd4d96c7e"
      },
      "source": [
        "# Validate\n",
        "\n",
        "validation_data = TensorDataset(tensor_validation_categorical_data, tensor_validation_numerical_data, tensor_validation_output)\n",
        "validation_loader = DataLoader(dataset=validation_data, batch_size=16, shuffle=True)\n",
        "\n",
        "losses = []\n",
        "\n",
        "with torch.no_grad():\n",
        "  for x_cat, x_num, y in validation_loader:\n",
        "    y_valid = model(x_cat, x_num)\n",
        "    validation_loss = torch.sqrt(loss_function(y_valid.squeeze(), y))\n",
        "    losses.append(validation_loss.item())\n",
        "  print(\"loss: \" + str(1.0 * sum(losses) / len(losses)))"
      ],
      "execution_count": 206,
      "outputs": [
        {
          "output_type": "stream",
          "text": [
            "loss: 0.23511044131243033\n"
          ],
          "name": "stdout"
        }
      ]
    },
    {
      "cell_type": "code",
      "metadata": {
        "id": "KbY5ybTLJpd4",
        "colab": {
          "base_uri": "https://localhost:8080/",
          "height": 316
        },
        "outputId": "8d369165-fd5b-4fea-824d-b5384c2f609f"
      },
      "source": [
        "# Predict\n",
        "\n",
        "with torch.no_grad():\n",
        "  tensor_test_categorical_data = tensor_test_categorical.to(device)\n",
        "  tensor_test_numerical_data = tensor_test_numerical.to(device)\n",
        "  y_pred = model(tensor_test_categorical_data, tensor_test_numerical_data)\n",
        "pd.DataFrame(y_pred).astype(\"float\").hist(bins=1000)"
      ],
      "execution_count": 207,
      "outputs": [
        {
          "output_type": "execute_result",
          "data": {
            "text/plain": [
              "array([[<matplotlib.axes._subplots.AxesSubplot object at 0x7f552047ac18>]],\n",
              "      dtype=object)"
            ]
          },
          "metadata": {
            "tags": []
          },
          "execution_count": 207
        },
        {
          "output_type": "display_data",
          "data": {
            "image/png": "[encoded data removed]",
            "text/plain": [
              "<Figure size 432x288 with 1 Axes>"
            ]
          },
          "metadata": {
            "tags": [],
            "needs_background": "light"
          }
        }
      ]
    },
    {
      "cell_type": "code",
      "metadata": {
        "id": "Vc2BwhwKoHDa",
        "colab": {
          "base_uri": "https://localhost:8080/"
        },
        "outputId": "5f253dc2-b02a-4048-8a79-ff4b6b4c8d4b"
      },
      "source": [
        "prediction_df = pd.DataFrame(y_pred).astype(\"float\")\n",
        "min_max_scaler = preprocessing.MinMaxScaler()\n",
        "x_scaled = min_max_scaler.fit_transform(prediction_df)\n",
        "prediction_df = pd.DataFrame(x_scaled)\n",
        "prediction_df = pd.concat([prediction_df, application_test_df['SK_ID_CURR']], axis=1)\n",
        "prediction_df.columns = ['TEMP_TARGET', 'SK_ID_CURR']\n",
        "prediction_df['TARGET'] = round(prediction_df['TEMP_TARGET'], 1)\n",
        "prediction_df = prediction_df[['SK_ID_CURR', 'TARGET']]\n",
        "print(\"mean:\", str(prediction_df['TARGET'].mean()))\n",
        "prediction_df.groupby(by=['TARGET'])['TARGET'].count()"
      ],
      "execution_count": 208,
      "outputs": [
        {
          "output_type": "stream",
          "text": [
            "mean: 0.507081897259164\n"
          ],
          "name": "stdout"
        },
        {
          "output_type": "execute_result",
          "data": {
            "text/plain": [
              "TARGET\n",
              "0.0        3\n",
              "0.1        4\n",
              "0.2       32\n",
              "0.3      602\n",
              "0.4    10193\n",
              "0.5    26223\n",
              "0.6     9141\n",
              "0.7     1909\n",
              "0.8      537\n",
              "0.9       94\n",
              "1.0        6\n",
              "Name: TARGET, dtype: int64"
            ]
          },
          "metadata": {
            "tags": []
          },
          "execution_count": 208
        }
      ]
    },
    {
      "cell_type": "code",
      "metadata": {
        "id": "twJGI3cVm7cJ",
        "colab": {
          "base_uri": "https://localhost:8080/",
          "height": 17
        },
        "outputId": "4128a651-b70f-4e2d-a815-0deefdb2378a"
      },
      "source": [
        "from google.colab import files\n",
        "\n",
        "submission_df = prediction_df[['SK_ID_CURR', 'TARGET']]\n",
        "submission_df.to_csv('submission.csv', index=False)\n",
        "files.download('submission.csv')"
      ],
      "execution_count": 209,
      "outputs": [
        {
          "output_type": "display_data",
          "data": {
            "application/javascript": [
              "\n",
              "    async function download(id, filename, size) {\n",
              "      if (!google.colab.kernel.accessAllowed) {\n",
              "        return;\n",
              "      }\n",
              "      const div = document.createElement('div');\n",
              "      const label = document.createElement('label');\n",
              "      label.textContent = `Downloading \"${filename}\": `;\n",
              "      div.appendChild(label);\n",
              "      const progress = document.createElement('progress');\n",
              "      progress.max = size;\n",
              "      div.appendChild(progress);\n",
              "      document.body.appendChild(div);\n",
              "\n",
              "      const buffers = [];\n",
              "      let downloaded = 0;\n",
              "\n",
              "      const channel = await google.colab.kernel.comms.open(id);\n",
              "      // Send a message to notify the kernel that we're ready.\n",
              "      channel.send({})\n",
              "\n",
              "      for await (const message of channel.messages) {\n",
              "        // Send a message to notify the kernel that we're ready.\n",
              "        channel.send({})\n",
              "        if (message.buffers) {\n",
              "          for (const buffer of message.buffers) {\n",
              "            buffers.push(buffer);\n",
              "            downloaded += buffer.byteLength;\n",
              "            progress.value = downloaded;\n",
              "          }\n",
              "        }\n",
              "      }\n",
              "      const blob = new Blob(buffers, {type: 'application/binary'});\n",
              "      const a = document.createElement('a');\n",
              "      a.href = window.URL.createObjectURL(blob);\n",
              "      a.download = filename;\n",
              "      div.appendChild(a);\n",
              "      a.click();\n",
              "      div.remove();\n",
              "    }\n",
              "  "
            ],
            "text/plain": [
              "<IPython.core.display.Javascript object>"
            ]
          },
          "metadata": {
            "tags": []
          }
        },
        {
          "output_type": "display_data",
          "data": {
            "application/javascript": [
              "download(\"download_c6c27c11-2a8a-448e-ad96-0c9afb36ce81\", \"submission.csv\", 536202)"
            ],
            "text/plain": [
              "<IPython.core.display.Javascript object>"
            ]
          },
          "metadata": {
            "tags": []
          }
        }
      ]
    }
  ]
}