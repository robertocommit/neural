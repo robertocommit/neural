{
  "nbformat": 4,
  "nbformat_minor": 0,
  "metadata": {
    "colab": {
      "name": "Home Credit Default Risk",
      "provenance": [],
      "collapsed_sections": [
        "s933KG08D48G"
      ],
      "authorship_tag": "ABX9TyMJwr+1bzD2if7hSnHeJ4vO",
      "include_colab_link": true
    },
    "kernelspec": {
      "name": "python3",
      "display_name": "Python 3"
    },
    "accelerator": "GPU"
  },
  "cells": [
    {
      "cell_type": "markdown",
      "metadata": {
        "id": "view-in-github",
        "colab_type": "text"
      },
      "source": [
        "<a href=\"https://colab.research.google.com/github/robimalco/colab/blob/main/Home_Credit_Default_Risk.ipynb\" target=\"_parent\"><img src=\"https://colab.research.google.com/assets/colab-badge.svg\" alt=\"Open In Colab\"/></a>"
      ]
    },
    {
      "cell_type": "markdown",
      "metadata": {
        "id": "3N9Cm7RzTvoY"
      },
      "source": [
        "# ADD KEYS"
      ]
    },
    {
      "cell_type": "code",
      "metadata": {
        "id": "TPDViyQqPsaM",
        "colab": {
          "base_uri": "https://localhost:8080/"
        },
        "outputId": "ee7c823b-b8cc-4fe1-d58f-004e9b7887d9"
      },
      "source": [
        "import os\n",
        "os.environ['KAGGLE_USERNAME'] = \"robimalco\" # username from the json file\n",
        "os.environ['KAGGLE_KEY'] = \"7faca1e8423f46969ba8f8d5dc4488f8\" # key from the json file\n",
        "!pip install -q kaggle\n",
        "!kaggle competitions download -c home-credit-default-risk"
      ],
      "execution_count": 1,
      "outputs": [
        {
          "output_type": "stream",
          "text": [
            "Warning: Looks like you're using an outdated API Version, please consider updating (server 1.5.9 / client 1.5.4)\n",
            "credit_card_balance.csv.zip: Skipping, found more recently modified local copy (use --force to force download)\n",
            "HomeCredit_columns_description.csv: Skipping, found more recently modified local copy (use --force to force download)\n",
            "bureau_balance.csv.zip: Skipping, found more recently modified local copy (use --force to force download)\n",
            "sample_submission.csv: Skipping, found more recently modified local copy (use --force to force download)\n",
            "application_train.csv.zip: Skipping, found more recently modified local copy (use --force to force download)\n",
            "installments_payments.csv.zip: Skipping, found more recently modified local copy (use --force to force download)\n",
            "POS_CASH_balance.csv.zip: Skipping, found more recently modified local copy (use --force to force download)\n",
            "previous_application.csv.zip: Skipping, found more recently modified local copy (use --force to force download)\n",
            "application_test.csv.zip: Skipping, found more recently modified local copy (use --force to force download)\n",
            "bureau.csv.zip: Skipping, found more recently modified local copy (use --force to force download)\n"
          ],
          "name": "stdout"
        }
      ]
    },
    {
      "cell_type": "markdown",
      "metadata": {
        "id": "hdr6gDQq5rET"
      },
      "source": [
        "# START SETUP"
      ]
    },
    {
      "cell_type": "code",
      "metadata": {
        "id": "3KnrADYj7yUe"
      },
      "source": [
        "!unzip application_test.csv.zip\n",
        "!unzip application_train.csv.zip\n",
        "# !unzip POS_CASH_balance.csv.zip\n",
        "# !unzip bureau.csv.zip\n",
        "# !unzip bureau_balance.csv.zip\n",
        "# !unzip credit_card_balance.csv.zip\n",
        "# !unzip installments_payments.csv.zip\n",
        "# !unzip previous_application.csv.zip"
      ],
      "execution_count": null,
      "outputs": []
    },
    {
      "cell_type": "code",
      "metadata": {
        "id": "Tv0twXOEnqMv"
      },
      "source": [
        "!pip install torch==1.7.0+cu101 torchvision==0.8.1+cu101 torchaudio==0.7.0 -f https://download.pytorch.org/whl/torch_stable.html\n",
        "!pip3 install torchvision"
      ],
      "execution_count": null,
      "outputs": []
    },
    {
      "cell_type": "code",
      "metadata": {
        "id": "LbHvWyux-QjF"
      },
      "source": [
        "import numpy as np\n",
        "import pandas as pd\n",
        "\n",
        "import torch\n",
        "import torch.nn as nn\n",
        "import torch.nn.functional as F\n",
        "\n",
        "from sklearn.preprocessing import LabelEncoder"
      ],
      "execution_count": 4,
      "outputs": []
    },
    {
      "cell_type": "code",
      "metadata": {
        "id": "JWBMpGHRRgn-"
      },
      "source": [
        "device = torch.device(\"cuda:0\" if torch.cuda.is_available() else \"cpu\")\n",
        "torch.cuda.get_device_name(0)"
      ],
      "execution_count": null,
      "outputs": []
    },
    {
      "cell_type": "code",
      "metadata": {
        "id": "6mGDv_sUBXxI"
      },
      "source": [
        "pd.set_option('display.max_columns', None)"
      ],
      "execution_count": 6,
      "outputs": []
    },
    {
      "cell_type": "markdown",
      "metadata": {
        "id": "xxeWyJnq58bz"
      },
      "source": [
        "# Files"
      ]
    },
    {
      "cell_type": "markdown",
      "metadata": {
        "id": "F40xkOit6Df6"
      },
      "source": [
        "*   application_{train|test}.csv --> main table, static data for all applications. One row represents one loan in our data sample.\n",
        "*   bureau.csv -->  client's previous credits, for every loan in our sample, there are as many rows as number of credits the client had.\n",
        "*   bureau_balance.csv --> monthly balances of previous credits, one row for each month.\n",
        "*   POS_CASH_balance.csv --> monthly balance snapshots of previous point of sales and cash loans that the applicant had, one row for each month.\n",
        "*   credit_card_balance.csv --> monthly balance snapshots of previous credit cards, one row for each month.\n",
        "*   previous_application.csv --> all previous applications for Home Credit loans of clients who have loans.\n",
        "*   installments_payments.csv --> repayment history for the previously disbursed credits."
      ]
    },
    {
      "cell_type": "markdown",
      "metadata": {
        "id": "7iS2krKz9hVR"
      },
      "source": [
        "# Load all data into pandas dataframes"
      ]
    },
    {
      "cell_type": "code",
      "metadata": {
        "id": "FoAxsP_l9glq"
      },
      "source": [
        "application_train_df = pd.read_csv('application_train.csv')\n",
        "application_test_df = pd.read_csv('application_test.csv')\n",
        "# bureau_df = pd.read_csv('bureau.csv')\n",
        "# bureau_balance_df = pd.read_csv('bureau_balance.csv')\n",
        "# pos_cash_balance_df = pd.read_csv('POS_CASH_balance.csv')\n",
        "# credit_card_balance_df = pd.read_csv('credit_card_balance.csv')\n",
        "# previous_application_df = pd.read_csv('previous_application.csv')\n",
        "# installments_payments_df = pd.read_csv('installments_payments.csv')"
      ],
      "execution_count": 138,
      "outputs": []
    },
    {
      "cell_type": "code",
      "metadata": {
        "id": "wGx5NzarZEVY"
      },
      "source": [
        "# application_train_df = application_train_df.head(20000)\n",
        "# application_test_df = application_test_df.head(2000)"
      ],
      "execution_count": 91,
      "outputs": []
    },
    {
      "cell_type": "code",
      "metadata": {
        "id": "Xp3mbkvTIboq"
      },
      "source": [
        "application_train_df['CSV_SOURCE'] = 'application_train.csv'\n",
        "application_test_df['CSV_SOURCE'] = 'application_test.csv'\n",
        "temp_df = pd.concat([application_train_df, application_test_df])"
      ],
      "execution_count": 139,
      "outputs": []
    },
    {
      "cell_type": "code",
      "metadata": {
        "id": "z9pTknL7bJl4",
        "colab": {
          "base_uri": "https://localhost:8080/"
        },
        "outputId": "db60e2d7-fd84-4dd7-eafa-55a9ceb673da"
      },
      "source": [
        "# Quick estimation of approval_rate\n",
        "rejected = application_train_df[application_train_df['TARGET'] == 0].shape[0]\n",
        "approved = application_train_df[application_train_df['TARGET'] == 1].shape[0]\n",
        "approval_rate = round(approved/(approved+rejected)*100)\n",
        "print(\"approval_rate%\", approval_rate)"
      ],
      "execution_count": 140,
      "outputs": [
        {
          "output_type": "stream",
          "text": [
            "approval_rate% 8\n"
          ],
          "name": "stdout"
        }
      ]
    },
    {
      "cell_type": "markdown",
      "metadata": {
        "id": "s933KG08D48G"
      },
      "source": [
        "# Function utilities"
      ]
    },
    {
      "cell_type": "code",
      "metadata": {
        "id": "gMpsQ-_X-996"
      },
      "source": [
        "def split_columns_by_type(input_df):\n",
        "  numerical_columns = []\n",
        "  categorical_columns = []\n",
        "  for column in input_df.columns:\n",
        "    if input_df.dtypes[column] == np.int64 or input_df.dtypes[column] == np.float64:\n",
        "      numerical_columns.append(column)\n",
        "    else:\n",
        "      categorical_columns.append(column)\n",
        "  return numerical_columns, categorical_columns"
      ],
      "execution_count": 141,
      "outputs": []
    },
    {
      "cell_type": "code",
      "metadata": {
        "id": "l0ThF3xmfqKU"
      },
      "source": [
        "# threshold = 60\n",
        "def convert_numerical_to_categorical(input_df):\n",
        "  for column in input_df.columns:\n",
        "    if column == 'TARGET':\n",
        "      pass\n",
        "    elif input_df.dtypes[column] == np.int64 or input_df.dtypes[column] == np.float64:\n",
        "      if len(input_df[column].unique()) < 60:\n",
        "        input_df[column] = input_df[column].astype('string')\n",
        "  return input_df"
      ],
      "execution_count": 142,
      "outputs": []
    },
    {
      "cell_type": "code",
      "metadata": {
        "id": "71qINxdj5_Hh"
      },
      "source": [
        "def smart_overview(input_df, numerical_columns):\n",
        "  list_of_numerics = input_df.select_dtypes(include=['float', 'int']).columns\n",
        "  types = input_df.dtypes\n",
        "  countUnique = [len(input_df[column].unique()) for column in input_df.columns]\n",
        "  corrSalePrice = round(input_df[numerical_columns].corrwith(input_df['TARGET']), 3)\n",
        "  missing = input_df.isnull().sum()\n",
        "  missing_perc = round((input_df.isnull().sum()/input_df.shape[0]),3)*100\n",
        "  overview = input_df.apply(\n",
        "    lambda x: [\n",
        "      round(x.min()), \n",
        "      round(x.max()), \n",
        "      round(x.mean()), \n",
        "      round(x.quantile(0.5))\n",
        "    ] if x.name in list_of_numerics else x.unique())\n",
        "  outliers = input_df.apply(\n",
        "    lambda x: sum(\n",
        "      (x<(x.quantile(0.25)-1.5*(x.quantile(0.75)-x.quantile(0.25)))) | \n",
        "      (x>(x.quantile(0.75)+1.5*(x.quantile(0.75)-x.quantile(0.25)))) \n",
        "      if x.name in list_of_numerics else ''))\n",
        "  explore_df = pd.DataFrame({\n",
        "    'Types': types,\n",
        "    'Unique': countUnique,\n",
        "    'CorrSalePrice': corrSalePrice,\n",
        "    'Missing': missing,\n",
        "    'Missing%': missing_perc,\n",
        "    'Overview': overview,\n",
        "    'Outliers': outliers\n",
        "  })\n",
        "  explore_df['Types'] = explore_df['Types'].astype(str)\n",
        "  return explore_df.transpose()"
      ],
      "execution_count": 143,
      "outputs": []
    },
    {
      "cell_type": "markdown",
      "metadata": {
        "id": "frvaG7fS9Jx1"
      },
      "source": [
        "# Data Exploration"
      ]
    },
    {
      "cell_type": "markdown",
      "metadata": {
        "id": "XmxzAril9NMB"
      },
      "source": [
        "## application_{train|test}.csv"
      ]
    },
    {
      "cell_type": "code",
      "metadata": {
        "id": "sh9Rs2dy-1fE"
      },
      "source": [
        "# Order column alphabetically\n",
        "temp_df_columns = list(temp_df.columns)\n",
        "temp_df_columns.sort()\n",
        "temp_df = temp_df[temp_df_columns]"
      ],
      "execution_count": 144,
      "outputs": []
    },
    {
      "cell_type": "code",
      "metadata": {
        "id": "qTJtbRPtDRn9"
      },
      "source": [
        "# Define categorical and numerical columns\n",
        "# temp_df = convert_numerical_to_categorical(temp_df)\n",
        "temp_columns_type = split_columns_by_type(temp_df)\n",
        "temp_numerical_columns = temp_columns_type[0]\n",
        "temp_categorical_columns = temp_columns_type[1]\n",
        "smart_overview(temp_df, temp_numerical_columns)"
      ],
      "execution_count": null,
      "outputs": []
    },
    {
      "cell_type": "code",
      "metadata": {
        "id": "3GpJjFTXZg-x"
      },
      "source": [
        "temp_numerical_columns = ['AMT_ANNUITY', 'AMT_CREDIT']"
      ],
      "execution_count": 147,
      "outputs": []
    },
    {
      "cell_type": "code",
      "metadata": {
        "id": "y2j9zI7mHBoP"
      },
      "source": [
        "# Apply mean to missing values in numerical columns\n",
        "temp_categorical_columns.remove('CSV_SOURCE')\n",
        "\n",
        "for numerical_column in temp_numerical_columns:\n",
        "  temp_df[numerical_column].fillna(value=temp_df[numerical_column].mean(), inplace=True)"
      ],
      "execution_count": 148,
      "outputs": []
    },
    {
      "cell_type": "code",
      "metadata": {
        "id": "i4Hv3Ii6DWMx"
      },
      "source": [
        "pd.options.mode.chained_assignment = None\n",
        "for column in temp_categorical_columns:\n",
        "  temp_df[column] = LabelEncoder().fit_transform(temp_df[column].astype(str))\n",
        "for column in temp_categorical_columns:\n",
        "  temp_df[column] = temp_df[column].astype('category')"
      ],
      "execution_count": 149,
      "outputs": []
    },
    {
      "cell_type": "code",
      "metadata": {
        "id": "tB6lrtUpJan-"
      },
      "source": [
        "train_temp_df = temp_df[temp_df['CSV_SOURCE'] == 'application_train.csv']\n",
        "train_output_temp_df = pd.DataFrame(train_temp_df['TARGET'], columns=['TARGET'])\n",
        "\n",
        "test_temp_df = temp_df[temp_df['CSV_SOURCE'] == 'application_test.csv']"
      ],
      "execution_count": 150,
      "outputs": []
    },
    {
      "cell_type": "code",
      "metadata": {
        "id": "QJSI206EgYbi"
      },
      "source": [
        "# KEEP ONLY RELEVAN COLUMNS\n",
        "\n",
        "train_temp_df = train_temp_df[temp_categorical_columns + temp_numerical_columns]\n",
        "test_temp_df = test_temp_df[temp_categorical_columns + temp_numerical_columns]\n",
        "test_temp_df.head(5)"
      ],
      "execution_count": 151,
      "outputs": []
    },
    {
      "cell_type": "code",
      "metadata": {
        "id": "OFEpXts7KaDc"
      },
      "source": [
        "def create_categorical_tensor(input_df):\n",
        "  stack = []\n",
        "  for column in temp_categorical_columns:\n",
        "    temp_stack = input_df[column].cat.codes.values\n",
        "    stack.append(temp_stack)\n",
        "  return torch.tensor(np.stack(stack, 1), dtype=torch.float)\n",
        "\n",
        "def create_numerical_tensor(input_df):\n",
        "  stack = []\n",
        "  for column in temp_numerical_columns:\n",
        "    temp_stack = input_df[column].astype(np.float64)\n",
        "    stack.append(temp_stack)\n",
        "  return torch.tensor(np.stack(stack, 1), dtype=torch.float)\n",
        "\n",
        "\n",
        "tensor_train_categorical = create_categorical_tensor(train_temp_df[temp_categorical_columns]).float()\n",
        "tensor_train_numerical = create_numerical_tensor(train_temp_df[temp_numerical_columns]).float()\n",
        "tensor_train_output = torch.tensor(train_output_temp_df.values).flatten().float()\n",
        "\n",
        "tensor_test_categorical = create_categorical_tensor(test_temp_df[temp_categorical_columns]).float()\n",
        "tensor_test_numerical = create_numerical_tensor(test_temp_df[temp_numerical_columns]).float()"
      ],
      "execution_count": 154,
      "outputs": []
    },
    {
      "cell_type": "code",
      "metadata": {
        "id": "9LoNNJOsLMWS"
      },
      "source": [
        "total_records_train = len(train_temp_df)\n",
        "test_records_train = int(total_records_train * 0.2)\n",
        "\n",
        "tensor_train_categorical_data = tensor_train_categorical[:total_records_train-test_records_train].to(device)\n",
        "tensor_train_numerical_data = tensor_train_numerical[:total_records_train-test_records_train].to(device)\n",
        "tensor_train_output = tensor_train_output[:total_records_train-test_records_train].to(device)\n",
        "\n",
        "tensor_validation_categorical_data = tensor_train_categorical[total_records_train-test_records_train:total_records_train].to(device)\n",
        "tensor_validation_numerical_data = tensor_train_numerical[total_records_train-test_records_train:total_records_train].to(device)\n",
        "tensor_validation_output = tensor_train_output[:total_records_train-(total_records_train-test_records_train)].to(device)"
      ],
      "execution_count": 155,
      "outputs": []
    },
    {
      "cell_type": "code",
      "metadata": {
        "id": "ZSDav1gcL2MN"
      },
      "source": [
        "categorical_columns_size = [len(temp_df[column].astype('category').cat.categories) for column in temp_categorical_columns]\n",
        "categorical_embedding_sizes = [(col_size, min(50, (col_size+1)//2)) for col_size in categorical_columns_size]\n",
        "# categorical_embedding_sizes"
      ],
      "execution_count": 157,
      "outputs": []
    },
    {
      "cell_type": "code",
      "metadata": {
        "id": "jaVwMCL64ttq"
      },
      "source": [
        "from torch.utils.data import Dataset, TensorDataset\n",
        "from torch.utils.data import DataLoader\n",
        "\n",
        "train_data = TensorDataset(tensor_train_categorical_data, tensor_train_numerical_data, tensor_train_output)\n",
        "train_loader = DataLoader(dataset=train_data, batch_size=16, shuffle=True)"
      ],
      "execution_count": 158,
      "outputs": []
    },
    {
      "cell_type": "code",
      "metadata": {
        "id": "R_1m9m_3Msst"
      },
      "source": [
        "class Model(nn.Module):\n",
        "  def __init__(self, embedding_size, num_numerical_cols):\n",
        "    super().__init__()\n",
        "\n",
        "    self.all_embeddings = nn.ModuleList([nn.Embedding(ni, nf) for ni, nf in embedding_size])\n",
        "\n",
        "    self.bn_cont = nn.BatchNorm1d(num_numerical_cols)\n",
        "\n",
        "    num_categorical_cols = sum((nf for ni, nf in embedding_size))\n",
        "    input_size = num_categorical_cols + num_numerical_cols\n",
        "\n",
        "    self.lin1 = nn.Linear(input_size, 200)\n",
        "    self.lin2 = nn.Linear(200, 100)\n",
        "    self.lin3 = nn.Linear(100, 50)\n",
        "    self.lin4 = nn.Linear(50, 1)\n",
        "\n",
        "  def forward(self, x_categorical, x_numerical):\n",
        "\n",
        "    embeddings = []\n",
        "    for i,e in enumerate(self.all_embeddings):\n",
        "        embeddings.append(e(x_categorical[:,i].long()))\n",
        "\n",
        "    x = torch.cat(embeddings, 1)\n",
        "    \n",
        "    x_numerical = self.bn_cont(x_numerical)\n",
        "\n",
        "    x = torch.cat([x, x_numerical], 1)\n",
        "\n",
        "    x = self.lin1(x)\n",
        "    x = self.lin2(x)\n",
        "    x = self.lin3(x)\n",
        "    x = self.lin4(x)\n",
        "\n",
        "    # x = torch.sigmoid(x)\n",
        "\n",
        "    return x"
      ],
      "execution_count": 159,
      "outputs": []
    },
    {
      "cell_type": "code",
      "metadata": {
        "id": "fBAifb1TTjhG"
      },
      "source": [
        "num_numerical_cols = tensor_train_numerical_data.shape[1]\n",
        "\n",
        "model = Model(categorical_embedding_sizes, num_numerical_cols)\n",
        "loss_function = nn.MSELoss()\n",
        "optimizer = torch.optim.Adam(model.parameters(), lr=0.01)\n",
        "model.to(device)"
      ],
      "execution_count": null,
      "outputs": []
    },
    {
      "cell_type": "code",
      "metadata": {
        "id": "K6yyOYgr5bZP",
        "colab": {
          "base_uri": "https://localhost:8080/"
        },
        "outputId": "360075a4-26cb-4261-c6f1-189461d84c51"
      },
      "source": [
        "# Train\n",
        "\n",
        "n_epochs = 10\n",
        "\n",
        "for epoch in range(n_epochs):\n",
        "  for x_cat, x_num, y in train_loader:\n",
        "    y_pred = model(x_cat, x_num)\n",
        "    single_loss = loss_function(y_pred.squeeze(), y)\n",
        "    running_loss = str(single_loss.item())\n",
        "    optimizer.zero_grad()\n",
        "    single_loss.backward()\n",
        "    optimizer.step()\n",
        "  print(\"epoch: \" + str(epoch) + \"\\tloss: \" + running_loss)"
      ],
      "execution_count": 161,
      "outputs": [
        {
          "output_type": "stream",
          "text": [
            "epoch: 0\tloss: 0.004701899830251932\n",
            "epoch: 1\tloss: 0.0024507923517376184\n",
            "epoch: 2\tloss: 0.09663719683885574\n",
            "epoch: 3\tloss: 0.07739976793527603\n",
            "epoch: 4\tloss: 0.09513478726148605\n",
            "epoch: 5\tloss: 0.06275366246700287\n",
            "epoch: 6\tloss: 0.1853216588497162\n",
            "epoch: 7\tloss: 0.10196243971586227\n",
            "epoch: 8\tloss: 0.11356649547815323\n",
            "epoch: 9\tloss: 0.1973358541727066\n"
          ],
          "name": "stdout"
        }
      ]
    },
    {
      "cell_type": "code",
      "metadata": {
        "id": "Ozr6OavjNgrK",
        "colab": {
          "base_uri": "https://localhost:8080/"
        },
        "outputId": "d4b77888-045e-49ed-ee06-f800202c8b88"
      },
      "source": [
        "# Validate\n",
        "\n",
        "validation_data = TensorDataset(tensor_validation_categorical_data, tensor_validation_numerical_data, tensor_validation_output)\n",
        "validation_loader = DataLoader(dataset=validation_data, batch_size=16, shuffle=True)\n",
        "\n",
        "with torch.no_grad():\n",
        "  for x_cat, x_num, y in validation_loader:\n",
        "    y_valid = model(x_cat, x_num)\n",
        "    validation_loss = loss_function(y_valid.squeeze(), y)\n",
        "  print(\"\\tvalidation_loss: \" + str(validation_loss.item()))"
      ],
      "execution_count": 162,
      "outputs": [
        {
          "output_type": "stream",
          "text": [
            "\tvalidation_loss: 0.008341483771800995\n"
          ],
          "name": "stdout"
        }
      ]
    },
    {
      "cell_type": "code",
      "metadata": {
        "id": "KbY5ybTLJpd4",
        "colab": {
          "base_uri": "https://localhost:8080/"
        },
        "outputId": "668819e5-f3b7-4d33-fd3e-bc3db43b7fa0"
      },
      "source": [
        "# Predict\n",
        "\n",
        "with torch.no_grad():\n",
        "  tensor_test_categorical_data = tensor_test_categorical.to(device)\n",
        "  tensor_test_numerical_data = tensor_test_numerical.to(device)\n",
        "  y_pred = model(tensor_test_categorical_data, tensor_test_numerical_data)\n",
        "y_pred"
      ],
      "execution_count": 164,
      "outputs": [
        {
          "output_type": "execute_result",
          "data": {
            "text/plain": [
              "tensor([[0.0837],\n",
              "        [0.0731],\n",
              "        [0.1098],\n",
              "        ...,\n",
              "        [0.0873],\n",
              "        [0.0848],\n",
              "        [0.0879]], device='cuda:0')"
            ]
          },
          "metadata": {
            "tags": []
          },
          "execution_count": 164
        }
      ]
    },
    {
      "cell_type": "code",
      "metadata": {
        "id": "BESUJu04JZra",
        "colab": {
          "base_uri": "https://localhost:8080/",
          "height": 316
        },
        "outputId": "a12563e7-f05c-4e87-f839-9085df614333"
      },
      "source": [
        "# Plot prediction distribution\n",
        "pd.DataFrame(y_pred).astype(\"float\").hist(bins=1000)"
      ],
      "execution_count": 165,
      "outputs": [
        {
          "output_type": "execute_result",
          "data": {
            "text/plain": [
              "array([[<matplotlib.axes._subplots.AxesSubplot object at 0x7fc749f3f4e0>]],\n",
              "      dtype=object)"
            ]
          },
          "metadata": {
            "tags": []
          },
          "execution_count": 165
        },
        {
          "output_type": "display_data",
          "data": {
            "image/png": "[encoded data removed]",
            "text/plain": [
              "<Figure size 432x288 with 1 Axes>"
            ]
          },
          "metadata": {
            "tags": [],
            "needs_background": "light"
          }
        }
      ]
    },
    {
      "cell_type": "code",
      "metadata": {
        "id": "Vc2BwhwKoHDa"
      },
      "source": [
        "from sklearn import preprocessing\n",
        "\n",
        "prediction_df = pd.DataFrame(y_pred).astype(\"float\")\n",
        "min_max_scaler = preprocessing.MinMaxScaler()\n",
        "x_scaled = min_max_scaler.fit_transform(prediction_df)\n",
        "prediction_df = pd.DataFrame(x_scaled)\n",
        "prediction_df = pd.concat([prediction_df, application_test_df['SK_ID_CURR']], axis=1)\n",
        "prediction_df.columns = ['TEMP_TARGET', 'SK_ID_CURR']\n",
        "prediction_df['TARGET'] = round(prediction_df['TEMP_TARGET'], 1)\n",
        "prediction_df = prediction_df[['SK_ID_CURR', 'TARGET']]"
      ],
      "execution_count": 166,
      "outputs": []
    },
    {
      "cell_type": "code",
      "metadata": {
        "colab": {
          "base_uri": "https://localhost:8080/"
        },
        "id": "R7hAGUtt5-Zc",
        "outputId": "6ebafab5-be00-4552-df19-34401292d9fb"
      },
      "source": [
        "prediction_df['TARGET'].mean()"
      ],
      "execution_count": 167,
      "outputs": [
        {
          "output_type": "execute_result",
          "data": {
            "text/plain": [
              "0.49175283111770923"
            ]
          },
          "metadata": {
            "tags": []
          },
          "execution_count": 167
        }
      ]
    },
    {
      "cell_type": "code",
      "metadata": {
        "id": "8gCaNi45yzQg",
        "colab": {
          "base_uri": "https://localhost:8080/"
        },
        "outputId": "8a78ab97-a525-43fc-e0b5-6303f242e682"
      },
      "source": [
        "prediction_df.groupby(by=['TARGET'])['TARGET'].count()"
      ],
      "execution_count": 168,
      "outputs": [
        {
          "output_type": "execute_result",
          "data": {
            "text/plain": [
              "TARGET\n",
              "0.0        1\n",
              "0.1       55\n",
              "0.2      166\n",
              "0.3     1535\n",
              "0.4    14740\n",
              "0.5    20709\n",
              "0.6     9081\n",
              "0.7     1989\n",
              "0.8      426\n",
              "0.9       34\n",
              "1.0        8\n",
              "Name: TARGET, dtype: int64"
            ]
          },
          "metadata": {
            "tags": []
          },
          "execution_count": 168
        }
      ]
    },
    {
      "cell_type": "code",
      "metadata": {
        "id": "twJGI3cVm7cJ",
        "colab": {
          "base_uri": "https://localhost:8080/",
          "height": 17
        },
        "outputId": "0c3effe7-944a-4760-f5a1-0ae8f3fffe43"
      },
      "source": [
        "from google.colab import files\n",
        "\n",
        "submission_df = prediction_df[['SK_ID_CURR', 'TARGET']]\n",
        "submission_df.to_csv('submission.csv', index=False)\n",
        "files.download('submission.csv')"
      ],
      "execution_count": 169,
      "outputs": [
        {
          "output_type": "display_data",
          "data": {
            "application/javascript": [
              "\n",
              "    async function download(id, filename, size) {\n",
              "      if (!google.colab.kernel.accessAllowed) {\n",
              "        return;\n",
              "      }\n",
              "      const div = document.createElement('div');\n",
              "      const label = document.createElement('label');\n",
              "      label.textContent = `Downloading \"${filename}\": `;\n",
              "      div.appendChild(label);\n",
              "      const progress = document.createElement('progress');\n",
              "      progress.max = size;\n",
              "      div.appendChild(progress);\n",
              "      document.body.appendChild(div);\n",
              "\n",
              "      const buffers = [];\n",
              "      let downloaded = 0;\n",
              "\n",
              "      const channel = await google.colab.kernel.comms.open(id);\n",
              "      // Send a message to notify the kernel that we're ready.\n",
              "      channel.send({})\n",
              "\n",
              "      for await (const message of channel.messages) {\n",
              "        // Send a message to notify the kernel that we're ready.\n",
              "        channel.send({})\n",
              "        if (message.buffers) {\n",
              "          for (const buffer of message.buffers) {\n",
              "            buffers.push(buffer);\n",
              "            downloaded += buffer.byteLength;\n",
              "            progress.value = downloaded;\n",
              "          }\n",
              "        }\n",
              "      }\n",
              "      const blob = new Blob(buffers, {type: 'application/binary'});\n",
              "      const a = document.createElement('a');\n",
              "      a.href = window.URL.createObjectURL(blob);\n",
              "      a.download = filename;\n",
              "      div.appendChild(a);\n",
              "      a.click();\n",
              "      div.remove();\n",
              "    }\n",
              "  "
            ],
            "text/plain": [
              "<IPython.core.display.Javascript object>"
            ]
          },
          "metadata": {
            "tags": []
          }
        },
        {
          "output_type": "display_data",
          "data": {
            "application/javascript": [
              "download(\"download_ce7c7433-8bde-4878-8ae7-39dc8702e01a\", \"submission.csv\", 536202)"
            ],
            "text/plain": [
              "<IPython.core.display.Javascript object>"
            ]
          },
          "metadata": {
            "tags": []
          }
        }
      ]
    }
  ]
}