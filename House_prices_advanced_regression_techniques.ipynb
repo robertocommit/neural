{
  "nbformat": 4,
  "nbformat_minor": 0,
  "metadata": {
    "colab": {
      "name": "House-prices: advanced-regression-techniques.ipynb",
      "provenance": [],
      "collapsed_sections": [],
      "authorship_tag": "ABX9TyPmY9N+/s/8q/dmq6Tbuael",
      "include_colab_link": true
    },
    "kernelspec": {
      "name": "python3",
      "display_name": "Python 3"
    }
  },
  "cells": [
    {
      "cell_type": "markdown",
      "metadata": {
        "id": "view-in-github",
        "colab_type": "text"
      },
      "source": [
        "<a href=\"https://colab.research.google.com/github/robimalco/colab/blob/main/House_prices_advanced_regression_techniques.ipynb\" target=\"_parent\"><img src=\"https://colab.research.google.com/assets/colab-badge.svg\" alt=\"Open In Colab\"/></a>"
      ]
    },
    {
      "cell_type": "markdown",
      "metadata": {
        "id": "nHjvM2-hXK0H"
      },
      "source": [
        "## Download files\n",
        "\n"
      ]
    },
    {
      "cell_type": "markdown",
      "metadata": {
        "id": "6ZIbwZHoYg96"
      },
      "source": [
        "- **SalePrice** - the property's sale price in dollars. This is the target variable that you're trying to predict.\n",
        "- **MSSubClass**: The building class\n",
        "- **MSZoning**: The general zoning classification\n",
        "- **LotFrontage**: Linear feet of street connected to property\n",
        "- **LotArea**: Lot size in square feet\n",
        "- **Street**: Type of road access\n",
        "- **Alley**: Type of alley access\n",
        "- **LotShape**: General shape of property\n",
        "- **LandContour**: Flatness of the property\n",
        "- **Utilities**: Type of utilities available\n",
        "- **LotConfig**: Lot configuration\n",
        "- **LandSlope**: Slope of property\n",
        "- **Neighborhood**: Physical locations within Ames city limits\n",
        "- **Condition1**: Proximity to main road or railroad\n",
        "- **Condition2**: Proximity to main road or railroad (if a second is present)\n",
        "- **BldgType**: Type of dwelling\n",
        "- **HouseStyle**: Style of dwelling\n",
        "- **OverallQual**: Overall material and finish quality\n",
        "- **OverallCond**: Overall condition rating\n",
        "- **YearBuilt**: Original construction date\n",
        "- **YearRemodAdd**: Remodel date\n",
        "- **RoofStyle**: Type of roof\n",
        "- **RoofMatl**: Roof material\n",
        "- **Exterior1st**: Exterior covering on house\n",
        "- **Exterior2nd**: Exterior covering on house (if more than one material)\n",
        "- **MasVnrType**: Masonry veneer type\n",
        "- **MasVnrArea**: Masonry veneer area in square feet\n",
        "- **ExterQual**: Exterior material quality\n",
        "- **ExterCond**: Present condition of the material on the exterior\n",
        "- **Foundation**: Type of foundation\n",
        "- **BsmtQual**: Height of the basement\n",
        "- **BsmtCond**: General condition of the basement\n",
        "- **BsmtExposure**: Walkout or garden level basement walls\n",
        "- **BsmtFinType1**: Quality of basement finished area\n",
        "- **BsmtFinSF1**: Type 1 finished square feet\n",
        "- **BsmtFinType2**: Quality of second finished area (if present)\n",
        "- **BsmtFinSF2**: Type 2 finished square feet\n",
        "- **BsmtUnfSF**: Unfinished square feet of basement area\n",
        "- **TotalBsmtSF**: Total square feet of basement area\n",
        "- **Heating**: Type of heating\n",
        "- **HeatingQC**: Heating quality and condition\n",
        "- **CentralAir**: Central air conditioning\n",
        "- **Electrical**: Electrical system\n",
        "- **1stFlrSF**: First Floor square feet\n",
        "- **2ndFlrSF**: Second floor square feet\n",
        "- **LowQualFinSF**: Low quality finished square feet (all floors)\n",
        "- **GrLivArea**: Above grade (ground) living area square feet\n",
        "- **BsmtFullBath**: Basement full bathrooms\n",
        "- **BsmtHalfBath**: Basement half bathrooms\n",
        "- **FullBath**: Full bathrooms above grade\n",
        "- **HalfBath**: Half baths above grade\n",
        "- **Bedroom**: Number of bedrooms above basement level\n",
        "- **Kitchen**: Number of kitchens\n",
        "- **KitchenQual**: Kitchen quality\n",
        "- **TotRmsAbvGrd**: Total rooms above grade (does not include bathrooms)\n",
        "- **Functional**: Home functionality rating\n",
        "- **Fireplaces**: Number of fireplaces\n",
        "- **FireplaceQu**: Fireplace quality\n",
        "- **GarageType**: Garage location\n",
        "- **GarageYrBlt**: Year garage was built\n",
        "- **GarageFinish**: Interior finish of the garage\n",
        "- **GarageCars**: Size of garage in car capacity\n",
        "- **GarageArea**: Size of garage in square feet\n",
        "- **GarageQual**: Garage quality\n",
        "- **GarageCond**: Garage condition\n",
        "- **PavedDrive**: Paved driveway\n",
        "- **WoodDeckSF**: Wood deck area in square feet\n",
        "- **OpenPorchSF**: Open porch area in square feet\n",
        "- **EnclosedPorch**: Enclosed porch area in square feet\n",
        "- **3SsnPorch**: Three season porch area in square feet\n",
        "- **ScreenPorch**: Screen porch area in square feet\n",
        "- **PoolArea**: Pool area in square feet\n",
        "- **PoolQC**: Pool quality\n",
        "- **Fence**: Fence quality\n",
        "- **MiscFeature**: Miscellaneous feature not covered in other categories\n",
        "- **MiscVal**: $Value of miscellaneous feature\n",
        "- **MoSold**: Month Sold\n",
        "- **YrSold**: Year Sold\n",
        "- **SaleType**: Type of sale\n",
        "- **SaleCondition**: Condition of sale"
      ]
    },
    {
      "cell_type": "code",
      "metadata": {
        "id": "lQPvQcB_Tp7Q"
      },
      "source": [
        "from google.colab import files\n",
        "files.upload()"
      ],
      "execution_count": null,
      "outputs": []
    },
    {
      "cell_type": "code",
      "metadata": {
        "id": "ZA-nbClRO8ir"
      },
      "source": [
        "!pip install -q kaggle\n",
        "!mkdir ~/.kaggle\n",
        "!cp kaggle.json ~/.kaggle/\n",
        "!chmod 600 ~/.kaggle/kaggle.json\n",
        "!kaggle competitions download -c house-prices-advanced-regression-techniques"
      ],
      "execution_count": null,
      "outputs": []
    },
    {
      "cell_type": "code",
      "metadata": {
        "id": "pJ8LXcTzXUW6"
      },
      "source": [
        "import pandas as pd\n",
        "import numpy as np\n",
        "import torch\n",
        "import torch.nn as nn\n",
        "from sklearn.preprocessing import LabelEncoder"
      ],
      "execution_count": 121,
      "outputs": []
    },
    {
      "cell_type": "markdown",
      "metadata": {
        "id": "ka9b57nUXRdm"
      },
      "source": [
        "## Data Exploration"
      ]
    },
    {
      "cell_type": "code",
      "metadata": {
        "id": "FX-8bRYWXmRK"
      },
      "source": [
        "original_train_df = pd.read_csv('train.csv')\n",
        "original_train_df['Source'] = 'train.csv'\n",
        "\n",
        "original_test_df = pd.read_csv('test.csv')\n",
        "original_test_df['Source'] = 'test.csv'\n",
        "\n",
        "total_df = pd.concat([original_train_df, original_test_df], axis=0)"
      ],
      "execution_count": 355,
      "outputs": []
    },
    {
      "cell_type": "code",
      "metadata": {
        "id": "bFtZcutli20l"
      },
      "source": [
        "numerical_columns = []\n",
        "categorical_columns = []\n",
        "\n",
        "for column in total_df.columns:\n",
        "  if total_df.dtypes[column] == np.int64 or total_df.dtypes[column] == np.float64:\n",
        "    numerical_columns.append(column)\n",
        "  else:\n",
        "    categorical_columns.append(column)\n",
        "\n",
        "categorical_columns.remove('Source')\n",
        "numerical_columns.remove('SalePrice')\n",
        "cp_total_df = total_df"
      ],
      "execution_count": 356,
      "outputs": []
    },
    {
      "cell_type": "code",
      "metadata": {
        "id": "X84hwInAlSsV"
      },
      "source": [
        "pd.options.mode.chained_assignment = None\n",
        "\n",
        "for column in categorical_columns:\n",
        "    cp_total_df[column] = cp_total_df[column].fillna('N/A')\n",
        "\n",
        "for column in numerical_columns:\n",
        "    cp_total_df[column] = cp_total_df[column].fillna(0)\n",
        "\n",
        "for column in categorical_columns:\n",
        "  cp_total_df[column] = LabelEncoder().fit_transform(cp_total_df[column])\n",
        "\n",
        "for column in categorical_columns:\n",
        "  cp_total_df[column] = cp_total_df[column].astype('category')"
      ],
      "execution_count": 357,
      "outputs": []
    },
    {
      "cell_type": "code",
      "metadata": {
        "id": "w_GlBfjTshPZ"
      },
      "source": [
        "train_df = cp_total_df[cp_total_df['Source'] == 'train.csv']\n",
        "train_output_df = pd.DataFrame(train_df['SalePrice'], columns=['SalePrice'])\n",
        "train_df.drop('SalePrice', axis=1, inplace=True)\n",
        "\n",
        "test_df = cp_total_df[cp_total_df['Source'] == 'test.csv']\n",
        "test_df.drop('SalePrice', axis=1, inplace=True)"
      ],
      "execution_count": 358,
      "outputs": []
    },
    {
      "cell_type": "code",
      "metadata": {
        "id": "gWct8Lc5u76g"
      },
      "source": [
        "def create_tensor(input_df):\n",
        "  stack = []\n",
        "  for column in categorical_columns:\n",
        "    temp_stack = input_df[column].cat.codes.values\n",
        "    stack.append(temp_stack)\n",
        "  for column in numerical_columns:\n",
        "    temp_stack = input_df[column].astype(np.float64)\n",
        "    stack.append(temp_stack)\n",
        "  return torch.tensor(np.stack(stack, 1), dtype=torch.float)\n",
        "\n",
        "tensor_train = create_tensor(train_df).float()\n",
        "tensor_output = torch.tensor(train_output_df['SalePrice']).flatten().float()\n",
        "\n",
        "tensor_test = create_tensor(test_df).float()"
      ],
      "execution_count": 359,
      "outputs": []
    },
    {
      "cell_type": "code",
      "metadata": {
        "id": "8hWd-cmIqYSi"
      },
      "source": [
        "total_records_train = len(tensor_train)\n",
        "test_records_train = int(total_records_train * 0.2)\n",
        "\n",
        "tensor_train_data = tensor_train[:total_records_train-test_records_train]\n",
        "tensor_train_output = tensor_output[:total_records_train-test_records_train]\n",
        "\n",
        "tensor_validation_data = tensor_train[total_records_train-test_records_train:total_records_train]\n",
        "tensor_output = tensor_output[total_records_train-test_records_train:total_records_train]"
      ],
      "execution_count": 360,
      "outputs": []
    },
    {
      "cell_type": "code",
      "metadata": {
        "id": "BN_8pJnLv46m"
      },
      "source": [
        "in_nodes = tensor_train.shape[1]\n",
        "out_nodes = tensor_train.shape[1]\n",
        "\n",
        "class Model(nn.Module):\n",
        "  def __init__(self):\n",
        "    super().__init__()\n",
        "    self.linear1 = nn.Linear(tensor_train.shape[1], 1000)\n",
        "    self.linear2 = nn.Linear(1000, 500)\n",
        "    self.linear3 = nn.Linear(500, 200)\n",
        "    self.linear4 = nn.Linear(200, 1)\n",
        "  def forward(self, x):\n",
        "    y = self.linear1(x)\n",
        "    y = torch.nn.functional.dropout(y, p=0.2)\n",
        "    y = self.linear2(y)\n",
        "    y = torch.nn.functional.dropout(y, p=0.2)\n",
        "    y = self.linear3(y)\n",
        "    y = torch.nn.functional.dropout(y, p=0.2)\n",
        "    y = self.linear4(y)\n",
        "    return y"
      ],
      "execution_count": 361,
      "outputs": []
    },
    {
      "cell_type": "code",
      "metadata": {
        "id": "RAP1r8NfyE0U"
      },
      "source": [
        "model = Model()\n",
        "loss_function = nn.MSELoss()\n",
        "optimizer = torch.optim.Adam(model.parameters(), lr=0.001)"
      ],
      "execution_count": 362,
      "outputs": []
    },
    {
      "cell_type": "code",
      "metadata": {
        "id": "zY4iolXgyYDh",
        "outputId": "a0d1178c-b2fe-4d11-d2d5-7e02625e8431",
        "colab": {
          "base_uri": "https://localhost:8080/"
        }
      },
      "source": [
        "epochs = 1000\n",
        "for i in range(epochs):\n",
        "  y_pred = model(tensor_train_data)\n",
        "  loss = loss_function(y_pred.squeeze(), tensor_train_output)\n",
        "  optimizer.zero_grad()\n",
        "  loss.backward()\n",
        "  optimizer.step()\n",
        "  if i % 100 == 0:\n",
        "    print(\"epoch: \" + str(i) + \"\\tloss: \" + str(loss.item()))"
      ],
      "execution_count": 364,
      "outputs": [
        {
          "output_type": "stream",
          "text": [
            "epoch: 0\tloss: 1813103232.0\n",
            "epoch: 100\tloss: 1702382720.0\n",
            "epoch: 200\tloss: 1639933440.0\n",
            "epoch: 300\tloss: 1633621632.0\n",
            "epoch: 400\tloss: 1574892416.0\n",
            "epoch: 500\tloss: 1600418688.0\n",
            "epoch: 600\tloss: 1489712000.0\n",
            "epoch: 700\tloss: 1501491584.0\n",
            "epoch: 800\tloss: 1476710912.0\n",
            "epoch: 900\tloss: 1441138176.0\n"
          ],
          "name": "stdout"
        }
      ]
    },
    {
      "cell_type": "code",
      "metadata": {
        "id": "5JYu0awluUfb",
        "outputId": "0b6ecb64-c4ca-4716-da58-8436719e932a",
        "colab": {
          "base_uri": "https://localhost:8080/"
        }
      },
      "source": [
        "with torch.no_grad():\n",
        "    y_val = model(tensor_test_data)\n",
        "    loss = loss_function(y_val.squeeze(), tensor_test_output)\n",
        "print(\"Loss: \" + str(loss))"
      ],
      "execution_count": 366,
      "outputs": [
        {
          "output_type": "stream",
          "text": [
            "Loss: tensor(3.1867e+09)\n"
          ],
          "name": "stdout"
        }
      ]
    },
    {
      "cell_type": "code",
      "metadata": {
        "id": "DMS8A0eVuyZN"
      },
      "source": [
        "# Make predictions\n",
        "with torch.no_grad():\n",
        "    y_pred = model(tensor_test)\n",
        "print(\"Loss: \" + str(loss))"
      ],
      "execution_count": null,
      "outputs": []
    },
    {
      "cell_type": "code",
      "metadata": {
        "id": "rODwWm9uJ5Ml"
      },
      "source": [
        "submission_df = pd.DataFrame(y_pred).astype(\"float\")"
      ],
      "execution_count": 329,
      "outputs": []
    }
  ]
}