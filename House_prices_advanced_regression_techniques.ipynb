{
  "nbformat": 4,
  "nbformat_minor": 0,
  "metadata": {
    "colab": {
      "name": "House-prices: advanced-regression-techniques.ipynb",
      "provenance": [],
      "collapsed_sections": [],
      "authorship_tag": "ABX9TyOZQWO2ZVH6DSio6N66QjSl",
      "include_colab_link": true
    },
    "kernelspec": {
      "name": "python3",
      "display_name": "Python 3"
    }
  },
  "cells": [
    {
      "cell_type": "markdown",
      "metadata": {
        "id": "view-in-github",
        "colab_type": "text"
      },
      "source": [
        "<a href=\"https://colab.research.google.com/github/robimalco/colab/blob/main/House_prices_advanced_regression_techniques.ipynb\" target=\"_parent\"><img src=\"https://colab.research.google.com/assets/colab-badge.svg\" alt=\"Open In Colab\"/></a>"
      ]
    },
    {
      "cell_type": "markdown",
      "metadata": {
        "id": "nHjvM2-hXK0H"
      },
      "source": [
        "## Download files\n",
        "\n"
      ]
    },
    {
      "cell_type": "markdown",
      "metadata": {
        "id": "6ZIbwZHoYg96"
      },
      "source": [
        "- **SalePrice** - the property's sale price in dollars. This is the target variable that you're trying to predict.\n",
        "- **1stFlrSF**: First Floor square feet\n",
        "- **2ndFlrSF**: Second floor square feet\n",
        "- **3SsnPorch**: Three season porch area in square feet\n",
        "- **Alley**: Type of alley access\n",
        "- **Bedroom**: Number of bedrooms above basement level\n",
        "- **BldgType**: Type of dwelling\n",
        "- **BsmtCond**: General condition of the basement\n",
        "- **BsmtExposure**: Walkout or garden level basement walls\n",
        "- **BsmtFinSF1**: Type 1 finished square feet\n",
        "- **BsmtFinSF2**: Type 2 finished square feet\n",
        "- **BsmtFinType1**: Quality of basement finished area\n",
        "- **BsmtFinType2**: Quality of second finished area (if present)\n",
        "- **BsmtFullBath**: Basement full bathrooms\n",
        "- **BsmtHalfBath**: Basement half bathrooms\n",
        "- **BsmtQual**: Height of the basement\n",
        "- **BsmtUnfSF**: Unfinished square feet of basement area\n",
        "- **CentralAir**: Central air conditioning\n",
        "- **Condition1**: Proximity to main road or railroad\n",
        "- **Condition2**: Proximity to main road or railroad (if a second is present)\n",
        "- **Electrical**: Electrical system\n",
        "- **EnclosedPorch**: Enclosed porch area in square feet\n",
        "- **ExterCond**: Present condition of the material on the exterior\n",
        "- **Exterior1st**: Exterior covering on house\n",
        "- **Exterior2nd**: Exterior covering on house (if more than one material)\n",
        "- **ExterQual**: Exterior material quality\n",
        "- **Fence**: Fence quality\n",
        "- **FireplaceQu**: Fireplace quality\n",
        "- **Fireplaces**: Number of fireplaces\n",
        "- **Foundation**: Type of foundation\n",
        "- **FullBath**: Full bathrooms above grade\n",
        "- **Functional**: Home functionality rating\n",
        "- **GarageArea**: Size of garage in square feet\n",
        "- **GarageCars**: Size of garage in car capacity\n",
        "- **GarageCond**: Garage condition\n",
        "- **GarageFinish**: Interior finish of the garage\n",
        "- **GarageQual**: Garage quality\n",
        "- **GarageType**: Garage location\n",
        "- **GarageYrBlt**: Year garage was built\n",
        "- **GrLivArea**: Above grade (ground) living area square feet\n",
        "- **HalfBath**: Half baths above grade\n",
        "- **Heating**: Type of heating\n",
        "- **HeatingQC**: Heating quality and condition\n",
        "- **HouseStyle**: Style of dwelling\n",
        "- **Kitchen**: Number of kitchens\n",
        "- **KitchenQual**: Kitchen quality\n",
        "- **LandContour**: Flatness of the property\n",
        "- **LandSlope**: Slope of property\n",
        "- **LotArea**: Lot size in square feet\n",
        "- **LotConfig**: Lot configuration\n",
        "- **LotFrontage**: Linear feet of street connected to property\n",
        "- **LotShape**: General shape of property\n",
        "- **LowQualFinSF**: Low quality finished square feet (all floors)\n",
        "- **MasVnrArea**: Masonry veneer area in square feet\n",
        "- **MasVnrType**: Masonry veneer type\n",
        "- **MiscFeature**: Miscellaneous feature not covered in other categories\n",
        "- **MiscVal**: $Value of miscellaneous feature\n",
        "- **MoSold**: Month Sold\n",
        "- **MSSubClass**: The building class\n",
        "- **MSZoning**: The general zoning classification\n",
        "- **Neighborhood**: Physical locations within Ames city limits\n",
        "- **OpenPorchSF**: Open porch area in square feet\n",
        "- **OverallCond**: Overall condition rating\n",
        "- **OverallQual**: Overall material and finish quality\n",
        "- **PavedDrive**: Paved driveway\n",
        "- **PoolArea**: Pool area in square feet\n",
        "- **PoolQC**: Pool quality\n",
        "- **RoofMatl**: Roof material\n",
        "- **RoofStyle**: Type of roof\n",
        "- **SaleCondition**: Condition of sale\n",
        "- **SaleType**: Type of sale\n",
        "- **ScreenPorch**: Screen porch area in square feet\n",
        "- **Street**: Type of road access\n",
        "- **TotalBsmtSF**: Total square feet of basement area\n",
        "- **TotRmsAbvGrd**: Total rooms above grade (does not include bathrooms)\n",
        "- **Utilities**: Type of utilities available\n",
        "- **WoodDeckSF**: Wood deck area in square feet\n",
        "- **YearBuilt**: Original construction date\n",
        "- **YearRemodAdd**: Remodel date\n",
        "- **YrSold**: Year Sold"
      ]
    },
    {
      "cell_type": "markdown",
      "metadata": {
        "id": "ikpSo7hJMLv7"
      },
      "source": [
        "# Configure and import"
      ]
    },
    {
      "cell_type": "code",
      "metadata": {
        "id": "lQPvQcB_Tp7Q"
      },
      "source": [
        "from google.colab import files\n",
        "files.upload()"
      ],
      "execution_count": null,
      "outputs": []
    },
    {
      "cell_type": "code",
      "metadata": {
        "id": "ZA-nbClRO8ir"
      },
      "source": [
        "!pip install -q kaggle\n",
        "!mkdir ~/.kaggle\n",
        "!cp kaggle.json ~/.kaggle/\n",
        "!chmod 600 ~/.kaggle/kaggle.json\n",
        "!kaggle competitions download -c house-prices-advanced-regression-techniques"
      ],
      "execution_count": null,
      "outputs": []
    },
    {
      "cell_type": "code",
      "metadata": {
        "id": "pJ8LXcTzXUW6"
      },
      "source": [
        "import pandas as pd\n",
        "import numpy as np\n",
        "import torch\n",
        "import torch.nn as nn\n",
        "import seaborn as sns\n",
        "from sklearn.preprocessing import LabelEncoder\n",
        "import matplotlib.pyplot as plt"
      ],
      "execution_count": 124,
      "outputs": []
    },
    {
      "cell_type": "markdown",
      "metadata": {
        "id": "9VXgfdGs0_AA"
      },
      "source": [
        "# Data Import"
      ]
    },
    {
      "cell_type": "code",
      "metadata": {
        "id": "FX-8bRYWXmRK"
      },
      "source": [
        "original_train_df = pd.read_csv('train.csv')\n",
        "original_train_df['Source'] = 'train.csv'\n",
        "\n",
        "original_test_df = pd.read_csv('test.csv')\n",
        "original_test_df['Source'] = 'test.csv'\n",
        "\n",
        "total_df = pd.concat([original_train_df, original_test_df], axis=0)"
      ],
      "execution_count": 75,
      "outputs": []
    },
    {
      "cell_type": "markdown",
      "metadata": {
        "id": "EYARgnvfcjvB"
      },
      "source": [
        "# Data Exploration"
      ]
    },
    {
      "cell_type": "code",
      "metadata": {
        "id": "LHaEmcvpHY77",
        "outputId": "567b8ac6-f0eb-420f-e442-db481ecf5c12",
        "colab": {
          "base_uri": "https://localhost:8080/",
          "height": 345
        }
      },
      "source": [
        "list_of_numerics = total_df.select_dtypes(include=['float', 'int']).columns\n",
        "corrSalePrice = round(total_df[numerical_columns].corrwith(original_train_df['SalePrice']), 3) * 100\n",
        "types = total_df.dtypes\n",
        "missing = round((total_df.isnull().sum()/total_df.shape[0]),3)*100\n",
        "overview = total_df.apply(\n",
        "    lambda x: [\n",
        "      round(x.min()), \n",
        "      round(x.max()), \n",
        "      round(x.mean()), \n",
        "      round(x.quantile(0.5))\n",
        "    ] if x.name in list_of_numerics else x.unique())\n",
        "outliers = total_df.apply(\n",
        "    lambda x: sum(\n",
        "        (x<(x.quantile(0.25)-1.5*(x.quantile(0.75)-x.quantile(0.25)))) | \n",
        "        (x>(x.quantile(0.75)+1.5*(x.quantile(0.75)-x.quantile(0.25)))) \n",
        "      if x.name in list_of_numerics else ''))\n",
        "explore_df = pd.DataFrame({\n",
        "  'Types': types,\n",
        "  'CorrSalePrice%': corrSalePrice,\n",
        "  'Missing%': missing,\n",
        "  'Overview': overview,\n",
        "  'Outliers': outliers\n",
        "})\n",
        "explore_df['Types'] = explore_df['Types'].astype(str)\n",
        "explore_df.sort_values(by=['Missing%'], ascending=False).transpose()"
      ],
      "execution_count": 118,
      "outputs": [
        {
          "output_type": "execute_result",
          "data": {
            "text/html": [
              "<div>\n",
              "<style scoped>\n",
              "    .dataframe tbody tr th:only-of-type {\n",
              "        vertical-align: middle;\n",
              "    }\n",
              "\n",
              "    .dataframe tbody tr th {\n",
              "        vertical-align: top;\n",
              "    }\n",
              "\n",
              "    .dataframe thead th {\n",
              "        text-align: right;\n",
              "    }\n",
              "</style>\n",
              "<table border=\"1\" class=\"dataframe\">\n",
              "  <thead>\n",
              "    <tr style=\"text-align: right;\">\n",
              "      <th></th>\n",
              "      <th>SalePrice</th>\n",
              "      <th>1stFlrSF</th>\n",
              "      <th>LowQualFinSF</th>\n",
              "      <th>MoSold</th>\n",
              "      <th>MiscVal</th>\n",
              "      <th>MiscFeature</th>\n",
              "      <th>MasVnrType</th>\n",
              "      <th>MasVnrArea</th>\n",
              "      <th>MSZoning</th>\n",
              "      <th>MSSubClass</th>\n",
              "      <th>LotShape</th>\n",
              "      <th>OpenPorchSF</th>\n",
              "      <th>LotFrontage</th>\n",
              "      <th>LotConfig</th>\n",
              "      <th>LotArea</th>\n",
              "      <th>LandSlope</th>\n",
              "      <th>LandContour</th>\n",
              "      <th>KitchenQual</th>\n",
              "      <th>KitchenAbvGr</th>\n",
              "      <th>Id</th>\n",
              "      <th>Neighborhood</th>\n",
              "      <th>OverallCond</th>\n",
              "      <th>2ndFlrSF</th>\n",
              "      <th>Source</th>\n",
              "      <th>YearRemodAdd</th>\n",
              "      <th>YearBuilt</th>\n",
              "      <th>WoodDeckSF</th>\n",
              "      <th>Utilities</th>\n",
              "      <th>TotalBsmtSF</th>\n",
              "      <th>TotRmsAbvGrd</th>\n",
              "      <th>Street</th>\n",
              "      <th>ScreenPorch</th>\n",
              "      <th>OverallQual</th>\n",
              "      <th>SaleType</th>\n",
              "      <th>SaleCondition</th>\n",
              "      <th>RoofStyle</th>\n",
              "      <th>RoofMatl</th>\n",
              "      <th>PoolQC</th>\n",
              "      <th>PoolArea</th>\n",
              "      <th>PavedDrive</th>\n",
              "      <th>...</th>\n",
              "      <th>Heating</th>\n",
              "      <th>HalfBath</th>\n",
              "      <th>Condition2</th>\n",
              "      <th>Condition1</th>\n",
              "      <th>CentralAir</th>\n",
              "      <th>BsmtUnfSF</th>\n",
              "      <th>BsmtQual</th>\n",
              "      <th>BsmtHalfBath</th>\n",
              "      <th>BsmtFullBath</th>\n",
              "      <th>BsmtFinType2</th>\n",
              "      <th>BsmtFinType1</th>\n",
              "      <th>BsmtFinSF2</th>\n",
              "      <th>BsmtFinSF1</th>\n",
              "      <th>BsmtExposure</th>\n",
              "      <th>BsmtCond</th>\n",
              "      <th>BldgType</th>\n",
              "      <th>BedroomAbvGr</th>\n",
              "      <th>Alley</th>\n",
              "      <th>3SsnPorch</th>\n",
              "      <th>Electrical</th>\n",
              "      <th>EnclosedPorch</th>\n",
              "      <th>ExterCond</th>\n",
              "      <th>GarageArea</th>\n",
              "      <th>GrLivArea</th>\n",
              "      <th>GarageYrBlt</th>\n",
              "      <th>GarageType</th>\n",
              "      <th>GarageQual</th>\n",
              "      <th>GarageFinish</th>\n",
              "      <th>GarageCond</th>\n",
              "      <th>GarageCars</th>\n",
              "      <th>Functional</th>\n",
              "      <th>ExterQual</th>\n",
              "      <th>FullBath</th>\n",
              "      <th>Foundation</th>\n",
              "      <th>Fireplaces</th>\n",
              "      <th>FireplaceQu</th>\n",
              "      <th>Fence</th>\n",
              "      <th>Exterior2nd</th>\n",
              "      <th>Exterior1st</th>\n",
              "      <th>YrSold</th>\n",
              "    </tr>\n",
              "  </thead>\n",
              "  <tbody>\n",
              "    <tr>\n",
              "      <th>Types</th>\n",
              "      <td>float64</td>\n",
              "      <td>int64</td>\n",
              "      <td>int64</td>\n",
              "      <td>int64</td>\n",
              "      <td>int64</td>\n",
              "      <td>object</td>\n",
              "      <td>object</td>\n",
              "      <td>float64</td>\n",
              "      <td>object</td>\n",
              "      <td>int64</td>\n",
              "      <td>object</td>\n",
              "      <td>int64</td>\n",
              "      <td>float64</td>\n",
              "      <td>object</td>\n",
              "      <td>int64</td>\n",
              "      <td>object</td>\n",
              "      <td>object</td>\n",
              "      <td>object</td>\n",
              "      <td>int64</td>\n",
              "      <td>int64</td>\n",
              "      <td>object</td>\n",
              "      <td>int64</td>\n",
              "      <td>int64</td>\n",
              "      <td>object</td>\n",
              "      <td>int64</td>\n",
              "      <td>int64</td>\n",
              "      <td>int64</td>\n",
              "      <td>object</td>\n",
              "      <td>float64</td>\n",
              "      <td>int64</td>\n",
              "      <td>object</td>\n",
              "      <td>int64</td>\n",
              "      <td>int64</td>\n",
              "      <td>object</td>\n",
              "      <td>object</td>\n",
              "      <td>object</td>\n",
              "      <td>object</td>\n",
              "      <td>object</td>\n",
              "      <td>int64</td>\n",
              "      <td>object</td>\n",
              "      <td>...</td>\n",
              "      <td>object</td>\n",
              "      <td>int64</td>\n",
              "      <td>object</td>\n",
              "      <td>object</td>\n",
              "      <td>object</td>\n",
              "      <td>float64</td>\n",
              "      <td>object</td>\n",
              "      <td>float64</td>\n",
              "      <td>float64</td>\n",
              "      <td>object</td>\n",
              "      <td>object</td>\n",
              "      <td>float64</td>\n",
              "      <td>float64</td>\n",
              "      <td>object</td>\n",
              "      <td>object</td>\n",
              "      <td>object</td>\n",
              "      <td>int64</td>\n",
              "      <td>object</td>\n",
              "      <td>int64</td>\n",
              "      <td>object</td>\n",
              "      <td>int64</td>\n",
              "      <td>object</td>\n",
              "      <td>float64</td>\n",
              "      <td>int64</td>\n",
              "      <td>float64</td>\n",
              "      <td>object</td>\n",
              "      <td>object</td>\n",
              "      <td>object</td>\n",
              "      <td>object</td>\n",
              "      <td>float64</td>\n",
              "      <td>object</td>\n",
              "      <td>object</td>\n",
              "      <td>int64</td>\n",
              "      <td>object</td>\n",
              "      <td>int64</td>\n",
              "      <td>object</td>\n",
              "      <td>object</td>\n",
              "      <td>object</td>\n",
              "      <td>object</td>\n",
              "      <td>int64</td>\n",
              "    </tr>\n",
              "    <tr>\n",
              "      <th>CorrSalePrice%</th>\n",
              "      <td>NaN</td>\n",
              "      <td>30.3</td>\n",
              "      <td>-2.4</td>\n",
              "      <td>3.7</td>\n",
              "      <td>-1.1</td>\n",
              "      <td>NaN</td>\n",
              "      <td>NaN</td>\n",
              "      <td>22.9</td>\n",
              "      <td>NaN</td>\n",
              "      <td>-3.1</td>\n",
              "      <td>NaN</td>\n",
              "      <td>16</td>\n",
              "      <td>-0</td>\n",
              "      <td>NaN</td>\n",
              "      <td>17.9</td>\n",
              "      <td>NaN</td>\n",
              "      <td>NaN</td>\n",
              "      <td>NaN</td>\n",
              "      <td>-6.2</td>\n",
              "      <td>-1.1</td>\n",
              "      <td>NaN</td>\n",
              "      <td>-3.7</td>\n",
              "      <td>16.4</td>\n",
              "      <td>NaN</td>\n",
              "      <td>26.2</td>\n",
              "      <td>27.6</td>\n",
              "      <td>17.2</td>\n",
              "      <td>NaN</td>\n",
              "      <td>32.2</td>\n",
              "      <td>28.5</td>\n",
              "      <td>NaN</td>\n",
              "      <td>7.1</td>\n",
              "      <td>38.7</td>\n",
              "      <td>NaN</td>\n",
              "      <td>NaN</td>\n",
              "      <td>NaN</td>\n",
              "      <td>NaN</td>\n",
              "      <td>NaN</td>\n",
              "      <td>5.4</td>\n",
              "      <td>NaN</td>\n",
              "      <td>...</td>\n",
              "      <td>NaN</td>\n",
              "      <td>15.1</td>\n",
              "      <td>NaN</td>\n",
              "      <td>NaN</td>\n",
              "      <td>NaN</td>\n",
              "      <td>12.8</td>\n",
              "      <td>NaN</td>\n",
              "      <td>0.5</td>\n",
              "      <td>12.2</td>\n",
              "      <td>NaN</td>\n",
              "      <td>NaN</td>\n",
              "      <td>-1.8</td>\n",
              "      <td>19.5</td>\n",
              "      <td>NaN</td>\n",
              "      <td>NaN</td>\n",
              "      <td>NaN</td>\n",
              "      <td>9.7</td>\n",
              "      <td>NaN</td>\n",
              "      <td>2.1</td>\n",
              "      <td>NaN</td>\n",
              "      <td>-7.5</td>\n",
              "      <td>NaN</td>\n",
              "      <td>32</td>\n",
              "      <td>37.2</td>\n",
              "      <td>13.5</td>\n",
              "      <td>NaN</td>\n",
              "      <td>NaN</td>\n",
              "      <td>NaN</td>\n",
              "      <td>NaN</td>\n",
              "      <td>32.2</td>\n",
              "      <td>NaN</td>\n",
              "      <td>NaN</td>\n",
              "      <td>29</td>\n",
              "      <td>NaN</td>\n",
              "      <td>25.6</td>\n",
              "      <td>NaN</td>\n",
              "      <td>NaN</td>\n",
              "      <td>NaN</td>\n",
              "      <td>NaN</td>\n",
              "      <td>-1</td>\n",
              "    </tr>\n",
              "    <tr>\n",
              "      <th>Missing%</th>\n",
              "      <td>50</td>\n",
              "      <td>0</td>\n",
              "      <td>0</td>\n",
              "      <td>0</td>\n",
              "      <td>0</td>\n",
              "      <td>0</td>\n",
              "      <td>0</td>\n",
              "      <td>0</td>\n",
              "      <td>0</td>\n",
              "      <td>0</td>\n",
              "      <td>0</td>\n",
              "      <td>0</td>\n",
              "      <td>0</td>\n",
              "      <td>0</td>\n",
              "      <td>0</td>\n",
              "      <td>0</td>\n",
              "      <td>0</td>\n",
              "      <td>0</td>\n",
              "      <td>0</td>\n",
              "      <td>0</td>\n",
              "      <td>0</td>\n",
              "      <td>0</td>\n",
              "      <td>0</td>\n",
              "      <td>0</td>\n",
              "      <td>0</td>\n",
              "      <td>0</td>\n",
              "      <td>0</td>\n",
              "      <td>0</td>\n",
              "      <td>0</td>\n",
              "      <td>0</td>\n",
              "      <td>0</td>\n",
              "      <td>0</td>\n",
              "      <td>0</td>\n",
              "      <td>0</td>\n",
              "      <td>0</td>\n",
              "      <td>0</td>\n",
              "      <td>0</td>\n",
              "      <td>0</td>\n",
              "      <td>0</td>\n",
              "      <td>0</td>\n",
              "      <td>...</td>\n",
              "      <td>0</td>\n",
              "      <td>0</td>\n",
              "      <td>0</td>\n",
              "      <td>0</td>\n",
              "      <td>0</td>\n",
              "      <td>0</td>\n",
              "      <td>0</td>\n",
              "      <td>0</td>\n",
              "      <td>0</td>\n",
              "      <td>0</td>\n",
              "      <td>0</td>\n",
              "      <td>0</td>\n",
              "      <td>0</td>\n",
              "      <td>0</td>\n",
              "      <td>0</td>\n",
              "      <td>0</td>\n",
              "      <td>0</td>\n",
              "      <td>0</td>\n",
              "      <td>0</td>\n",
              "      <td>0</td>\n",
              "      <td>0</td>\n",
              "      <td>0</td>\n",
              "      <td>0</td>\n",
              "      <td>0</td>\n",
              "      <td>0</td>\n",
              "      <td>0</td>\n",
              "      <td>0</td>\n",
              "      <td>0</td>\n",
              "      <td>0</td>\n",
              "      <td>0</td>\n",
              "      <td>0</td>\n",
              "      <td>0</td>\n",
              "      <td>0</td>\n",
              "      <td>0</td>\n",
              "      <td>0</td>\n",
              "      <td>0</td>\n",
              "      <td>0</td>\n",
              "      <td>0</td>\n",
              "      <td>0</td>\n",
              "      <td>0</td>\n",
              "    </tr>\n",
              "    <tr>\n",
              "      <th>Overview</th>\n",
              "      <td>[34900, 755000, 180921, 163000.0]</td>\n",
              "      <td>[334, 5095, 1160, 1082.0]</td>\n",
              "      <td>[0, 1064, 5, 0.0]</td>\n",
              "      <td>[1, 12, 6, 6.0]</td>\n",
              "      <td>[0, 17000, 51, 0.0]</td>\n",
              "      <td>[None, Shed, Gar2, Othr, TenC]</td>\n",
              "      <td>[BrkFace, None, Stone, BrkCmn]</td>\n",
              "      <td>[0, 1600, 101, 0.0]</td>\n",
              "      <td>[RL, RM, C (all), FV, RH]</td>\n",
              "      <td>[20, 190, 57, 50.0]</td>\n",
              "      <td>[Reg, IR1, IR2, IR3]</td>\n",
              "      <td>[0, 742, 47, 26.0]</td>\n",
              "      <td>[69, 69, 69, 69.0]</td>\n",
              "      <td>[Inside, FR2, Corner, CulDSac, FR3]</td>\n",
              "      <td>[1300, 215245, 10168, 9453.0]</td>\n",
              "      <td>[Gtl, Mod, Sev]</td>\n",
              "      <td>[Lvl, Bnk, Low, HLS]</td>\n",
              "      <td>[Gd, TA, Ex, Fa]</td>\n",
              "      <td>[0, 3, 1, 1.0]</td>\n",
              "      <td>[1, 2919, 1460, 1460.0]</td>\n",
              "      <td>[CollgCr, Veenker, Crawfor, NoRidge, Mitchel, ...</td>\n",
              "      <td>[1, 9, 6, 5.0]</td>\n",
              "      <td>[0, 2065, 336, 0.0]</td>\n",
              "      <td>[train.csv, test.csv]</td>\n",
              "      <td>[1950, 2010, 1984, 1993.0]</td>\n",
              "      <td>[1872, 2010, 1971, 1973.0]</td>\n",
              "      <td>[0, 1424, 94, 0.0]</td>\n",
              "      <td>[AllPub, NoSeWa]</td>\n",
              "      <td>[0, 6110, 1051, 989.0]</td>\n",
              "      <td>[2, 15, 6, 6.0]</td>\n",
              "      <td>[Pave, Grvl]</td>\n",
              "      <td>[0, 576, 16, 0.0]</td>\n",
              "      <td>[1, 10, 6, 6.0]</td>\n",
              "      <td>[WD, New, COD, ConLD, ConLI, CWD, ConLw, Con, ...</td>\n",
              "      <td>[Normal, Abnorml, Partial, AdjLand, Alloca, Fa...</td>\n",
              "      <td>[Gable, Hip, Gambrel, Mansard, Flat, Shed]</td>\n",
              "      <td>[CompShg, WdShngl, Metal, WdShake, Membran, Ta...</td>\n",
              "      <td>[None, Ex, Fa, Gd]</td>\n",
              "      <td>[0, 800, 2, 0.0]</td>\n",
              "      <td>[Y, N, P]</td>\n",
              "      <td>...</td>\n",
              "      <td>[GasA, GasW, Grav, Wall, OthW, Floor]</td>\n",
              "      <td>[0, 2, 0, 0.0]</td>\n",
              "      <td>[Norm, Artery, RRNn, Feedr, PosN, PosA, RRAn, ...</td>\n",
              "      <td>[Norm, Feedr, PosN, Artery, RRAe, RRNn, RRAn, ...</td>\n",
              "      <td>[Y, N]</td>\n",
              "      <td>[0, 2336, 561, 467.0]</td>\n",
              "      <td>[Gd, TA, Ex, None, Fa]</td>\n",
              "      <td>[0, 2, 0, 0.0]</td>\n",
              "      <td>[0, 3, 0, 0.0]</td>\n",
              "      <td>[Unf, BLQ, None, ALQ, Rec, LwQ, GLQ]</td>\n",
              "      <td>[GLQ, ALQ, Unf, Rec, BLQ, None, LwQ]</td>\n",
              "      <td>[0, 1526, 50, 0.0]</td>\n",
              "      <td>[0, 5644, 441, 368.0]</td>\n",
              "      <td>[No, Gd, Mn, Av, None]</td>\n",
              "      <td>[TA, Gd, None, Fa, Po]</td>\n",
              "      <td>[1Fam, 2fmCon, Duplex, TwnhsE, Twnhs]</td>\n",
              "      <td>[0, 8, 3, 3.0]</td>\n",
              "      <td>[None, Grvl, Pave]</td>\n",
              "      <td>[0, 508, 3, 0.0]</td>\n",
              "      <td>[SBrkr, FuseF, FuseA, FuseP, Mix]</td>\n",
              "      <td>[0, 1012, 23, 0.0]</td>\n",
              "      <td>[TA, Gd, Fa, Po, Ex]</td>\n",
              "      <td>[0, 1488, 473, 480.0]</td>\n",
              "      <td>[334, 5642, 1501, 1444.0]</td>\n",
              "      <td>[0, 2207, 1870, 1977.0]</td>\n",
              "      <td>[Attchd, Detchd, BuiltIn, CarPort, None, Basme...</td>\n",
              "      <td>[TA, Fa, Gd, None, Ex, Po]</td>\n",
              "      <td>[RFn, Unf, Fin, None]</td>\n",
              "      <td>[TA, Fa, None, Gd, Po, Ex]</td>\n",
              "      <td>[0, 5, 2, 2.0]</td>\n",
              "      <td>[Typ, Min1, Maj1, Min2, Mod, Maj2, Sev]</td>\n",
              "      <td>[Gd, TA, Ex, Fa]</td>\n",
              "      <td>[0, 4, 2, 2.0]</td>\n",
              "      <td>[PConc, CBlock, BrkTil, Wood, Slab, Stone]</td>\n",
              "      <td>[0, 4, 1, 1.0]</td>\n",
              "      <td>[None, TA, Gd, Fa, Ex, Po]</td>\n",
              "      <td>[None, MnPrv, GdWo, GdPrv, MnWw]</td>\n",
              "      <td>[VinylSd, MetalSd, Wd Shng, HdBoard, Plywood, ...</td>\n",
              "      <td>[VinylSd, MetalSd, Wd Sdng, HdBoard, BrkFace, ...</td>\n",
              "      <td>[2006, 2010, 2008, 2008.0]</td>\n",
              "    </tr>\n",
              "    <tr>\n",
              "      <th>Outliers</th>\n",
              "      <td>61</td>\n",
              "      <td>42</td>\n",
              "      <td>40</td>\n",
              "      <td>0</td>\n",
              "      <td>103</td>\n",
              "      <td>0</td>\n",
              "      <td>0</td>\n",
              "      <td>202</td>\n",
              "      <td>0</td>\n",
              "      <td>207</td>\n",
              "      <td>0</td>\n",
              "      <td>159</td>\n",
              "      <td>0</td>\n",
              "      <td>0</td>\n",
              "      <td>128</td>\n",
              "      <td>0</td>\n",
              "      <td>0</td>\n",
              "      <td>0</td>\n",
              "      <td>134</td>\n",
              "      <td>0</td>\n",
              "      <td>0</td>\n",
              "      <td>252</td>\n",
              "      <td>8</td>\n",
              "      <td>0</td>\n",
              "      <td>0</td>\n",
              "      <td>9</td>\n",
              "      <td>67</td>\n",
              "      <td>0</td>\n",
              "      <td>123</td>\n",
              "      <td>51</td>\n",
              "      <td>0</td>\n",
              "      <td>256</td>\n",
              "      <td>4</td>\n",
              "      <td>0</td>\n",
              "      <td>0</td>\n",
              "      <td>0</td>\n",
              "      <td>0</td>\n",
              "      <td>0</td>\n",
              "      <td>13</td>\n",
              "      <td>0</td>\n",
              "      <td>...</td>\n",
              "      <td>0</td>\n",
              "      <td>0</td>\n",
              "      <td>0</td>\n",
              "      <td>0</td>\n",
              "      <td>0</td>\n",
              "      <td>53</td>\n",
              "      <td>0</td>\n",
              "      <td>175</td>\n",
              "      <td>2</td>\n",
              "      <td>0</td>\n",
              "      <td>0</td>\n",
              "      <td>347</td>\n",
              "      <td>15</td>\n",
              "      <td>0</td>\n",
              "      <td>0</td>\n",
              "      <td>0</td>\n",
              "      <td>78</td>\n",
              "      <td>0</td>\n",
              "      <td>37</td>\n",
              "      <td>0</td>\n",
              "      <td>459</td>\n",
              "      <td>0</td>\n",
              "      <td>42</td>\n",
              "      <td>74</td>\n",
              "      <td>160</td>\n",
              "      <td>0</td>\n",
              "      <td>0</td>\n",
              "      <td>0</td>\n",
              "      <td>0</td>\n",
              "      <td>17</td>\n",
              "      <td>0</td>\n",
              "      <td>0</td>\n",
              "      <td>4</td>\n",
              "      <td>0</td>\n",
              "      <td>12</td>\n",
              "      <td>0</td>\n",
              "      <td>0</td>\n",
              "      <td>0</td>\n",
              "      <td>0</td>\n",
              "      <td>0</td>\n",
              "    </tr>\n",
              "  </tbody>\n",
              "</table>\n",
              "<p>5 rows × 82 columns</p>\n",
              "</div>"
            ],
            "text/plain": [
              "                                        SalePrice  ...                      YrSold\n",
              "Types                                     float64  ...                       int64\n",
              "CorrSalePrice%                                NaN  ...                          -1\n",
              "Missing%                                       50  ...                           0\n",
              "Overview        [34900, 755000, 180921, 163000.0]  ...  [2006, 2010, 2008, 2008.0]\n",
              "Outliers                                       61  ...                           0\n",
              "\n",
              "[5 rows x 82 columns]"
            ]
          },
          "metadata": {
            "tags": []
          },
          "execution_count": 118
        }
      ]
    },
    {
      "cell_type": "code",
      "metadata": {
        "id": "uZxFoKoeclW_",
        "outputId": "a3487281-8c9e-4666-c376-a23baf038f55",
        "colab": {
          "base_uri": "https://localhost:8080/",
          "height": 964
        }
      },
      "source": [
        "# Plot Correlation Matrix\n",
        "\n",
        "temp_df = total_df[numerical_columns]\n",
        "f = plt.figure(figsize=(19, 15))\n",
        "plt.matshow(temp_df.corr(), fignum=f.number)\n",
        "plt.xticks(range(temp_df.shape[1]), temp_df.columns, fontsize=14, rotation=45)\n",
        "plt.yticks(range(temp_df.shape[1]), temp_df.columns, fontsize=14)\n",
        "cb = plt.colorbar()\n",
        "cb.ax.tick_params(labelsize=14)"
      ],
      "execution_count": 130,
      "outputs": [
        {
          "output_type": "display_data",
          "data": {
            "image/png": "[encoded data removed]",
            "text/plain": [
              "<Figure size 1368x1080 with 2 Axes>"
            ]
          },
          "metadata": {
            "tags": [],
            "needs_background": "light"
          }
        }
      ]
    },
    {
      "cell_type": "markdown",
      "metadata": {
        "id": "xdFK6gHFHaZ1"
      },
      "source": [
        "# Preprocessing"
      ]
    },
    {
      "cell_type": "code",
      "metadata": {
        "id": "zoUnfrYHWbVY"
      },
      "source": [
        "# Manage missing values\n",
        "# Based on the number of missing values, \n",
        "# decide if makes sense or not to create a dedicated category called \"None\",\n",
        "# or if it is simply better to assign a mean() value\n",
        "\n",
        "for column in ['Alley', 'MasVnrType','BsmtQual','BsmtCond','BsmtExposure','BsmtFinType1', 'BsmtFinType2','FireplaceQu','GarageType','GarageFinish','GarageQual','GarageCond','PoolQC','Fence','MiscFeature']:\n",
        "  total_df[column] = total_df[column].fillna('None')\n",
        "for column in ['Electrical','MSZoning','Exterior1st','Exterior2nd','KitchenQual','SaleType','Functional', 'Utilities']:\n",
        "  total_df[column] = total_df[column].fillna(total_df[column].mode()[0])\n",
        "for column in ['MasVnrArea','BsmtFinSF1','BsmtFinSF2','BsmtUnfSF','TotalBsmtSF','BsmtFullBath','BsmtHalfBath', 'GarageYrBlt','GarageCars','GarageArea']:\n",
        "  total_df[column] = total_df[column].fillna(0)\n",
        "for column in ['LotFrontage']:\n",
        "  total_df[column] = total_df[column].mean()"
      ],
      "execution_count": 117,
      "outputs": []
    },
    {
      "cell_type": "code",
      "metadata": {
        "id": "mAc38PlBbMjR"
      },
      "source": [
        "# Remove outsiders\n",
        "\n",
        "total_df = total_df[total_df['GrLivArea'] < 4000]"
      ],
      "execution_count": 128,
      "outputs": []
    },
    {
      "cell_type": "markdown",
      "metadata": {
        "id": "ka9b57nUXRdm"
      },
      "source": [
        "## Data Exploration"
      ]
    },
    {
      "cell_type": "code",
      "metadata": {
        "id": "bFtZcutli20l"
      },
      "source": [
        "numerical_columns = []\n",
        "categorical_columns = []\n",
        "\n",
        "for column in total_df.columns:\n",
        "  if total_df.dtypes[column] == np.int64 or total_df.dtypes[column] == np.float64:\n",
        "    numerical_columns.append(column)\n",
        "  else:\n",
        "    categorical_columns.append(column)\n",
        "\n",
        "categorical_columns.remove('Source')\n",
        "numerical_columns.remove('SalePrice')"
      ],
      "execution_count": 131,
      "outputs": []
    },
    {
      "cell_type": "code",
      "metadata": {
        "id": "3H7dGWda4b9D"
      },
      "source": [
        "# GarageYrBlt\n",
        "# MiscVal\n",
        "# Id\n",
        "# YrSold \n",
        "# BsmtHalfBath\n",
        "# numerical_columns.remove('GarageYrBlt')\n",
        "# numerical_columns.remove('MiscVal')\n",
        "# numerical_columns.remove('Id')\n",
        "# numerical_columns.remove('YrSold')\n",
        "# numerical_columns.remove('BsmtHalfBath')"
      ],
      "execution_count": null,
      "outputs": []
    },
    {
      "cell_type": "code",
      "metadata": {
        "id": "FuXoQGkh6I21"
      },
      "source": [
        "cp_total_df = total_df\n",
        "# cp_total_df = cp_total_df.drop(['Id'], axis=1)\n",
        "# cp_total_df = cp_total_df.drop(['GarageYrBlt', 'MiscVal', 'Id', 'YrSold', 'BsmtHalfBath'], axis=1)"
      ],
      "execution_count": null,
      "outputs": []
    },
    {
      "cell_type": "code",
      "metadata": {
        "id": "X84hwInAlSsV"
      },
      "source": [
        "pd.options.mode.chained_assignment = None\n",
        "\n",
        "for column in categorical_columns:\n",
        "  cp_total_df[column] = LabelEncoder().fit_transform(cp_total_df[column])\n",
        "\n",
        "for column in categorical_columns:\n",
        "  cp_total_df[column] = cp_total_df[column].astype('category')"
      ],
      "execution_count": 132,
      "outputs": []
    },
    {
      "cell_type": "code",
      "metadata": {
        "id": "w_GlBfjTshPZ"
      },
      "source": [
        "train_df = cp_total_df[cp_total_df['Source'] == 'train.csv']\n",
        "train_output_df = pd.DataFrame(train_df['SalePrice'], columns=['SalePrice'])\n",
        "train_df.drop('SalePrice', axis=1, inplace=True)\n",
        "\n",
        "test_df = cp_total_df[cp_total_df['Source'] == 'test.csv']\n",
        "test_df.drop('SalePrice', axis=1, inplace=True)"
      ],
      "execution_count": 133,
      "outputs": []
    },
    {
      "cell_type": "code",
      "metadata": {
        "id": "gWct8Lc5u76g"
      },
      "source": [
        "def create_tensor(input_df):\n",
        "  stack = []\n",
        "  for column in categorical_columns:\n",
        "    temp_stack = input_df[column].cat.codes.values\n",
        "    stack.append(temp_stack)\n",
        "  for column in numerical_columns:\n",
        "    temp_stack = input_df[column].astype(np.float64)\n",
        "    stack.append(temp_stack)\n",
        "  return torch.tensor(np.stack(stack, 1), dtype=torch.float)\n",
        "\n",
        "tensor_train = create_tensor(train_df).float()\n",
        "tensor_output = torch.tensor(train_output_df['SalePrice']).flatten().float()\n",
        "\n",
        "tensor_test = create_tensor(test_df).float()"
      ],
      "execution_count": 134,
      "outputs": []
    },
    {
      "cell_type": "code",
      "metadata": {
        "id": "8hWd-cmIqYSi"
      },
      "source": [
        "total_records_train = len(tensor_train)\n",
        "test_records_train = int(total_records_train * 0.2)\n",
        "\n",
        "tensor_train_data = tensor_train[:total_records_train-test_records_train]\n",
        "tensor_train_output = tensor_output[:total_records_train-test_records_train]\n",
        "\n",
        "tensor_validation_data = tensor_train[total_records_train-test_records_train:total_records_train]\n",
        "tensor_validation_output = tensor_output[total_records_train-test_records_train:total_records_train]"
      ],
      "execution_count": 143,
      "outputs": []
    },
    {
      "cell_type": "code",
      "metadata": {
        "id": "BN_8pJnLv46m"
      },
      "source": [
        "class Model(nn.Module):\n",
        "  def __init__(self):\n",
        "    super().__init__()\n",
        "    self.linear1 = nn.Linear(tensor_train.shape[1], 1000)\n",
        "    self.linear2 = nn.Linear(1000, 500)\n",
        "    self.linear3 = nn.Linear(500, 200)\n",
        "    self.linear4 = nn.Linear(200, 1)\n",
        "  def forward(self, x):\n",
        "    y = self.linear1(x)\n",
        "    y = torch.nn.functional.dropout(y, p=0.2)\n",
        "    y = self.linear2(y)\n",
        "    y = torch.nn.functional.dropout(y, p=0.2)\n",
        "    y = self.linear3(y)\n",
        "    y = torch.nn.functional.dropout(y, p=0.2)\n",
        "    y = self.linear4(y)\n",
        "    return y"
      ],
      "execution_count": 182,
      "outputs": []
    },
    {
      "cell_type": "code",
      "metadata": {
        "id": "RAP1r8NfyE0U"
      },
      "source": [
        "model = Model()\n",
        "loss_function = nn.MSELoss()\n",
        "optimizer = torch.optim.Adam(model.parameters(), lr=0.001)"
      ],
      "execution_count": 145,
      "outputs": []
    },
    {
      "cell_type": "code",
      "metadata": {
        "id": "zY4iolXgyYDh"
      },
      "source": [
        "def train_model(epochs, x, y):\n",
        "  aggregated_losses = []\n",
        "  for i in range(epochs):\n",
        "    y_pred = model(x)\n",
        "    loss = loss_function(y_pred.squeeze(), y)\n",
        "    optimizer.zero_grad() # sets the gradients of all optimized to zero.\n",
        "    loss.backward() # compute gradient of loss with respect to all the parameters\n",
        "    optimizer.step() # iterate and update all parameters based on the current gradient\n",
        "    if i % 100 == 0:\n",
        "      print(\"epoch: \" + str(i) + \"\\tloss: \" + str(loss.item()))\n",
        "    if i % 50 == 0:\n",
        "      aggregated_losses.append(loss)\n",
        "  return aggregated_losses"
      ],
      "execution_count": 183,
      "outputs": []
    },
    {
      "cell_type": "code",
      "metadata": {
        "id": "L4q6i4KtXngo"
      },
      "source": [
        "def plot_losses(aggregated_losses):\n",
        "  plt.plot(range(0, len(aggregated_losses)), aggregated_losses)\n",
        "  plt.ylabel('Loss')\n",
        "  plt.xlabel('epoch');"
      ],
      "execution_count": 184,
      "outputs": []
    },
    {
      "cell_type": "code",
      "metadata": {
        "id": "0Ka0sg11kDSF",
        "outputId": "f1fd6da5-46c8-4e75-c54a-c0aa3f806ba4",
        "colab": {
          "base_uri": "https://localhost:8080/"
        }
      },
      "source": [
        "from sklearn.model_selection import KFold\n",
        "\n",
        "kf = KFold(n_splits=10)\n",
        "epochs = 600\n",
        "\n",
        "for fold, (train_index, test_index) in enumerate(kf.split(tensor_train_data, tensor_train_output)):\n",
        "  print(\"FOLD\", fold)\n",
        "  x_train_fold = tensor_train_data[train_index] \n",
        "  y_train_fold = tensor_train_output[train_index]\n",
        "  aggregated_losses = train_model(epochs, x_train_fold, y_train_fold)"
      ],
      "execution_count": 190,
      "outputs": [
        {
          "output_type": "stream",
          "text": [
            "FOLD 0\n",
            "epoch: 0\tloss: 1035765824.0\n",
            "epoch: 100\tloss: 924374464.0\n",
            "epoch: 200\tloss: 978115200.0\n",
            "epoch: 300\tloss: 991743936.0\n",
            "epoch: 400\tloss: 996373568.0\n",
            "epoch: 500\tloss: 1046372480.0\n",
            "FOLD 1\n",
            "epoch: 0\tloss: 955509952.0\n",
            "epoch: 100\tloss: 923802944.0\n",
            "epoch: 200\tloss: 922286208.0\n",
            "epoch: 300\tloss: 951096896.0\n",
            "epoch: 400\tloss: 948636800.0\n",
            "epoch: 500\tloss: 955579008.0\n",
            "FOLD 2\n",
            "epoch: 0\tloss: 1035386240.0\n",
            "epoch: 100\tloss: 948474112.0\n",
            "epoch: 200\tloss: 898806720.0\n",
            "epoch: 300\tloss: 894973568.0\n",
            "epoch: 400\tloss: 932018304.0\n",
            "epoch: 500\tloss: 908467136.0\n",
            "FOLD 3\n",
            "epoch: 0\tloss: 982336384.0\n",
            "epoch: 100\tloss: 941456000.0\n",
            "epoch: 200\tloss: 939716416.0\n",
            "epoch: 300\tloss: 996208832.0\n",
            "epoch: 400\tloss: 928976704.0\n",
            "epoch: 500\tloss: 948253696.0\n",
            "FOLD 4\n",
            "epoch: 0\tloss: 793271168.0\n",
            "epoch: 100\tloss: 788417088.0\n",
            "epoch: 200\tloss: 755357376.0\n",
            "epoch: 300\tloss: 707143488.0\n",
            "epoch: 400\tloss: 784356160.0\n",
            "epoch: 500\tloss: 752003840.0\n",
            "FOLD 5\n",
            "epoch: 0\tloss: 946285632.0\n",
            "epoch: 100\tloss: 876291328.0\n",
            "epoch: 200\tloss: 823776512.0\n",
            "epoch: 300\tloss: 848022400.0\n",
            "epoch: 400\tloss: 868817280.0\n",
            "epoch: 500\tloss: 923994304.0\n",
            "FOLD 6\n",
            "epoch: 0\tloss: 959049600.0\n",
            "epoch: 100\tloss: 904523520.0\n",
            "epoch: 200\tloss: 898509312.0\n",
            "epoch: 300\tloss: 881671616.0\n",
            "epoch: 400\tloss: 864760704.0\n",
            "epoch: 500\tloss: 883853376.0\n",
            "FOLD 7\n",
            "epoch: 0\tloss: 898020800.0\n",
            "epoch: 100\tloss: 872350400.0\n",
            "epoch: 200\tloss: 968122048.0\n",
            "epoch: 300\tloss: 890492416.0\n",
            "epoch: 400\tloss: 868784640.0\n",
            "epoch: 500\tloss: 937291584.0\n",
            "FOLD 8\n",
            "epoch: 0\tloss: 857033536.0\n",
            "epoch: 100\tloss: 910937536.0\n",
            "epoch: 200\tloss: 898087232.0\n",
            "epoch: 300\tloss: 883248832.0\n",
            "epoch: 400\tloss: 862920896.0\n",
            "epoch: 500\tloss: 855043840.0\n",
            "FOLD 9\n",
            "epoch: 0\tloss: 893354752.0\n",
            "epoch: 100\tloss: 934042176.0\n",
            "epoch: 200\tloss: 978706496.0\n",
            "epoch: 300\tloss: 931621184.0\n",
            "epoch: 400\tloss: 957986240.0\n",
            "epoch: 500\tloss: 958465088.0\n"
          ],
          "name": "stdout"
        }
      ]
    },
    {
      "cell_type": "code",
      "metadata": {
        "id": "4g7E1VeLZvZY"
      },
      "source": [
        "aggregated_losses = train_model(1000)\n",
        "plot_losses(aggregated_losses)\n",
        "# 900 --> 1098404864.0"
      ],
      "execution_count": null,
      "outputs": []
    },
    {
      "cell_type": "code",
      "metadata": {
        "id": "5JYu0awluUfb",
        "outputId": "f2ab0949-b3bc-44e1-fc2b-883521c0724c",
        "colab": {
          "base_uri": "https://localhost:8080/"
        }
      },
      "source": [
        "# Overfitting if: training loss << validation loss\n",
        "# Underfitting if: training loss >> validation loss\n",
        "# Just right if training loss ~ validation loss\n",
        "\n",
        "with torch.no_grad():\n",
        "    y_val = model(tensor_validation_data)\n",
        "    loss = loss_function(y_val.squeeze(), tensor_validation_output)\n",
        "print(\"Loss: \" + str(loss.item()))\n",
        "# Loss -- >Loss: 2240462848.0"
      ],
      "execution_count": 192,
      "outputs": [
        {
          "output_type": "stream",
          "text": [
            "Loss: 2530632704.0\n"
          ],
          "name": "stdout"
        }
      ]
    },
    {
      "cell_type": "code",
      "metadata": {
        "id": "QDOnUS8-ksLD"
      },
      "source": [
        "# To remove overfitting\n",
        "# cross-validation: use your initial training data to generate multiple mini train-test splits.\n",
        "# Remove features: removing irrelevant input features or aggregate them \n",
        "# Early stopping: stopping the training process before the learner degradates.\n",
        "regularization,\n",
        "# Ensembling: machine learning methods for combining predictions from multiple separate models. "
      ],
      "execution_count": null,
      "outputs": []
    },
    {
      "cell_type": "code",
      "metadata": {
        "id": "DMS8A0eVuyZN",
        "outputId": "04f4a758-4ce6-4268-a6a0-37e0433c1162",
        "colab": {
          "base_uri": "https://localhost:8080/"
        }
      },
      "source": [
        "# Make predictions\n",
        "with torch.no_grad():\n",
        "    y_pred = model(tensor_test)\n",
        "print(\"Loss: \" + str(loss))"
      ],
      "execution_count": 193,
      "outputs": [
        {
          "output_type": "stream",
          "text": [
            "Loss: tensor(2.5306e+09)\n"
          ],
          "name": "stdout"
        }
      ]
    },
    {
      "cell_type": "code",
      "metadata": {
        "id": "rODwWm9uJ5Ml",
        "outputId": "7570c9f6-86f4-4d90-b328-e105d3e6d33f",
        "colab": {
          "base_uri": "https://localhost:8080/",
          "height": 17
        }
      },
      "source": [
        "submission_df = pd.DataFrame(y_pred, columns=['SalePrice']).astype(\"float\")\n",
        "\n",
        "submission_df = pd.concat([original_test_df, submission_df], axis=1)\n",
        "\n",
        "submission_df = submission_df[['Id', 'SalePrice']]\n",
        "\n",
        "from google.colab import files\n",
        "submission_df.to_csv('submission.csv', index=False)\n",
        "files.download('submission.csv')"
      ],
      "execution_count": 194,
      "outputs": [
        {
          "output_type": "display_data",
          "data": {
            "application/javascript": [
              "\n",
              "    async function download(id, filename, size) {\n",
              "      if (!google.colab.kernel.accessAllowed) {\n",
              "        return;\n",
              "      }\n",
              "      const div = document.createElement('div');\n",
              "      const label = document.createElement('label');\n",
              "      label.textContent = `Downloading \"${filename}\": `;\n",
              "      div.appendChild(label);\n",
              "      const progress = document.createElement('progress');\n",
              "      progress.max = size;\n",
              "      div.appendChild(progress);\n",
              "      document.body.appendChild(div);\n",
              "\n",
              "      const buffers = [];\n",
              "      let downloaded = 0;\n",
              "\n",
              "      const channel = await google.colab.kernel.comms.open(id);\n",
              "      // Send a message to notify the kernel that we're ready.\n",
              "      channel.send({})\n",
              "\n",
              "      for await (const message of channel.messages) {\n",
              "        // Send a message to notify the kernel that we're ready.\n",
              "        channel.send({})\n",
              "        if (message.buffers) {\n",
              "          for (const buffer of message.buffers) {\n",
              "            buffers.push(buffer);\n",
              "            downloaded += buffer.byteLength;\n",
              "            progress.value = downloaded;\n",
              "          }\n",
              "        }\n",
              "      }\n",
              "      const blob = new Blob(buffers, {type: 'application/binary'});\n",
              "      const a = document.createElement('a');\n",
              "      a.href = window.URL.createObjectURL(blob);\n",
              "      a.download = filename;\n",
              "      div.appendChild(a);\n",
              "      a.click();\n",
              "      div.remove();\n",
              "    }\n",
              "  "
            ],
            "text/plain": [
              "<IPython.core.display.Javascript object>"
            ]
          },
          "metadata": {
            "tags": []
          }
        },
        {
          "output_type": "display_data",
          "data": {
            "application/javascript": [
              "download(\"download_eea83a79-e586-4fb6-846b-839b7644abcf\", \"submission.csv\", 26174)"
            ],
            "text/plain": [
              "<IPython.core.display.Javascript object>"
            ]
          },
          "metadata": {
            "tags": []
          }
        }
      ]
    }
  ]
}