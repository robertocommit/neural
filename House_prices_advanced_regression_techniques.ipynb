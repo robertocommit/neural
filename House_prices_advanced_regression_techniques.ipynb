{
  "nbformat": 4,
  "nbformat_minor": 0,
  "metadata": {
    "colab": {
      "name": "House-prices: advanced-regression-techniques.ipynb",
      "provenance": [],
      "collapsed_sections": [],
      "authorship_tag": "ABX9TyN+uiAv1LvVpdIDm/z9oPWW",
      "include_colab_link": true
    },
    "kernelspec": {
      "name": "python3",
      "display_name": "Python 3"
    }
  },
  "cells": [
    {
      "cell_type": "markdown",
      "metadata": {
        "id": "view-in-github",
        "colab_type": "text"
      },
      "source": [
        "<a href=\"https://colab.research.google.com/github/robimalco/colab/blob/main/House_prices_advanced_regression_techniques.ipynb\" target=\"_parent\"><img src=\"https://colab.research.google.com/assets/colab-badge.svg\" alt=\"Open In Colab\"/></a>"
      ]
    },
    {
      "cell_type": "markdown",
      "metadata": {
        "id": "nHjvM2-hXK0H"
      },
      "source": [
        "## Download files\n",
        "\n"
      ]
    },
    {
      "cell_type": "markdown",
      "metadata": {
        "id": "6ZIbwZHoYg96"
      },
      "source": [
        "- **SalePrice** - the property's sale price in dollars. This is the target variable that you're trying to predict.\n",
        "- **MSSubClass**: The building class\n",
        "- **MSZoning**: The general zoning classification\n",
        "- **LotFrontage**: Linear feet of street connected to property\n",
        "- **LotArea**: Lot size in square feet\n",
        "- **Street**: Type of road access\n",
        "- **Alley**: Type of alley access\n",
        "- **LotShape**: General shape of property\n",
        "- **LandContour**: Flatness of the property\n",
        "- **Utilities**: Type of utilities available\n",
        "- **LotConfig**: Lot configuration\n",
        "- **LandSlope**: Slope of property\n",
        "- **Neighborhood**: Physical locations within Ames city limits\n",
        "- **Condition1**: Proximity to main road or railroad\n",
        "- **Condition2**: Proximity to main road or railroad (if a second is present)\n",
        "- **BldgType**: Type of dwelling\n",
        "- **HouseStyle**: Style of dwelling\n",
        "- **OverallQual**: Overall material and finish quality\n",
        "- **OverallCond**: Overall condition rating\n",
        "- **YearBuilt**: Original construction date\n",
        "- **YearRemodAdd**: Remodel date\n",
        "- **RoofStyle**: Type of roof\n",
        "- **RoofMatl**: Roof material\n",
        "- **Exterior1st**: Exterior covering on house\n",
        "- **Exterior2nd**: Exterior covering on house (if more than one material)\n",
        "- **MasVnrType**: Masonry veneer type\n",
        "- **MasVnrArea**: Masonry veneer area in square feet\n",
        "- **ExterQual**: Exterior material quality\n",
        "- **ExterCond**: Present condition of the material on the exterior\n",
        "- **Foundation**: Type of foundation\n",
        "- **BsmtQual**: Height of the basement\n",
        "- **BsmtCond**: General condition of the basement\n",
        "- **BsmtExposure**: Walkout or garden level basement walls\n",
        "- **BsmtFinType1**: Quality of basement finished area\n",
        "- **BsmtFinSF1**: Type 1 finished square feet\n",
        "- **BsmtFinType2**: Quality of second finished area (if present)\n",
        "- **BsmtFinSF2**: Type 2 finished square feet\n",
        "- **BsmtUnfSF**: Unfinished square feet of basement area\n",
        "- **TotalBsmtSF**: Total square feet of basement area\n",
        "- **Heating**: Type of heating\n",
        "- **HeatingQC**: Heating quality and condition\n",
        "- **CentralAir**: Central air conditioning\n",
        "- **Electrical**: Electrical system\n",
        "- **1stFlrSF**: First Floor square feet\n",
        "- **2ndFlrSF**: Second floor square feet\n",
        "- **LowQualFinSF**: Low quality finished square feet (all floors)\n",
        "- **GrLivArea**: Above grade (ground) living area square feet\n",
        "- **BsmtFullBath**: Basement full bathrooms\n",
        "- **BsmtHalfBath**: Basement half bathrooms\n",
        "- **FullBath**: Full bathrooms above grade\n",
        "- **HalfBath**: Half baths above grade\n",
        "- **Bedroom**: Number of bedrooms above basement level\n",
        "- **Kitchen**: Number of kitchens\n",
        "- **KitchenQual**: Kitchen quality\n",
        "- **TotRmsAbvGrd**: Total rooms above grade (does not include bathrooms)\n",
        "- **Functional**: Home functionality rating\n",
        "- **Fireplaces**: Number of fireplaces\n",
        "- **FireplaceQu**: Fireplace quality\n",
        "- **GarageType**: Garage location\n",
        "- **GarageYrBlt**: Year garage was built\n",
        "- **GarageFinish**: Interior finish of the garage\n",
        "- **GarageCars**: Size of garage in car capacity\n",
        "- **GarageArea**: Size of garage in square feet\n",
        "- **GarageQual**: Garage quality\n",
        "- **GarageCond**: Garage condition\n",
        "- **PavedDrive**: Paved driveway\n",
        "- **WoodDeckSF**: Wood deck area in square feet\n",
        "- **OpenPorchSF**: Open porch area in square feet\n",
        "- **EnclosedPorch**: Enclosed porch area in square feet\n",
        "- **3SsnPorch**: Three season porch area in square feet\n",
        "- **ScreenPorch**: Screen porch area in square feet\n",
        "- **PoolArea**: Pool area in square feet\n",
        "- **PoolQC**: Pool quality\n",
        "- **Fence**: Fence quality\n",
        "- **MiscFeature**: Miscellaneous feature not covered in other categories\n",
        "- **MiscVal**: $Value of miscellaneous feature\n",
        "- **MoSold**: Month Sold\n",
        "- **YrSold**: Year Sold\n",
        "- **SaleType**: Type of sale\n",
        "- **SaleCondition**: Condition of sale"
      ]
    },
    {
      "cell_type": "markdown",
      "metadata": {
        "id": "ikpSo7hJMLv7"
      },
      "source": [
        "# Configure and import"
      ]
    },
    {
      "cell_type": "code",
      "metadata": {
        "id": "lQPvQcB_Tp7Q"
      },
      "source": [
        "from google.colab import files\n",
        "files.upload()"
      ],
      "execution_count": null,
      "outputs": []
    },
    {
      "cell_type": "code",
      "metadata": {
        "id": "ZA-nbClRO8ir"
      },
      "source": [
        "!pip install -q kaggle\n",
        "!mkdir ~/.kaggle\n",
        "!cp kaggle.json ~/.kaggle/\n",
        "!chmod 600 ~/.kaggle/kaggle.json\n",
        "!kaggle competitions download -c house-prices-advanced-regression-techniques"
      ],
      "execution_count": null,
      "outputs": []
    },
    {
      "cell_type": "code",
      "metadata": {
        "id": "pJ8LXcTzXUW6"
      },
      "source": [
        "import pandas as pd\n",
        "import numpy as np\n",
        "import torch\n",
        "import torch.nn as nn\n",
        "from sklearn.preprocessing import LabelEncoder\n",
        "import matplotlib.pyplot as plt"
      ],
      "execution_count": 28,
      "outputs": []
    },
    {
      "cell_type": "markdown",
      "metadata": {
        "id": "9VXgfdGs0_AA"
      },
      "source": [
        "# Data Import"
      ]
    },
    {
      "cell_type": "code",
      "metadata": {
        "id": "FX-8bRYWXmRK"
      },
      "source": [
        "original_train_df = pd.read_csv('train.csv')\n",
        "original_train_df['Source'] = 'train.csv'\n",
        "\n",
        "original_test_df = pd.read_csv('test.csv')\n",
        "original_test_df['Source'] = 'test.csv'\n",
        "\n",
        "total_df = pd.concat([original_train_df, original_test_df], axis=0)"
      ],
      "execution_count": 182,
      "outputs": []
    },
    {
      "cell_type": "markdown",
      "metadata": {
        "id": "ka9b57nUXRdm"
      },
      "source": [
        "## Data Exploration"
      ]
    },
    {
      "cell_type": "code",
      "metadata": {
        "id": "bFtZcutli20l"
      },
      "source": [
        "numerical_columns = []\n",
        "categorical_columns = []\n",
        "\n",
        "for column in total_df.columns:\n",
        "  if total_df.dtypes[column] == np.int64 or total_df.dtypes[column] == np.float64:\n",
        "    numerical_columns.append(column)\n",
        "  else:\n",
        "    categorical_columns.append(column)\n",
        "\n",
        "categorical_columns.remove('Source')\n",
        "numerical_columns.remove('SalePrice')"
      ],
      "execution_count": 183,
      "outputs": []
    },
    {
      "cell_type": "code",
      "metadata": {
        "id": "iGQ98d1izq6p"
      },
      "source": [
        "# Plot GarageYrBlt Histogram\n",
        "\n",
        "temp_df = total_df['GarageYrBlt'] - total_df['YearBuilt']\n",
        "temp_df.columns = ['DeltaYears']\n",
        "\n",
        "temp_df.plot.hist(bins=5, alpha=0.5)"
      ],
      "execution_count": null,
      "outputs": []
    },
    {
      "cell_type": "code",
      "metadata": {
        "id": "IfllxLKGyNfQ"
      },
      "source": [
        "# Plot Correlation Matrix\n",
        "\n",
        "temp_df = total_df[numerical_columns]\n",
        "f = plt.figure(figsize=(19, 15))\n",
        "plt.matshow(temp_df.corr(), fignum=f.number)\n",
        "plt.xticks(range(temp_df.shape[1]), temp_df.columns, fontsize=14, rotation=45)\n",
        "plt.yticks(range(temp_df.shape[1]), temp_df.columns, fontsize=14)\n",
        "cb = plt.colorbar()\n",
        "cb.ax.tick_params(labelsize=14)"
      ],
      "execution_count": null,
      "outputs": []
    },
    {
      "cell_type": "code",
      "metadata": {
        "id": "ail2JEWW2zw1"
      },
      "source": [
        "# Plot Correlation Only with column SalePrice\n",
        "\n",
        "total_df[numerical_columns].corrwith(original_train_df['SalePrice']).sort_values()"
      ],
      "execution_count": null,
      "outputs": []
    },
    {
      "cell_type": "code",
      "metadata": {
        "id": "3H7dGWda4b9D"
      },
      "source": [
        "# GarageYrBlt\n",
        "# MiscVal\n",
        "# Id\n",
        "# YrSold \n",
        "# BsmtHalfBath\n",
        "# numerical_columns.remove('GarageYrBlt')\n",
        "# numerical_columns.remove('MiscVal')\n",
        "# numerical_columns.remove('Id')\n",
        "# numerical_columns.remove('YrSold')\n",
        "# numerical_columns.remove('BsmtHalfBath')"
      ],
      "execution_count": 168,
      "outputs": []
    },
    {
      "cell_type": "code",
      "metadata": {
        "id": "FuXoQGkh6I21"
      },
      "source": [
        "cp_total_df = total_df\n",
        "# cp_total_df = cp_total_df.drop(['Id'], axis=1)\n",
        "# cp_total_df = cp_total_df.drop(['GarageYrBlt', 'MiscVal', 'Id', 'YrSold', 'BsmtHalfBath'], axis=1)"
      ],
      "execution_count": 184,
      "outputs": []
    },
    {
      "cell_type": "code",
      "metadata": {
        "id": "X84hwInAlSsV"
      },
      "source": [
        "pd.options.mode.chained_assignment = None\n",
        "\n",
        "for column in categorical_columns:\n",
        "    cp_total_df[column] = cp_total_df[column].fillna('N/A')\n",
        "\n",
        "for column in numerical_columns:\n",
        "    cp_total_df[column] = cp_total_df[column].fillna(0)\n",
        "\n",
        "for column in categorical_columns:\n",
        "  cp_total_df[column] = LabelEncoder().fit_transform(cp_total_df[column])\n",
        "\n",
        "for column in categorical_columns:\n",
        "  cp_total_df[column] = cp_total_df[column].astype('category')"
      ],
      "execution_count": 185,
      "outputs": []
    },
    {
      "cell_type": "code",
      "metadata": {
        "id": "w_GlBfjTshPZ"
      },
      "source": [
        "train_df = cp_total_df[cp_total_df['Source'] == 'train.csv']\n",
        "train_output_df = pd.DataFrame(train_df['SalePrice'], columns=['SalePrice'])\n",
        "train_df.drop('SalePrice', axis=1, inplace=True)\n",
        "\n",
        "test_df = cp_total_df[cp_total_df['Source'] == 'test.csv']\n",
        "test_df.drop('SalePrice', axis=1, inplace=True)"
      ],
      "execution_count": 186,
      "outputs": []
    },
    {
      "cell_type": "code",
      "metadata": {
        "id": "RZcbjMAB5ixx",
        "outputId": "f5a7cd3f-25d3-4a05-cb1e-a0a90845baff",
        "colab": {
          "base_uri": "https://localhost:8080/"
        }
      },
      "source": [
        "'Id' in cp_total_df.columns"
      ],
      "execution_count": 187,
      "outputs": [
        {
          "output_type": "execute_result",
          "data": {
            "text/plain": [
              "True"
            ]
          },
          "metadata": {
            "tags": []
          },
          "execution_count": 187
        }
      ]
    },
    {
      "cell_type": "code",
      "metadata": {
        "id": "gWct8Lc5u76g"
      },
      "source": [
        "def create_tensor(input_df):\n",
        "  stack = []\n",
        "  for column in categorical_columns:\n",
        "    temp_stack = input_df[column].cat.codes.values\n",
        "    stack.append(temp_stack)\n",
        "  for column in numerical_columns:\n",
        "    temp_stack = input_df[column].astype(np.float64)\n",
        "    stack.append(temp_stack)\n",
        "  return torch.tensor(np.stack(stack, 1), dtype=torch.float)\n",
        "\n",
        "tensor_train = create_tensor(train_df).float()\n",
        "tensor_output = torch.tensor(train_output_df['SalePrice']).flatten().float()\n",
        "\n",
        "tensor_test = create_tensor(test_df).float()"
      ],
      "execution_count": 188,
      "outputs": []
    },
    {
      "cell_type": "code",
      "metadata": {
        "id": "8hWd-cmIqYSi"
      },
      "source": [
        "total_records_train = len(tensor_train)\n",
        "test_records_train = int(total_records_train * 0.2)\n",
        "\n",
        "tensor_train_data = tensor_train[:total_records_train-test_records_train]\n",
        "tensor_train_output = tensor_output[:total_records_train-test_records_train]\n",
        "\n",
        "tensor_validation_data = tensor_train[total_records_train-test_records_train:total_records_train]\n",
        "tensor_validation_output = tensor_output[total_records_train-test_records_train:total_records_train]"
      ],
      "execution_count": 189,
      "outputs": []
    },
    {
      "cell_type": "code",
      "metadata": {
        "id": "BN_8pJnLv46m"
      },
      "source": [
        "in_nodes = tensor_train.shape[1]\n",
        "\n",
        "class Model(nn.Module):\n",
        "  def __init__(self):\n",
        "    super().__init__()\n",
        "    self.linear1 = nn.Linear(tensor_train.shape[1], 1000)\n",
        "    self.linear2 = nn.Linear(1000, 500)\n",
        "    self.linear3 = nn.Linear(500, 200)\n",
        "    self.linear4 = nn.Linear(200, 1)\n",
        "  def forward(self, x):\n",
        "    y = self.linear1(x)\n",
        "    y = torch.nn.functional.dropout(y, p=0.2)\n",
        "    y = self.linear2(y)\n",
        "    y = torch.nn.functional.dropout(y, p=0.2)\n",
        "    y = self.linear3(y)\n",
        "    y = torch.nn.functional.dropout(y, p=0.2)\n",
        "    y = self.linear4(y)\n",
        "    return y"
      ],
      "execution_count": 190,
      "outputs": []
    },
    {
      "cell_type": "code",
      "metadata": {
        "id": "RAP1r8NfyE0U"
      },
      "source": [
        "model = Model()\n",
        "loss_function = nn.MSELoss()\n",
        "optimizer = torch.optim.Adam(model.parameters(), lr=0.001)"
      ],
      "execution_count": 191,
      "outputs": []
    },
    {
      "cell_type": "code",
      "metadata": {
        "id": "zY4iolXgyYDh"
      },
      "source": [
        "def train_model(epochs):\n",
        "  aggregated_losses = []\n",
        "  for i in range(epochs):\n",
        "    y_pred = model(tensor_train_data)\n",
        "    loss = loss_function(y_pred.squeeze(), tensor_train_output)\n",
        "    optimizer.zero_grad() # sets the gradients of all optimized to zero.\n",
        "    loss.backward() # compute gradient of loss with respect to all the parameters\n",
        "    optimizer.step() # iterate and update all parameters based on the current gradient\n",
        "    if i % 100 == 0:\n",
        "      print(\"epoch: \" + str(i) + \"\\tloss: \" + str(loss.item()))\n",
        "    if i % 50 == 0:\n",
        "      aggregated_losses.append(loss)\n",
        "  return aggregated_losses"
      ],
      "execution_count": 192,
      "outputs": []
    },
    {
      "cell_type": "code",
      "metadata": {
        "id": "L4q6i4KtXngo"
      },
      "source": [
        "def plot_losses(aggregated_losses):\n",
        "  plt.plot(range(0, len(aggregated_losses)), aggregated_losses)\n",
        "  plt.ylabel('Loss')\n",
        "  plt.xlabel('epoch');"
      ],
      "execution_count": 193,
      "outputs": []
    },
    {
      "cell_type": "code",
      "metadata": {
        "id": "4g7E1VeLZvZY",
        "outputId": "09debc8f-6479-4e4e-b785-42d6e5a96cf8",
        "colab": {
          "base_uri": "https://localhost:8080/",
          "height": 466
        }
      },
      "source": [
        "aggregated_losses = train_model(1000)\n",
        "plot_losses(aggregated_losses)\n",
        "# 900 --> 1098404864.0"
      ],
      "execution_count": 194,
      "outputs": [
        {
          "output_type": "stream",
          "text": [
            "epoch: 0\tloss: 38924238848.0\n",
            "epoch: 100\tloss: 2153316608.0\n",
            "epoch: 200\tloss: 1691347968.0\n",
            "epoch: 300\tloss: 1590008320.0\n",
            "epoch: 400\tloss: 1540495616.0\n",
            "epoch: 500\tloss: 1488625664.0\n",
            "epoch: 600\tloss: 1634452352.0\n",
            "epoch: 700\tloss: 1610561792.0\n",
            "epoch: 800\tloss: 1540420352.0\n",
            "epoch: 900\tloss: 1496353152.0\n"
          ],
          "name": "stdout"
        },
        {
          "output_type": "display_data",
          "data": {
            "image/png": "[encoded data removed]",
            "text/plain": [
              "<Figure size 432x288 with 1 Axes>"
            ]
          },
          "metadata": {
            "tags": [],
            "needs_background": "light"
          }
        }
      ]
    },
    {
      "cell_type": "code",
      "metadata": {
        "id": "xOmfHGKqeMAr"
      },
      "source": [
        "aggregated_losses = train_model(2000)\n",
        "plot_losses(aggregated_losses)\n",
        "# 1900 --> 842353984.0"
      ],
      "execution_count": null,
      "outputs": []
    },
    {
      "cell_type": "code",
      "metadata": {
        "id": "5JYu0awluUfb",
        "outputId": "0d61811e-daf2-4acc-b831-57caa7a0abcd",
        "colab": {
          "base_uri": "https://localhost:8080/"
        }
      },
      "source": [
        "# Overfitting if: training loss << validation loss\n",
        "# Underfitting if: training loss >> validation loss\n",
        "# Just right if training loss ~ validation loss\n",
        "\n",
        "with torch.no_grad():\n",
        "    y_val = model(tensor_validation_data)\n",
        "    loss = loss_function(y_val.squeeze(), tensor_validation_output)\n",
        "print(\"Loss: \" + str(loss.item()))\n",
        "# Loss -- >Loss: 2240462848.0"
      ],
      "execution_count": 181,
      "outputs": [
        {
          "output_type": "stream",
          "text": [
            "Loss: 3134692864.0\n"
          ],
          "name": "stdout"
        }
      ]
    },
    {
      "cell_type": "code",
      "metadata": {
        "id": "QDOnUS8-ksLD"
      },
      "source": [
        "# To remove overfitting\n",
        "# cross-validation: use your initial training data to generate multiple mini train-test splits.\n",
        "# Remove features: removing irrelevant input features or aggregate them \n",
        "# Early stopping: stopping the training process before the learner degradates.\n",
        "regularization,\n",
        "# Ensembling: machine learning methods for combining predictions from multiple separate models. "
      ],
      "execution_count": null,
      "outputs": []
    },
    {
      "cell_type": "code",
      "metadata": {
        "id": "DMS8A0eVuyZN"
      },
      "source": [
        "# Make predictions\n",
        "with torch.no_grad():\n",
        "    y_pred = model(tensor_test)\n",
        "print(\"Loss: \" + str(loss))"
      ],
      "execution_count": null,
      "outputs": []
    },
    {
      "cell_type": "code",
      "metadata": {
        "id": "rODwWm9uJ5Ml",
        "outputId": "28cde123-2827-435d-9c73-c29d92a0e22e",
        "colab": {
          "base_uri": "https://localhost:8080/",
          "height": 17
        }
      },
      "source": [
        "submission_df = pd.DataFrame(y_pred, columns=['SalePrice']).astype(\"float\")\n",
        "\n",
        "submission_df = pd.concat([original_test_df, submission_df], axis=1)\n",
        "\n",
        "submission_df = submission_df[['Id', 'SalePrice']]\n",
        "\n",
        "from google.colab import files\n",
        "submission_df.to_csv('submission.csv', index=False)\n",
        "files.download('submission.csv')"
      ],
      "execution_count": null,
      "outputs": [
        {
          "output_type": "display_data",
          "data": {
            "application/javascript": [
              "\n",
              "    async function download(id, filename, size) {\n",
              "      if (!google.colab.kernel.accessAllowed) {\n",
              "        return;\n",
              "      }\n",
              "      const div = document.createElement('div');\n",
              "      const label = document.createElement('label');\n",
              "      label.textContent = `Downloading \"${filename}\": `;\n",
              "      div.appendChild(label);\n",
              "      const progress = document.createElement('progress');\n",
              "      progress.max = size;\n",
              "      div.appendChild(progress);\n",
              "      document.body.appendChild(div);\n",
              "\n",
              "      const buffers = [];\n",
              "      let downloaded = 0;\n",
              "\n",
              "      const channel = await google.colab.kernel.comms.open(id);\n",
              "      // Send a message to notify the kernel that we're ready.\n",
              "      channel.send({})\n",
              "\n",
              "      for await (const message of channel.messages) {\n",
              "        // Send a message to notify the kernel that we're ready.\n",
              "        channel.send({})\n",
              "        if (message.buffers) {\n",
              "          for (const buffer of message.buffers) {\n",
              "            buffers.push(buffer);\n",
              "            downloaded += buffer.byteLength;\n",
              "            progress.value = downloaded;\n",
              "          }\n",
              "        }\n",
              "      }\n",
              "      const blob = new Blob(buffers, {type: 'application/binary'});\n",
              "      const a = document.createElement('a');\n",
              "      a.href = window.URL.createObjectURL(blob);\n",
              "      a.download = filename;\n",
              "      div.appendChild(a);\n",
              "      a.click();\n",
              "      div.remove();\n",
              "    }\n",
              "  "
            ],
            "text/plain": [
              "<IPython.core.display.Javascript object>"
            ]
          },
          "metadata": {
            "tags": []
          }
        },
        {
          "output_type": "display_data",
          "data": {
            "application/javascript": [
              "download(\"download_d023bf60-e3aa-4419-91ab-9cbd981a9972\", \"submission.csv\", 26206)"
            ],
            "text/plain": [
              "<IPython.core.display.Javascript object>"
            ]
          },
          "metadata": {
            "tags": []
          }
        }
      ]
    }
  ]
}