{
  "nbformat": 4,
  "nbformat_minor": 0,
  "metadata": {
    "colab": {
      "name": "House-prices: advanced-regression-techniques.ipynb",
      "provenance": [],
      "collapsed_sections": [],
      "authorship_tag": "ABX9TyPPXSC+vaeet8zQd61eXJDu",
      "include_colab_link": true
    },
    "kernelspec": {
      "name": "python3",
      "display_name": "Python 3"
    },
    "accelerator": "GPU"
  },
  "cells": [
    {
      "cell_type": "markdown",
      "metadata": {
        "id": "view-in-github",
        "colab_type": "text"
      },
      "source": [
        "<a href=\"https://colab.research.google.com/github/robimalco/colab/blob/main/House_prices_advanced_regression_techniques.ipynb\" target=\"_parent\"><img src=\"https://colab.research.google.com/assets/colab-badge.svg\" alt=\"Open In Colab\"/></a>"
      ]
    },
    {
      "cell_type": "markdown",
      "metadata": {
        "id": "nHjvM2-hXK0H"
      },
      "source": [
        "## Columns Explaination\n"
      ]
    },
    {
      "cell_type": "markdown",
      "metadata": {
        "id": "6ZIbwZHoYg96"
      },
      "source": [
        "- **SalePrice** - the property's sale price in dollars. This is the target variable that you're trying to predict.\n",
        "- **1stFlrSF**: First Floor square feet\n",
        "- **2ndFlrSF**: Second floor square feet\n",
        "- **3SsnPorch**: Three season porch area in square feet\n",
        "- **Alley**: Type of alley access\n",
        "- **Bedroom**: Number of bedrooms above basement level\n",
        "- **BldgType**: Type of dwelling\n",
        "- **BsmtCond**: General condition of the basement\n",
        "- **BsmtExposure**: Walkout or garden level basement walls\n",
        "- **BsmtFinSF1**: Type 1 finished square feet\n",
        "- **BsmtFinSF2**: Type 2 finished square feet\n",
        "- **BsmtFinType1**: Quality of basement finished area\n",
        "- **BsmtFinType2**: Quality of second finished area (if present)\n",
        "- **BsmtFullBath**: Basement full bathrooms\n",
        "- **BsmtHalfBath**: Basement half bathrooms\n",
        "- **BsmtQual**: Height of the basement\n",
        "- **BsmtUnfSF**: Unfinished square feet of basement area\n",
        "- **CentralAir**: Central air conditioning\n",
        "- **Condition1**: Proximity to main road or railroad\n",
        "- **Condition2**: Proximity to main road or railroad (if a second is present)\n",
        "- **Electrical**: Electrical system\n",
        "- **EnclosedPorch**: Enclosed porch area in square feet\n",
        "- **ExterCond**: Present condition of the material on the exterior\n",
        "- **Exterior1st**: Exterior covering on house\n",
        "- **Exterior2nd**: Exterior covering on house (if more than one material)\n",
        "- **ExterQual**: Exterior material quality\n",
        "- **Fence**: Fence quality\n",
        "- **FireplaceQu**: Fireplace quality\n",
        "- **Fireplaces**: Number of fireplaces\n",
        "- **Foundation**: Type of foundation\n",
        "- **FullBath**: Full bathrooms above grade\n",
        "- **Functional**: Home functionality rating\n",
        "- **GarageArea**: Size of garage in square feet\n",
        "- **GarageCars**: Size of garage in car capacity\n",
        "- **GarageCond**: Garage condition\n",
        "- **GarageFinish**: Interior finish of the garage\n",
        "- **GarageQual**: Garage quality\n",
        "- **GarageType**: Garage location\n",
        "- **GarageYrBlt**: Year garage was built\n",
        "- **GrLivArea**: Above grade (ground) living area square feet\n",
        "- **HalfBath**: Half baths above grade\n",
        "- **Heating**: Type of heating\n",
        "- **HeatingQC**: Heating quality and condition\n",
        "- **HouseStyle**: Style of dwelling\n",
        "- **Kitchen**: Number of kitchens\n",
        "- **KitchenQual**: Kitchen quality\n",
        "- **LandContour**: Flatness of the property\n",
        "- **LandSlope**: Slope of property\n",
        "- **LotArea**: Lot size in square feet\n",
        "- **LotConfig**: Lot configuration\n",
        "- **LotFrontage**: Linear feet of street connected to property\n",
        "- **LotShape**: General shape of property\n",
        "- **LowQualFinSF**: Low quality finished square feet (all floors)\n",
        "- **MasVnrArea**: Masonry veneer area in square feet\n",
        "- **MasVnrType**: Masonry veneer type\n",
        "- **MiscFeature**: Miscellaneous feature not covered in other categories\n",
        "- **MiscVal**: $Value of miscellaneous feature\n",
        "- **MoSold**: Month Sold\n",
        "- **MSSubClass**: The building class\n",
        "- **MSZoning**: The general zoning classification\n",
        "- **Neighborhood**: Physical locations within Ames city limits\n",
        "- **OpenPorchSF**: Open porch area in square feet\n",
        "- **OverallCond**: Overall condition rating\n",
        "- **OverallQual**: Overall material and finish quality\n",
        "- **PavedDrive**: Paved driveway\n",
        "- **PoolArea**: Pool area in square feet\n",
        "- **PoolQC**: Pool quality\n",
        "- **RoofMatl**: Roof material\n",
        "- **RoofStyle**: Type of roof\n",
        "- **SaleCondition**: Condition of sale\n",
        "- **SaleType**: Type of sale\n",
        "- **ScreenPorch**: Screen porch area in square feet\n",
        "- **Street**: Type of road access\n",
        "- **TotalBsmtSF**: Total square feet of basement area\n",
        "- **TotRmsAbvGrd**: Total rooms above grade (does not include bathrooms)\n",
        "- **Utilities**: Type of utilities available\n",
        "- **WoodDeckSF**: Wood deck area in square feet\n",
        "- **YearBuilt**: Original construction date\n",
        "- **YearRemodAdd**: Remodel date\n",
        "- **YrSold**: Year Sold"
      ]
    },
    {
      "cell_type": "markdown",
      "metadata": {
        "id": "ikpSo7hJMLv7"
      },
      "source": [
        "# Configure and import"
      ]
    },
    {
      "cell_type": "code",
      "metadata": {
        "id": "lQPvQcB_Tp7Q"
      },
      "source": [
        "from google.colab import files\n",
        "files.upload()"
      ],
      "execution_count": null,
      "outputs": []
    },
    {
      "cell_type": "code",
      "metadata": {
        "id": "ZA-nbClRO8ir"
      },
      "source": [
        "!pip install -q kaggle\n",
        "!mkdir ~/.kaggle\n",
        "!cp kaggle.json ~/.kaggle/\n",
        "!chmod 600 ~/.kaggle/kaggle.json\n",
        "!kaggle competitions download -c house-prices-advanced-regression-techniques"
      ],
      "execution_count": null,
      "outputs": []
    },
    {
      "cell_type": "code",
      "metadata": {
        "id": "c_YOUDwLudyM"
      },
      "source": [
        "!pip install torch==1.7.0+cu101 torchvision==0.8.1+cu101 torchaudio==0.7.0 -f https://download.pytorch.org/whl/torch_stable.html\n",
        "!pip3 install torchvision"
      ],
      "execution_count": null,
      "outputs": []
    },
    {
      "cell_type": "code",
      "metadata": {
        "id": "pJ8LXcTzXUW6"
      },
      "source": [
        "import json\n",
        "import pandas as pd\n",
        "import numpy as np\n",
        "import torch\n",
        "import torch.nn as nn\n",
        "import seaborn as sns\n",
        "import matplotlib.pyplot as plt\n",
        "\n",
        "from sklearn.preprocessing import LabelEncoder\n",
        "from sklearn.model_selection import cross_val_score\n",
        "\n",
        "import xgboost as xgb\n",
        "from hyperopt import hp, tpe, fmin"
      ],
      "execution_count": null,
      "outputs": []
    },
    {
      "cell_type": "code",
      "metadata": {
        "id": "lpcjl4q4uPXv"
      },
      "source": [
        "# !nvcc --version\n",
        "# !python --version\n",
        "device = torch.device(\"cuda:0\" if torch.cuda.is_available() else \"cpu\")\n",
        "torch.cuda.get_device_name(0)"
      ],
      "execution_count": null,
      "outputs": []
    },
    {
      "cell_type": "markdown",
      "metadata": {
        "id": "9VXgfdGs0_AA"
      },
      "source": [
        "# Data Import"
      ]
    },
    {
      "cell_type": "code",
      "metadata": {
        "id": "FX-8bRYWXmRK"
      },
      "source": [
        "original_train_df = pd.read_csv('train.csv')\n",
        "original_train_df['Source'] = 'train.csv'\n",
        "\n",
        "original_test_df = pd.read_csv('test.csv')\n",
        "original_test_df['Source'] = 'test.csv'\n",
        "\n",
        "total_df = pd.concat([original_train_df, original_test_df], axis=0)\n",
        "\n",
        "total_df['MSSubClass'] = total_df['MSSubClass'].astype(str) # Since we have only 15 unique values, let's tranform it in string"
      ],
      "execution_count": null,
      "outputs": []
    },
    {
      "cell_type": "code",
      "metadata": {
        "id": "kPmzJfSohsUI"
      },
      "source": [
        "total_df = total_df[[\"Source\", \"SalePrice\", \"MSSubClass\", \"MSZoning\", \"LotFrontage\", \"LotArea\", \"Street\", \"YearBuilt\", \"LotShape\", \"1stFlrSF\", \"2ndFlrSF\"]]"
      ],
      "execution_count": null,
      "outputs": []
    },
    {
      "cell_type": "code",
      "metadata": {
        "id": "bFtZcutli20l"
      },
      "source": [
        "numerical_columns = []\n",
        "categorical_columns = []\n",
        "\n",
        "for column in total_df.columns:\n",
        "  if total_df.dtypes[column] == np.int64 or total_df.dtypes[column] == np.float64:\n",
        "    numerical_columns.append(column)\n",
        "  else:\n",
        "    categorical_columns.append(column)\n",
        "\n",
        "categorical_columns.remove('Source')\n",
        "numerical_columns.remove('SalePrice')"
      ],
      "execution_count": null,
      "outputs": []
    },
    {
      "cell_type": "markdown",
      "metadata": {
        "id": "EYARgnvfcjvB"
      },
      "source": [
        "# Data Exploration"
      ]
    },
    {
      "cell_type": "code",
      "metadata": {
        "id": "LHaEmcvpHY77"
      },
      "source": [
        "list_of_numerics = total_df.select_dtypes(include=['float', 'int']).columns\n",
        "corrSalePrice = round(total_df[numerical_columns].corrwith(original_train_df['SalePrice']), 3) * 100\n",
        "types = total_df.dtypes\n",
        "missing = round((total_df.isnull().sum()/total_df.shape[0]),3)*100\n",
        "overview = total_df.apply(\n",
        "    lambda x: [\n",
        "      round(x.min()), \n",
        "      round(x.max()), \n",
        "      round(x.mean()), \n",
        "      round(x.quantile(0.5))\n",
        "    ] if x.name in list_of_numerics else x.unique())\n",
        "outliers = total_df.apply(\n",
        "    lambda x: sum(\n",
        "        (x<(x.quantile(0.25)-1.5*(x.quantile(0.75)-x.quantile(0.25)))) | \n",
        "        (x>(x.quantile(0.75)+1.5*(x.quantile(0.75)-x.quantile(0.25)))) \n",
        "      if x.name in list_of_numerics else ''))\n",
        "explore_df = pd.DataFrame({\n",
        "  'Types': types,\n",
        "  'CorrSalePrice%': corrSalePrice,\n",
        "  'Missing%': missing,\n",
        "  'Overview': overview,\n",
        "  'Outliers': outliers\n",
        "})\n",
        "explore_df['Types'] = explore_df['Types'].astype(str)\n",
        "explore_df.sort_values(by=['Missing%'], ascending=False).transpose()"
      ],
      "execution_count": null,
      "outputs": []
    },
    {
      "cell_type": "code",
      "metadata": {
        "id": "uZxFoKoeclW_"
      },
      "source": [
        "# Plot Correlation Matrix\n",
        "\n",
        "temp_df = total_df[numerical_columns]\n",
        "f = plt.figure(figsize=(19, 15))\n",
        "plt.matshow(temp_df.corr(), fignum=f.number)\n",
        "plt.xticks(range(temp_df.shape[1]), temp_df.columns, fontsize=14, rotation=45)\n",
        "plt.yticks(range(temp_df.shape[1]), temp_df.columns, fontsize=14)\n",
        "cb = plt.colorbar()\n",
        "cb.ax.tick_params(labelsize=14)"
      ],
      "execution_count": null,
      "outputs": []
    },
    {
      "cell_type": "markdown",
      "metadata": {
        "id": "xdFK6gHFHaZ1"
      },
      "source": [
        "# Preprocessing"
      ]
    },
    {
      "cell_type": "code",
      "metadata": {
        "id": "cFHHN5jhlxE-"
      },
      "source": [
        "total_df['MSZoning'] = total_df['MSZoning'].fillna(total_df['MSZoning'].mode()[0])\n",
        "total_df['LotFrontage'] = total_df['LotFrontage'].mean()"
      ],
      "execution_count": null,
      "outputs": []
    },
    {
      "cell_type": "markdown",
      "metadata": {
        "id": "ka9b57nUXRdm"
      },
      "source": [
        "# Model Setup"
      ]
    },
    {
      "cell_type": "code",
      "metadata": {
        "id": "X84hwInAlSsV"
      },
      "source": [
        "# pd.options.mode.chained_assignment = None\n",
        "\n",
        "for column in categorical_columns:\n",
        "  total_df[column] = LabelEncoder().fit_transform(total_df[column])\n",
        "\n",
        "for column in categorical_columns:\n",
        "  total_df[column] = total_df[column].astype('category')"
      ],
      "execution_count": null,
      "outputs": []
    },
    {
      "cell_type": "code",
      "metadata": {
        "id": "w_GlBfjTshPZ"
      },
      "source": [
        "train_df = total_df[total_df['Source'] == 'train.csv'].dropna()\n",
        "train_output_df = pd.DataFrame(train_df['SalePrice'], columns=['SalePrice'])\n",
        "train_df.drop('SalePrice', axis=1, inplace=True)\n",
        "test_df = total_df[total_df['Source'] == 'test.csv']\n",
        "test_df.drop('SalePrice', axis=1, inplace=True)"
      ],
      "execution_count": null,
      "outputs": []
    },
    {
      "cell_type": "code",
      "metadata": {
        "id": "gWct8Lc5u76g"
      },
      "source": [
        "def create_categorical_tensor(input_df):\n",
        "  stack = []\n",
        "  for column in categorical_columns:\n",
        "    temp_stack = input_df[column].cat.codes.values\n",
        "    stack.append(temp_stack)\n",
        "  return torch.tensor(np.stack(stack, 1), dtype=torch.float)\n",
        "\n",
        "def create_numerical_tensor(input_df):\n",
        "  stack = []\n",
        "  for column in numerical_columns:\n",
        "    temp_stack = input_df[column].astype(np.float64)\n",
        "    stack.append(temp_stack)\n",
        "  return torch.tensor(np.stack(stack, 1), dtype=torch.float)\n",
        "\n",
        "\n",
        "tensor_train_categorical = create_categorical_tensor(train_df[categorical_columns]).float()\n",
        "tensor_train_numerical = create_numerical_tensor(train_df[numerical_columns]).float()\n",
        "tensor_output = torch.tensor(train_output_df.values).flatten().float()\n",
        "\n",
        "tensor_test_categorical = create_categorical_tensor(test_df[categorical_columns]).float()\n",
        "tensor_test_numerical = create_numerical_tensor(test_df[numerical_columns]).float()"
      ],
      "execution_count": null,
      "outputs": []
    },
    {
      "cell_type": "code",
      "metadata": {
        "id": "8hWd-cmIqYSi"
      },
      "source": [
        "total_records_train = len(tensor_train)\n",
        "test_records_train = int(total_records_train * 0.2)\n",
        "\n",
        "tensor_train_categorical_data = tensor_train_categorical[:total_records_train-test_records_train].to(device)\n",
        "tensor_train_numerical_data = tensor_train_numerical[:total_records_train-test_records_train].to(device)\n",
        "tensor_train_output = tensor_output[:total_records_train-test_records_train].to(device)\n",
        "\n",
        "tensor_validation_categorical_data = tensor_train_categorical[total_records_train-test_records_train:total_records_train].to(device)\n",
        "tensor_validation_numerical_data = tensor_train_numerical[total_records_train-test_records_train:total_records_train].to(device)\n",
        "tensor_validation_output = tensor_output[total_records_train-test_records_train:total_records_train].to(device)"
      ],
      "execution_count": null,
      "outputs": []
    },
    {
      "cell_type": "code",
      "metadata": {
        "id": "eG67Nifen7vA",
        "outputId": "3ffc3f4e-2f8f-4373-c482-72725ec1238e",
        "colab": {
          "base_uri": "https://localhost:8080/"
        }
      },
      "source": [
        "categorical_columns_size = [len(train_df[column].astype('category').cat.categories) for column in categorical_columns]\n",
        "categorical_embedding_sizes = [(col_size, min(50, (col_size+1)//2)) for col_size in categorical_columns_size]\n",
        "\n",
        "categorical_embedding_sizes"
      ],
      "execution_count": null,
      "outputs": [
        {
          "output_type": "execute_result",
          "data": {
            "text/plain": [
              "[(16, 8), (5, 3), (2, 1), (4, 2)]"
            ]
          },
          "metadata": {
            "tags": []
          },
          "execution_count": 323
        }
      ]
    },
    {
      "cell_type": "code",
      "metadata": {
        "id": "BN_8pJnLv46m"
      },
      "source": [
        "class Model(nn.Module):\n",
        "  def __init__(self, embedding_size, num_numerical_cols, layers, p=0.5):\n",
        "    super().__init__()\n",
        "\n",
        "    self.all_embeddings = nn.ModuleList([nn.Embedding(ni, nf) for ni, nf in embedding_size])\n",
        "    self.emb_drop = nn.Dropout(p)\n",
        "    self.bn_cont = nn.BatchNorm1d(num_numerical_cols)\n",
        "\n",
        "    num_categorical_cols = sum((nf for ni, nf in embedding_size))\n",
        "    input_size = num_categorical_cols + num_numerical_cols\n",
        "    \n",
        "    layerlist = []\n",
        "    for i in layers:\n",
        "        layerlist.append(nn.Linear(input_size, i)) \n",
        "        layerlist.append(nn.ReLU(inplace=True))\n",
        "        layerlist.append(nn.BatchNorm1d(i))\n",
        "        layerlist.append(nn.Dropout(p))\n",
        "        input_size = i\n",
        "    layerlist.append(nn.Linear(layers[-1], 1))\n",
        "        \n",
        "    self.layers = nn.Sequential(*layerlist)\n",
        "\n",
        "  def forward(self, x_categorical, x_numerical):\n",
        "\n",
        "    embeddings = []\n",
        "    for i,e in enumerate(self.all_embeddings):\n",
        "        embeddings.append(e(x_categorical[:,i].long()))\n",
        "\n",
        "    x = torch.cat(embeddings, 1)\n",
        "    x = self.emb_drop(x)\n",
        "    \n",
        "    x_numerical = self.bn_cont(x_numerical)\n",
        "    x = torch.cat([x, x_numerical], 1)\n",
        "    x = self.layers(x)\n",
        "\n",
        "    return x"
      ],
      "execution_count": null,
      "outputs": []
    },
    {
      "cell_type": "code",
      "metadata": {
        "id": "RAP1r8NfyE0U",
        "outputId": "64921bc3-f436-43fe-907c-239f2dfdecb8",
        "colab": {
          "base_uri": "https://localhost:8080/"
        }
      },
      "source": [
        "num_numerical_cols = tensor_train_numerical_data.shape[1]\n",
        "\n",
        "model = Model(categorical_embedding_sizes, num_numerical_cols, [100, 50], 0.4)\n",
        "loss_function = nn.MSELoss()\n",
        "optimizer = torch.optim.Adam(model.parameters(), lr=0.01)\n",
        "model.to(device)"
      ],
      "execution_count": null,
      "outputs": [
        {
          "output_type": "execute_result",
          "data": {
            "text/plain": [
              "Model(\n",
              "  (all_embeddings): ModuleList(\n",
              "    (0): Embedding(16, 8)\n",
              "    (1): Embedding(5, 3)\n",
              "    (2): Embedding(2, 1)\n",
              "    (3): Embedding(4, 2)\n",
              "  )\n",
              "  (emb_drop): Dropout(p=0.4, inplace=False)\n",
              "  (bn_cont): BatchNorm1d(5, eps=1e-05, momentum=0.1, affine=True, track_running_stats=True)\n",
              "  (layers): Sequential(\n",
              "    (0): Linear(in_features=19, out_features=100, bias=True)\n",
              "    (1): ReLU(inplace=True)\n",
              "    (2): BatchNorm1d(100, eps=1e-05, momentum=0.1, affine=True, track_running_stats=True)\n",
              "    (3): Dropout(p=0.4, inplace=False)\n",
              "    (4): Linear(in_features=100, out_features=50, bias=True)\n",
              "    (5): ReLU(inplace=True)\n",
              "    (6): BatchNorm1d(50, eps=1e-05, momentum=0.1, affine=True, track_running_stats=True)\n",
              "    (7): Dropout(p=0.4, inplace=False)\n",
              "    (8): Linear(in_features=50, out_features=1, bias=True)\n",
              "  )\n",
              ")"
            ]
          },
          "metadata": {
            "tags": []
          },
          "execution_count": 325
        }
      ]
    },
    {
      "cell_type": "code",
      "metadata": {
        "id": "zY4iolXgyYDh"
      },
      "source": [
        "def train_model(fold, epochs, x_cat, x_num, y, aggregated_losses):\n",
        "  for i in range(epochs):\n",
        "    y_pred = model(x_cat, x_num)\n",
        "    loss = torch.sqrt(loss_function(y_pred.squeeze(), y))\n",
        "    optimizer.zero_grad() # sets the gradients of all optimized to zero.\n",
        "    loss.backward() # compute gradient of loss with respect to all the parameters\n",
        "    optimizer.step() # iterate and update all parameters based on the current gradient\n",
        "    if i == epochs - 1:\n",
        "      print(\"fold:\", fold, \"epoch: \" + str(i) + \"\\tloss: \" + str(loss.item()))\n",
        "    aggregated_losses.append(loss)"
      ],
      "execution_count": null,
      "outputs": []
    },
    {
      "cell_type": "markdown",
      "metadata": {
        "id": "t7HH-k6xDFW8"
      },
      "source": [
        "# TRAIN WITH CROSS VALIDATION"
      ]
    },
    {
      "cell_type": "code",
      "metadata": {
        "id": "0Ka0sg11kDSF"
      },
      "source": [
        "from sklearn.model_selection import KFold\n",
        "\n",
        "kf = KFold(n_splits=4)\n",
        "epochs = 1000\n",
        "aggregated_losses = []\n",
        "\n",
        "for fold, (train_index, test_index) in enumerate(kf.split(tensor_train_data, tensor_train_output)):\n",
        "  x_cat_train_fold = tensor_train_categorical_data[train_index].to(device)\n",
        "  x_num_train_fold = tensor_train_numerical_data[train_index].to(device)\n",
        "  y_train_fold = tensor_train_output[train_index].to(device)\n",
        "  train_model(fold, epochs, x_cat_train_fold, x_num_train_fold, y_train_fold, aggregated_losses)"
      ],
      "execution_count": null,
      "outputs": []
    },
    {
      "cell_type": "code",
      "metadata": {
        "id": "LVToMBNREwCj",
        "outputId": "65cf7072-8808-4be8-e8bd-ea752300f053",
        "colab": {
          "base_uri": "https://localhost:8080/",
          "height": 334
        }
      },
      "source": [
        "plt.figure(figsize=(10,5))\n",
        "plt.plot(range(0, len(aggregated_losses)), aggregated_losses)\n",
        "plt.ylabel('Loss')\n",
        "plt.xlabel('epoch');"
      ],
      "execution_count": null,
      "outputs": [
        {
          "output_type": "display_data",
          "data": {
            "image/png": "[encoded data removed]",
            "text/plain": [
              "<Figure size 720x360 with 1 Axes>"
            ]
          },
          "metadata": {
            "tags": [],
            "needs_background": "light"
          }
        }
      ]
    },
    {
      "cell_type": "markdown",
      "metadata": {
        "id": "kcEmVeF8DIOQ"
      },
      "source": [
        "# VALIDATION"
      ]
    },
    {
      "cell_type": "code",
      "metadata": {
        "id": "5JYu0awluUfb",
        "outputId": "3a31ee67-42de-4b0e-e228-9aee8b54432c",
        "colab": {
          "base_uri": "https://localhost:8080/"
        }
      },
      "source": [
        "# Overfitting if: training loss << validation loss\n",
        "# Underfitting if: training loss >> validation loss\n",
        "# Just right if training loss ~ validation loss\n",
        "\n",
        "with torch.no_grad():\n",
        "    y_val = model(tensor_validation_categorical_data, tensor_validation_numerical_data)\n",
        "    validation_loss = torch.sqrt(loss_function(y_val.squeeze(), tensor_validation_output))\n",
        "print(\"Validation loss: \", str(validation_loss.item()))\n",
        "print(\"Train Loss VS Validation loss: \", round(1 - aggregated_losses[len(aggregated_losses) - 1].item() / validation_loss.item(), 2) * 100)"
      ],
      "execution_count": null,
      "outputs": [
        {
          "output_type": "stream",
          "text": [
            "Validation loss:  51240.125\n",
            "Train Loss VS Validation loss:  33.0\n"
          ],
          "name": "stdout"
        }
      ]
    },
    {
      "cell_type": "markdown",
      "metadata": {
        "id": "Ke8Nw6kUDKu7"
      },
      "source": [
        "# PREDICTION"
      ]
    },
    {
      "cell_type": "code",
      "metadata": {
        "id": "QDOnUS8-ksLD"
      },
      "source": [
        "# To remove overfitting\n",
        "#   Cross-validation: use your initial training data to generate multiple mini train-test splits.\n",
        "#   Remove features: removing irrelevant input features or aggregate them \n",
        "#   Early stopping: stopping the training process before the learner degradates.\n",
        "#   Regularization: adds a penalty as model complexity increases\n",
        "#   Ensembling: machine learning methods for combining predictions from multiple separate models. "
      ],
      "execution_count": null,
      "outputs": []
    },
    {
      "cell_type": "code",
      "metadata": {
        "id": "DMS8A0eVuyZN"
      },
      "source": [
        "# Make predictions\n",
        "with torch.no_grad():\n",
        "    tensor_test_categorical_data = tensor_test_categorical.to(device)\n",
        "    tensor_test_numerical_data = tensor_test_numerical.to(device)\n",
        "    y_pred = model(tensor_test_categorical_data, tensor_test_numerical_data)"
      ],
      "execution_count": null,
      "outputs": []
    },
    {
      "cell_type": "code",
      "metadata": {
        "id": "g94fE8ma2Ek7"
      },
      "source": [
        "submission_df = pd.DataFrame(y_pred, columns=['SalePrice']).astype(\"float\")\n",
        "\n",
        "submission_df = pd.concat([original_test_df, submission_df], axis=1)\n",
        "\n",
        "submission_df = submission_df[['Id', 'SalePrice']]\n",
        "\n",
        "submission_df"
      ],
      "execution_count": null,
      "outputs": []
    },
    {
      "cell_type": "code",
      "metadata": {
        "id": "rODwWm9uJ5Ml",
        "outputId": "f1b7a9df-acba-4740-c4c3-79cf4ba6270e",
        "colab": {
          "base_uri": "https://localhost:8080/",
          "height": 17
        }
      },
      "source": [
        "from google.colab import files\n",
        "submission_df.to_csv('submission.csv', index=False)\n",
        "files.download('submission.csv')"
      ],
      "execution_count": null,
      "outputs": [
        {
          "output_type": "display_data",
          "data": {
            "application/javascript": [
              "\n",
              "    async function download(id, filename, size) {\n",
              "      if (!google.colab.kernel.accessAllowed) {\n",
              "        return;\n",
              "      }\n",
              "      const div = document.createElement('div');\n",
              "      const label = document.createElement('label');\n",
              "      label.textContent = `Downloading \"${filename}\": `;\n",
              "      div.appendChild(label);\n",
              "      const progress = document.createElement('progress');\n",
              "      progress.max = size;\n",
              "      div.appendChild(progress);\n",
              "      document.body.appendChild(div);\n",
              "\n",
              "      const buffers = [];\n",
              "      let downloaded = 0;\n",
              "\n",
              "      const channel = await google.colab.kernel.comms.open(id);\n",
              "      // Send a message to notify the kernel that we're ready.\n",
              "      channel.send({})\n",
              "\n",
              "      for await (const message of channel.messages) {\n",
              "        // Send a message to notify the kernel that we're ready.\n",
              "        channel.send({})\n",
              "        if (message.buffers) {\n",
              "          for (const buffer of message.buffers) {\n",
              "            buffers.push(buffer);\n",
              "            downloaded += buffer.byteLength;\n",
              "            progress.value = downloaded;\n",
              "          }\n",
              "        }\n",
              "      }\n",
              "      const blob = new Blob(buffers, {type: 'application/binary'});\n",
              "      const a = document.createElement('a');\n",
              "      a.href = window.URL.createObjectURL(blob);\n",
              "      a.download = filename;\n",
              "      div.appendChild(a);\n",
              "      a.click();\n",
              "      div.remove();\n",
              "    }\n",
              "  "
            ],
            "text/plain": [
              "<IPython.core.display.Javascript object>"
            ]
          },
          "metadata": {
            "tags": []
          }
        },
        {
          "output_type": "display_data",
          "data": {
            "application/javascript": [
              "download(\"download_ece9b889-26b0-480b-a231-c60b0b7649fe\", \"submission.csv\", 26486)"
            ],
            "text/plain": [
              "<IPython.core.display.Javascript object>"
            ]
          },
          "metadata": {
            "tags": []
          }
        }
      ]
    },
    {
      "cell_type": "markdown",
      "metadata": {
        "id": "zU6Rw6F7T7Dt"
      },
      "source": [
        "# TEST xgboost\n"
      ]
    },
    {
      "cell_type": "code",
      "metadata": {
        "id": "Io36bLfnUPE_"
      },
      "source": [
        "x_train = pd.get_dummies(train_df.drop('Source', axis=1))\n",
        "y_train = train_output_df\n",
        "\n",
        "space = {'n_estimators':hp.quniform('n_estimators', 1000, 4000, 100),\n",
        "         'gamma':hp.uniform('gamma', 0.01, 0.05),\n",
        "         'learning_rate':hp.uniform('learning_rate', 0.00001, 0.025),\n",
        "         'max_depth':hp.quniform('max_depth', 3,7,1),\n",
        "         'subsample':hp.uniform('subsample', 0.60, 0.95),\n",
        "         'colsample_bytree':hp.uniform('colsample_bytree', 0.60, 0.98),\n",
        "         'colsample_bylevel':hp.uniform('colsample_bylevel', 0.60, 0.98),\n",
        "         'reg_lambda': hp.uniform('reg_lambda', 1, 20)\n",
        "        }\n",
        "\n",
        "def objective(params):\n",
        "    params = {'n_estimators': int(params['n_estimators']),\n",
        "             'gamma': params['gamma'],\n",
        "             'learning_rate': params['learning_rate'],\n",
        "             'max_depth': int(params['max_depth']),\n",
        "             'subsample': params['subsample'],\n",
        "             'colsample_bytree': params['colsample_bytree'],\n",
        "             'colsample_bylevel': params['colsample_bylevel'],\n",
        "             'reg_lambda': params['reg_lambda']}\n",
        "    \n",
        "    xb_a= xgb.XGBRegressor(**params)\n",
        "    score = cross_val_score(xb_a, x_train, y_train, scoring='neg_mean_squared_error', cv=5, n_jobs=-1).mean()\n",
        "    return -score"
      ],
      "execution_count": null,
      "outputs": []
    },
    {
      "cell_type": "code",
      "metadata": {
        "id": "uJ9NBEi6VImm",
        "outputId": "15d93379-5075-4226-b68c-b1ea54f99e1b",
        "colab": {
          "base_uri": "https://localhost:8080/"
        }
      },
      "source": [
        "best = fmin(fn=objective, space=space, max_evals=20, rstate=np.random.RandomState(1), algo=tpe.suggest)"
      ],
      "execution_count": null,
      "outputs": [
        {
          "output_type": "stream",
          "text": [
            "100%|██████████| 20/20 [05:09<00:00, 15.50s/it, best loss: 1126016074.0472274]\n"
          ],
          "name": "stdout"
        }
      ]
    },
    {
      "cell_type": "code",
      "metadata": {
        "id": "yeftRfOVYiVO",
        "outputId": "0dc10c39-0d66-4389-c120-815fb04008bd",
        "colab": {
          "base_uri": "https://localhost:8080/"
        }
      },
      "source": [
        "print(print(json.dumps(best, indent=4, sort_keys=True)))"
      ],
      "execution_count": null,
      "outputs": [
        {
          "output_type": "stream",
          "text": [
            "{\n",
            "    \"colsample_bylevel\": 0.7490854863915007,\n",
            "    \"colsample_bytree\": 0.6970036766353755,\n",
            "    \"gamma\": 0.03622174593328547,\n",
            "    \"learning_rate\": 0.015737761891183078,\n",
            "    \"max_depth\": 4.0,\n",
            "    \"n_estimators\": 2100.0,\n",
            "    \"reg_lambda\": 15.967977815448439,\n",
            "    \"subsample\": 0.8376277427515022\n",
            "}\n",
            "None\n"
          ],
          "name": "stdout"
        }
      ]
    },
    {
      "cell_type": "code",
      "metadata": {
        "id": "N3uWEbRxYyVb",
        "outputId": "50d4c9c5-5747-4c8c-fc69-03514f15b391",
        "colab": {
          "base_uri": "https://localhost:8080/"
        }
      },
      "source": [
        "xb_b = xgb.XGBRegressor(\n",
        "  random_state=0,\n",
        "  n_estimators=int(best['n_estimators']),\n",
        "  colsample_bytree= best['colsample_bytree'],\n",
        "  gamma= best['gamma'],\n",
        "  learning_rate= best['learning_rate'],\n",
        "  max_depth= int(best['max_depth']),\n",
        "  subsample= best['subsample'],\n",
        "  colsample_bylevel= best['colsample_bylevel'],\n",
        "  reg_lambda= best['reg_lambda']\n",
        ")\n",
        "\n",
        "xb_b.fit(x_train, y_train)"
      ],
      "execution_count": null,
      "outputs": [
        {
          "output_type": "stream",
          "text": [
            "[12:22:23] WARNING: /workspace/src/objective/regression_obj.cu:152: reg:linear is now deprecated in favor of reg:squarederror.\n"
          ],
          "name": "stdout"
        },
        {
          "output_type": "execute_result",
          "data": {
            "text/plain": [
              "XGBRegressor(base_score=0.5, booster='gbtree',\n",
              "             colsample_bylevel=0.7490854863915007, colsample_bynode=1,\n",
              "             colsample_bytree=0.6970036766353755, gamma=0.03622174593328547,\n",
              "             importance_type='gain', learning_rate=0.015737761891183078,\n",
              "             max_delta_step=0, max_depth=4, min_child_weight=1, missing=None,\n",
              "             n_estimators=2100, n_jobs=1, nthread=None, objective='reg:linear',\n",
              "             random_state=0, reg_alpha=0, reg_lambda=15.967977815448439,\n",
              "             scale_pos_weight=1, seed=None, silent=None,\n",
              "             subsample=0.8376277427515022, verbosity=1)"
            ]
          },
          "metadata": {
            "tags": []
          },
          "execution_count": 355
        }
      ]
    },
    {
      "cell_type": "code",
      "metadata": {
        "id": "YFI1CowhaF2a"
      },
      "source": [
        "x_test = pd.get_dummies(test_df.drop('Source', axis=1))\n",
        "preds = xb_b.predict(x_test)"
      ],
      "execution_count": null,
      "outputs": []
    },
    {
      "cell_type": "code",
      "metadata": {
        "id": "IldAyJ06aasT"
      },
      "source": [
        "submission_df = pd.DataFrame({'Id': original_test_df.Id,'SalePrice': preds})"
      ],
      "execution_count": null,
      "outputs": []
    },
    {
      "cell_type": "code",
      "metadata": {
        "id": "0ndn0ivmauAT",
        "outputId": "7f72f76e-f786-4e96-808b-d95d862f7e72",
        "colab": {
          "base_uri": "https://localhost:8080/",
          "height": 17
        }
      },
      "source": [
        "from google.colab import files\n",
        "submission_df.to_csv('submission.csv', index=False)\n",
        "files.download('submission.csv')"
      ],
      "execution_count": null,
      "outputs": [
        {
          "output_type": "display_data",
          "data": {
            "application/javascript": [
              "\n",
              "    async function download(id, filename, size) {\n",
              "      if (!google.colab.kernel.accessAllowed) {\n",
              "        return;\n",
              "      }\n",
              "      const div = document.createElement('div');\n",
              "      const label = document.createElement('label');\n",
              "      label.textContent = `Downloading \"${filename}\": `;\n",
              "      div.appendChild(label);\n",
              "      const progress = document.createElement('progress');\n",
              "      progress.max = size;\n",
              "      div.appendChild(progress);\n",
              "      document.body.appendChild(div);\n",
              "\n",
              "      const buffers = [];\n",
              "      let downloaded = 0;\n",
              "\n",
              "      const channel = await google.colab.kernel.comms.open(id);\n",
              "      // Send a message to notify the kernel that we're ready.\n",
              "      channel.send({})\n",
              "\n",
              "      for await (const message of channel.messages) {\n",
              "        // Send a message to notify the kernel that we're ready.\n",
              "        channel.send({})\n",
              "        if (message.buffers) {\n",
              "          for (const buffer of message.buffers) {\n",
              "            buffers.push(buffer);\n",
              "            downloaded += buffer.byteLength;\n",
              "            progress.value = downloaded;\n",
              "          }\n",
              "        }\n",
              "      }\n",
              "      const blob = new Blob(buffers, {type: 'application/binary'});\n",
              "      const a = document.createElement('a');\n",
              "      a.href = window.URL.createObjectURL(blob);\n",
              "      a.download = filename;\n",
              "      div.appendChild(a);\n",
              "      a.click();\n",
              "      div.remove();\n",
              "    }\n",
              "  "
            ],
            "text/plain": [
              "<IPython.core.display.Javascript object>"
            ]
          },
          "metadata": {
            "tags": []
          }
        },
        {
          "output_type": "display_data",
          "data": {
            "application/javascript": [
              "download(\"download_0dc6b20a-1e84-4c66-9741-2e62abf31865\", \"submission.csv\", 21656)"
            ],
            "text/plain": [
              "<IPython.core.display.Javascript object>"
            ]
          },
          "metadata": {
            "tags": []
          }
        }
      ]
    }
  ]
}