{
  "nbformat": 4,
  "nbformat_minor": 0,
  "metadata": {
    "colab": {
      "name": "Titanic: Machine Learning from Disaster.ipynb",
      "provenance": [],
      "collapsed_sections": [],
      "authorship_tag": "ABX9TyP1H656zZqyoDwJOmYIN9dg",
      "include_colab_link": true
    },
    "kernelspec": {
      "name": "python3",
      "display_name": "Python 3"
    }
  },
  "cells": [
    {
      "cell_type": "markdown",
      "metadata": {
        "id": "view-in-github",
        "colab_type": "text"
      },
      "source": [
        "<a href=\"https://colab.research.google.com/github/robimalco/colab/blob/main/Titanic_Machine_Learning_from_Disaster.ipynb\" target=\"_parent\"><img src=\"https://colab.research.google.com/assets/colab-badge.svg\" alt=\"Open In Colab\"/></a>"
      ]
    },
    {
      "cell_type": "code",
      "metadata": {
        "id": "35Gab4RH7kRj"
      },
      "source": [
        "!pip install -q kaggle"
      ],
      "execution_count": 502,
      "outputs": []
    },
    {
      "cell_type": "code",
      "metadata": {
        "id": "nCh6gWUa8Ue_"
      },
      "source": [
        "from google.colab import files"
      ],
      "execution_count": 503,
      "outputs": []
    },
    {
      "cell_type": "code",
      "metadata": {
        "id": "Wp3MikqX8W3M"
      },
      "source": [
        "files.upload()"
      ],
      "execution_count": null,
      "outputs": []
    },
    {
      "cell_type": "code",
      "metadata": {
        "id": "tZqQJv1X8ZYi"
      },
      "source": [
        "!mkdir ~/.kaggle\n",
        "!cp kaggle.json ~/.kaggle/\n",
        "!chmod 600 ~/.kaggle/kaggle.json"
      ],
      "execution_count": null,
      "outputs": []
    },
    {
      "cell_type": "code",
      "metadata": {
        "id": "wx98snIy8diy"
      },
      "source": [
        "!kaggle datasets list"
      ],
      "execution_count": null,
      "outputs": []
    },
    {
      "cell_type": "code",
      "metadata": {
        "id": "n0xRj1RU8h_m"
      },
      "source": [
        "!kaggle competitions download -c titanic"
      ],
      "execution_count": null,
      "outputs": []
    },
    {
      "cell_type": "code",
      "metadata": {
        "id": "FO57DG0g80_w"
      },
      "source": [
        "!mkdir train\n",
        "!unzip train.zip -d train"
      ],
      "execution_count": null,
      "outputs": []
    },
    {
      "cell_type": "markdown",
      "metadata": {
        "id": "6LJhFeCF_Ie7"
      },
      "source": [
        "# START"
      ]
    },
    {
      "cell_type": "code",
      "metadata": {
        "id": "fm5ybphV_KqE"
      },
      "source": [
        "import numpy as np\n",
        "import pandas as pd\n",
        "import torch\n",
        "import torch.nn as nn\n",
        "import torch.nn.functional as F\n",
        "import torch.utils.data as data_utils\n",
        "from sklearn.preprocessing import LabelEncoder"
      ],
      "execution_count": 509,
      "outputs": []
    },
    {
      "cell_type": "code",
      "metadata": {
        "id": "121_vnK4_q1c"
      },
      "source": [
        "train_df = pd.read_csv('train.csv')\n",
        "test_df = pd.read_csv('test.csv')"
      ],
      "execution_count": 510,
      "outputs": []
    },
    {
      "cell_type": "code",
      "metadata": {
        "id": "e457G6xW3Wyi"
      },
      "source": [
        "# Diplay null values of each column\n",
        "train_df.isnull().sum()"
      ],
      "execution_count": null,
      "outputs": []
    },
    {
      "cell_type": "code",
      "metadata": {
        "id": "_eDuPvxoHeeH"
      },
      "source": [
        "# Manage titles\n",
        "def get_title(name):\n",
        "    if '.' in name:\n",
        "        return name.split(',')[1].split('.')[0].strip()\n",
        "    else:\n",
        "        return 'Unknown'\n",
        "\n",
        "def replace_titles(x): # Normalize the titles\n",
        "    title = x['TitleCluster']\n",
        "    if title in ['Capt', 'Col', 'Don', 'Jonkheer', 'Major', 'Rev', 'Sir']:\n",
        "        return 'Mr'\n",
        "    elif title in ['the Countess', 'Mme', 'Lady']:\n",
        "        return 'Mrs'\n",
        "    elif title in ['Mlle', 'Ms']:\n",
        "        return 'Miss'\n",
        "    elif title =='Dr':\n",
        "        if x['Sex']=='male':\n",
        "            return 'Mr'\n",
        "        else:\n",
        "            return 'Mrs'\n",
        "    else:\n",
        "        return title\n",
        "\n",
        "train_df['TitleCluster'] = train_df['Name'].map(lambda x: get_title(x))\n",
        "train_df['TitleCluster'] = train_df.apply(replace_titles, axis=1)\n",
        "\n",
        "test_df['TitleCluster'] = test_df['Name'].map(lambda x: get_title(x))\n",
        "test_df['TitleCluster'] = test_df.apply(replace_titles, axis=1)"
      ],
      "execution_count": 512,
      "outputs": []
    },
    {
      "cell_type": "code",
      "metadata": {
        "id": "Dwfu7steBeOc"
      },
      "source": [
        "# Manage tickets\n",
        "train_df['TicketCluster'] = train_df['Ticket'].str[0]\n",
        "train_df['TicketCluster'] = np.where(train_df[\"TicketCluster\"].str.isdigit(), \"X\", train_df[\"TicketCluster\"])\n",
        "\n",
        "test_df['TicketCluster'] = test_df['Ticket'].str[0]\n",
        "test_df['TicketCluster'] = np.where(test_df[\"TicketCluster\"].str.isdigit(), \"X\", test_df[\"TicketCluster\"])"
      ],
      "execution_count": 513,
      "outputs": []
    },
    {
      "cell_type": "code",
      "metadata": {
        "id": "tS0b6KaUQJlx"
      },
      "source": [
        "# Manage missing age\n",
        "def fill_missing_age(x):\n",
        "    age = x['Age']\n",
        "    title = x['TitleCluster']\n",
        "    if np.isnan(age):\n",
        "      if title == 'Dona':\n",
        "          return 39\n",
        "      elif title == 'Master':\n",
        "          return 6\n",
        "      elif title == 'Miss':\n",
        "          return 21\n",
        "      elif title == 'Mr':\n",
        "        return 32\n",
        "      elif title == 'Mrs':\n",
        "        return 37\n",
        "    else:\n",
        "      return age\n",
        "\n",
        "train_df['Age'] = train_df.apply(fill_missing_age, axis=1)\n",
        "test_df['Age'] = test_df.apply(fill_missing_age, axis=1)"
      ],
      "execution_count": 514,
      "outputs": []
    },
    {
      "cell_type": "code",
      "metadata": {
        "id": "b6W3m_4CSCZj"
      },
      "source": [
        "# Manage missing Embarked\n",
        "def fill_missing_embarked(x):\n",
        "    embarked = x['Embarked']\n",
        "    if embarked != embarked:\n",
        "      return \"X\"\n",
        "    else:\n",
        "      return embarked\n",
        "\n",
        "train_df['Embarked'] = train_df.apply(fill_missing_embarked, axis=1)\n",
        "test_df['Embarked'] = test_df.apply(fill_missing_embarked, axis=1)"
      ],
      "execution_count": 515,
      "outputs": []
    },
    {
      "cell_type": "code",
      "metadata": {
        "id": "ZC0eae5xEJOs"
      },
      "source": [
        "# train_df['Embarked'].hist(bins=10)"
      ],
      "execution_count": null,
      "outputs": []
    },
    {
      "cell_type": "code",
      "metadata": {
        "id": "8eiBZHlADF7E"
      },
      "source": [
        "train_df['AgeCluster'] = pd.cut(train_df['Age'], bins=[0, 5, 10, 20, 30, 40, 50, 60, 70, 81], include_lowest=True, labels=[0, 1, 2, 3, 4, 5, 6, 7, 8])\n",
        "train_df['FareCluster'] = pd.cut(train_df['Fare'], bins=[0, 51, 101, 2000], include_lowest=True, labels=[0, 1, 2])\n",
        "\n",
        "test_df['AgeCluster'] = pd.cut(test_df['Age'], bins=[0, 5, 10, 20, 30, 40, 50, 60, 70, 81], include_lowest=True, labels=[0, 1, 2, 3, 4, 5, 6, 7, 8])\n",
        "test_df['FareCluster'] = pd.cut(test_df['Fare'], bins=[0, 51, 101, 2000], include_lowest=True, labels=[0, 1, 2])\n",
        "\n",
        "categorical_columns = ['Pclass', 'Sex', 'SibSp', 'Parch', 'AgeCluster', 'FareCluster', 'Embarked', 'TicketCluster', 'TitleCluster']"
      ],
      "execution_count": 516,
      "outputs": []
    },
    {
      "cell_type": "code",
      "metadata": {
        "id": "2pT9WHiSIvG_"
      },
      "source": [
        "for column in categorical_columns:\n",
        "    train_df[column] = LabelEncoder().fit_transform(train_df[column])\n",
        "    test_df[column] = LabelEncoder().fit_transform(test_df[column])\n",
        "for column in categorical_columns:\n",
        "  train_df[column] = train_df[column].astype('category')\n",
        "  test_df[column] = test_df[column].astype('category')"
      ],
      "execution_count": 517,
      "outputs": []
    },
    {
      "cell_type": "code",
      "metadata": {
        "id": "EAauVM0xKQYZ"
      },
      "source": [
        "pclass_train = train_df['Pclass'].cat.codes.values\n",
        "sex_train = train_df['Sex'].cat.codes.values\n",
        "sibsp_train = train_df['SibSp'].cat.codes.values\n",
        "parch_train = train_df['Parch'].cat.codes.values\n",
        "ageCluster_train = train_df['AgeCluster'].cat.codes.values\n",
        "fareCluster_train = train_df['FareCluster'].cat.codes.values\n",
        "embarked_train = train_df['Embarked'].cat.codes.values\n",
        "ticketCluster_train = train_df['TicketCluster'].cat.codes.values\n",
        "titleCluster_train = train_df['TitleCluster'].cat.codes.values\n",
        "categorical_data_train = np.stack([pclass_train, sex_train, sibsp_train, parch_train, ageCluster_train, fareCluster_train, embarked_train, ticketCluster_train, titleCluster_train], 1)"
      ],
      "execution_count": 518,
      "outputs": []
    },
    {
      "cell_type": "code",
      "metadata": {
        "id": "00YhiAHUOWf6"
      },
      "source": [
        "tensor_data_train = torch.tensor(categorical_data_train, dtype=torch.int64)\n",
        "tensor_output_train = torch.tensor(train_df['Survived'].values).flatten()\n",
        "\n",
        "tensor_data_test = torch.tensor(categorical_data_test, dtype=torch.int64)"
      ],
      "execution_count": 519,
      "outputs": []
    },
    {
      "cell_type": "code",
      "metadata": {
        "id": "n6k2j2iWLdEm"
      },
      "source": [
        "temp_concat = pd.concat([train_df, test_df])\n",
        "categorical_columns_size = [len(temp_concat[column].astype('category').cat.categories) for column in categorical_columns]\n",
        "categorical_embedding_sizes = [(col_size, min(50, (col_size+1)//2)) for col_size in categorical_columns_size]\n",
        "total_records = len(train_df)\n",
        "test_records = int(total_records * 0.2)"
      ],
      "execution_count": 520,
      "outputs": []
    },
    {
      "cell_type": "code",
      "metadata": {
        "id": "J_BQPREIO9x6"
      },
      "source": [
        "tensor_train_data = tensor_data_train[:total_records-test_records]\n",
        "tensor_test_data = tensor_data_train[total_records-test_records:total_records]\n",
        "tensor_train_output = tensor_output_train[:total_records-test_records]\n",
        "tensor_test_output = tensor_output_train[total_records-test_records:total_records]"
      ],
      "execution_count": 521,
      "outputs": []
    },
    {
      "cell_type": "code",
      "metadata": {
        "id": "rGmxMRzyPnPS"
      },
      "source": [
        "class Model(nn.Module):\n",
        "  def __init__(self, embedding_sizes):\n",
        "    super().__init__()\n",
        "    self.embeddings = nn.ModuleList([nn.Embedding(categories, size) for categories,size in embedding_sizes])\n",
        "    n_emb = sum(e.embedding_dim for e in self.embeddings)\n",
        "    self.lin1 = nn.Linear(n_emb, 200)\n",
        "    self.lin2 = nn.Linear(200, 70)\n",
        "    self.lin3 = nn.Linear(70, 2)\n",
        "    self.bn1 = nn.BatchNorm1d(n_emb)\n",
        "    self.bn2 = nn.BatchNorm1d(200)\n",
        "    self.bn3 = nn.BatchNorm1d(70)\n",
        "    self.emb_drop = nn.Dropout(0.6)\n",
        "    self.drops = nn.Dropout(0.3)\n",
        "  def forward(self, x_cat):\n",
        "    x = [e(x_cat[:,i]) for i, e in enumerate(self.embeddings)]\n",
        "    x = torch.cat(x, 1)\n",
        "    x = self.emb_drop(x)\n",
        "    x = self.bn1(x)\n",
        "    x = self.lin1(x)\n",
        "    x = self.drops(x)\n",
        "    x = self.bn2(x)\n",
        "    x = F.relu(self.lin2(x))\n",
        "    x = self.drops(x)\n",
        "    x = self.bn3(x)\n",
        "    x = self.lin3(x)\n",
        "    return x"
      ],
      "execution_count": 522,
      "outputs": []
    },
    {
      "cell_type": "code",
      "metadata": {
        "id": "Xc-kqrVDs90n"
      },
      "source": [
        "model = Model(categorical_embedding_sizes)\n",
        "loss_function = nn.CrossEntropyLoss()\n",
        "optimizer = torch.optim.Adam(model.parameters(), lr=0.01)"
      ],
      "execution_count": 523,
      "outputs": []
    },
    {
      "cell_type": "code",
      "metadata": {
        "id": "UVCB45E088ol"
      },
      "source": [
        "epochs = 600\n",
        "aggregated_losses = []\n",
        "\n",
        "for i in range(epochs):\n",
        "    i += 1\n",
        "    y_pred = model(tensor_train_data)\n",
        "    single_loss = loss_function(y_pred, tensor_train_output)\n",
        "    aggregated_losses.append(single_loss)\n",
        "    if i%200 == 1:\n",
        "        print(\"epoch: \" + str(i) + \"\\tloss: \" + str(single_loss.item()))\n",
        "\n",
        "    optimizer.zero_grad()\n",
        "    single_loss.backward()\n",
        "    optimizer.step()\n",
        "\n",
        "print(\"epoch: \" + str(i) + \"\\tloss: \" + str(single_loss.item()))"
      ],
      "execution_count": null,
      "outputs": []
    },
    {
      "cell_type": "code",
      "metadata": {
        "id": "8-NJLACm9yFI"
      },
      "source": [
        "with torch.no_grad():\n",
        "    y_val = model(tensor_test_data)\n",
        "    loss = loss_function(y_val, tensor_test_output)\n",
        "print(\"Loss: \" + str(loss))"
      ],
      "execution_count": null,
      "outputs": []
    },
    {
      "cell_type": "code",
      "metadata": {
        "id": "nCcHJKfr-511"
      },
      "source": [
        "from sklearn.metrics import classification_report, confusion_matrix, accuracy_score\n",
        "\n",
        "y_val_sklearn = np.argmax(y_val, axis=1)\n",
        "\n",
        "print(\"\\nconfusion_matrix\")\n",
        "print(confusion_matrix(tensor_test_output, y_val_sklearn))\n",
        "print(\"\\nclassification_report\")\n",
        "print(classification_report(tensor_test_output, y_val_sklearn))\n",
        "print(\"\\naccuracy_score\")\n",
        "print(accuracy_score(tensor_test_output, y_val_sklearn))"
      ],
      "execution_count": null,
      "outputs": []
    },
    {
      "cell_type": "code",
      "metadata": {
        "id": "8HAQNxE5TirH"
      },
      "source": [
        "# Make predictions\n",
        "with torch.no_grad():\n",
        "    y_pred = model(tensor_data_test)\n",
        "print(\"Loss: \" + str(loss))"
      ],
      "execution_count": null,
      "outputs": []
    },
    {
      "cell_type": "code",
      "metadata": {
        "id": "L1JmP5XNgKEz",
        "outputId": "7419073f-77e3-42b2-bc52-4619d26ebd18",
        "colab": {
          "base_uri": "https://localhost:8080/",
          "height": 17
        }
      },
      "source": [
        "submission_df = pd.DataFrame({'PassengerId': test_df['PassengerId'], 'Survived': np.argmax(y_pred, axis=1)})\n",
        "from google.colab import files\n",
        "submission_df.to_csv('submission.csv', index=False)\n",
        "files.download('submission.csv')"
      ],
      "execution_count": 538,
      "outputs": [
        {
          "output_type": "display_data",
          "data": {
            "application/javascript": [
              "\n",
              "    async function download(id, filename, size) {\n",
              "      if (!google.colab.kernel.accessAllowed) {\n",
              "        return;\n",
              "      }\n",
              "      const div = document.createElement('div');\n",
              "      const label = document.createElement('label');\n",
              "      label.textContent = `Downloading \"${filename}\": `;\n",
              "      div.appendChild(label);\n",
              "      const progress = document.createElement('progress');\n",
              "      progress.max = size;\n",
              "      div.appendChild(progress);\n",
              "      document.body.appendChild(div);\n",
              "\n",
              "      const buffers = [];\n",
              "      let downloaded = 0;\n",
              "\n",
              "      const channel = await google.colab.kernel.comms.open(id);\n",
              "      // Send a message to notify the kernel that we're ready.\n",
              "      channel.send({})\n",
              "\n",
              "      for await (const message of channel.messages) {\n",
              "        // Send a message to notify the kernel that we're ready.\n",
              "        channel.send({})\n",
              "        if (message.buffers) {\n",
              "          for (const buffer of message.buffers) {\n",
              "            buffers.push(buffer);\n",
              "            downloaded += buffer.byteLength;\n",
              "            progress.value = downloaded;\n",
              "          }\n",
              "        }\n",
              "      }\n",
              "      const blob = new Blob(buffers, {type: 'application/binary'});\n",
              "      const a = document.createElement('a');\n",
              "      a.href = window.URL.createObjectURL(blob);\n",
              "      a.download = filename;\n",
              "      div.appendChild(a);\n",
              "      a.click();\n",
              "      div.remove();\n",
              "    }\n",
              "  "
            ],
            "text/plain": [
              "<IPython.core.display.Javascript object>"
            ]
          },
          "metadata": {
            "tags": []
          }
        },
        {
          "output_type": "display_data",
          "data": {
            "application/javascript": [
              "download(\"download_8ea633f2-4a34-4339-b6cb-770fd4749fc1\", \"submission.csv\", 2839)"
            ],
            "text/plain": [
              "<IPython.core.display.Javascript object>"
            ]
          },
          "metadata": {
            "tags": []
          }
        }
      ]
    }
  ]
}